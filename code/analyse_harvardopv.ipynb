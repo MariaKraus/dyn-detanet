{
 "cells": [
  {
   "cell_type": "code",
   "execution_count": 6,
   "metadata": {},
   "outputs": [
    {
     "ename": "FileNotFoundError",
     "evalue": "[Errno 2] No such file or directory: '/home/maria/dyn-detanet/data/HOPV_15_revised.data'",
     "output_type": "error",
     "traceback": [
      "\u001b[0;31m---------------------------------------------------------------------------\u001b[0m",
      "\u001b[0;31mFileNotFoundError\u001b[0m                         Traceback (most recent call last)",
      "Cell \u001b[0;32mIn[6], line 56\u001b[0m\n\u001b[1;32m     53\u001b[0m data_dir \u001b[38;5;241m=\u001b[39m os\u001b[38;5;241m.\u001b[39mpath\u001b[38;5;241m.\u001b[39mjoin(parent_dir, \u001b[38;5;124m'\u001b[39m\u001b[38;5;124mdata\u001b[39m\u001b[38;5;124m'\u001b[39m)\n\u001b[1;32m     55\u001b[0m file_path \u001b[38;5;241m=\u001b[39m data_dir \u001b[38;5;241m+\u001b[39m \u001b[38;5;124m\"\u001b[39m\u001b[38;5;124m/HOPV_15_revised.data\u001b[39m\u001b[38;5;124m\"\u001b[39m\n\u001b[0;32m---> 56\u001b[0m conformer_data \u001b[38;5;241m=\u001b[39m \u001b[43mread_data_file\u001b[49m\u001b[43m(\u001b[49m\u001b[43mfile_path\u001b[49m\u001b[43m)\u001b[49m\n\u001b[1;32m     57\u001b[0m display_conformer_data(conformer_data)\n",
      "Cell \u001b[0;32mIn[6], line 12\u001b[0m, in \u001b[0;36mread_data_file\u001b[0;34m(file_path)\u001b[0m\n\u001b[1;32m      2\u001b[0m \u001b[38;5;250m\u001b[39m\u001b[38;5;124;03m\"\"\"\u001b[39;00m\n\u001b[1;32m      3\u001b[0m \u001b[38;5;124;03mReads the .data file and extracts HOMO, LUMO, and GAP values for each conformer.\u001b[39;00m\n\u001b[1;32m      4\u001b[0m \u001b[38;5;124;03m\u001b[39;00m\n\u001b[0;32m   (...)\u001b[0m\n\u001b[1;32m      9\u001b[0m \u001b[38;5;124;03m    dict: A dictionary with conformer numbers as keys and their properties (HOMO, LUMO, GAP) as values.\u001b[39;00m\n\u001b[1;32m     10\u001b[0m \u001b[38;5;124;03m\"\"\"\u001b[39;00m\n\u001b[1;32m     11\u001b[0m conformers \u001b[38;5;241m=\u001b[39m {}  \u001b[38;5;66;03m# Store data for each conformer\u001b[39;00m\n\u001b[0;32m---> 12\u001b[0m \u001b[38;5;28;01mwith\u001b[39;00m \u001b[38;5;28;43mopen\u001b[39;49m\u001b[43m(\u001b[49m\u001b[43mfile_path\u001b[49m\u001b[43m,\u001b[49m\u001b[43m \u001b[49m\u001b[38;5;124;43m'\u001b[39;49m\u001b[38;5;124;43mr\u001b[39;49m\u001b[38;5;124;43m'\u001b[39;49m\u001b[43m)\u001b[49m \u001b[38;5;28;01mas\u001b[39;00m f:\n\u001b[1;32m     13\u001b[0m     lines \u001b[38;5;241m=\u001b[39m f\u001b[38;5;241m.\u001b[39mreadlines()\n\u001b[1;32m     15\u001b[0m conformer_idx \u001b[38;5;241m=\u001b[39m \u001b[38;5;28;01mNone\u001b[39;00m\n",
      "File \u001b[0;32m~/miniconda3/envs/pyg_conda/lib/python3.10/site-packages/IPython/core/interactiveshell.py:324\u001b[0m, in \u001b[0;36m_modified_open\u001b[0;34m(file, *args, **kwargs)\u001b[0m\n\u001b[1;32m    317\u001b[0m \u001b[38;5;28;01mif\u001b[39;00m file \u001b[38;5;129;01min\u001b[39;00m {\u001b[38;5;241m0\u001b[39m, \u001b[38;5;241m1\u001b[39m, \u001b[38;5;241m2\u001b[39m}:\n\u001b[1;32m    318\u001b[0m     \u001b[38;5;28;01mraise\u001b[39;00m \u001b[38;5;167;01mValueError\u001b[39;00m(\n\u001b[1;32m    319\u001b[0m         \u001b[38;5;124mf\u001b[39m\u001b[38;5;124m\"\u001b[39m\u001b[38;5;124mIPython won\u001b[39m\u001b[38;5;124m'\u001b[39m\u001b[38;5;124mt let you open fd=\u001b[39m\u001b[38;5;132;01m{\u001b[39;00mfile\u001b[38;5;132;01m}\u001b[39;00m\u001b[38;5;124m by default \u001b[39m\u001b[38;5;124m\"\u001b[39m\n\u001b[1;32m    320\u001b[0m         \u001b[38;5;124m\"\u001b[39m\u001b[38;5;124mas it is likely to crash IPython. If you know what you are doing, \u001b[39m\u001b[38;5;124m\"\u001b[39m\n\u001b[1;32m    321\u001b[0m         \u001b[38;5;124m\"\u001b[39m\u001b[38;5;124myou can use builtins\u001b[39m\u001b[38;5;124m'\u001b[39m\u001b[38;5;124m open.\u001b[39m\u001b[38;5;124m\"\u001b[39m\n\u001b[1;32m    322\u001b[0m     )\n\u001b[0;32m--> 324\u001b[0m \u001b[38;5;28;01mreturn\u001b[39;00m \u001b[43mio_open\u001b[49m\u001b[43m(\u001b[49m\u001b[43mfile\u001b[49m\u001b[43m,\u001b[49m\u001b[43m \u001b[49m\u001b[38;5;241;43m*\u001b[39;49m\u001b[43margs\u001b[49m\u001b[43m,\u001b[49m\u001b[43m \u001b[49m\u001b[38;5;241;43m*\u001b[39;49m\u001b[38;5;241;43m*\u001b[39;49m\u001b[43mkwargs\u001b[49m\u001b[43m)\u001b[49m\n",
      "\u001b[0;31mFileNotFoundError\u001b[0m: [Errno 2] No such file or directory: '/home/maria/dyn-detanet/data/HOPV_15_revised.data'"
     ]
    }
   ],
   "source": [
    "def read_data_file(file_path):\n",
    "    \"\"\"\n",
    "    Reads the .data file and extracts HOMO, LUMO, and GAP values for each conformer.\n",
    "    \n",
    "    Args:\n",
    "        file_path (str): Path to the .data file.\n",
    "    \n",
    "    Returns:\n",
    "        dict: A dictionary with conformer numbers as keys and their properties (HOMO, LUMO, GAP) as values.\n",
    "    \"\"\"\n",
    "    conformers = {}  # Store data for each conformer\n",
    "    with open(file_path, 'r') as f:\n",
    "        lines = f.readlines()\n",
    "\n",
    "    conformer_idx = None\n",
    "    for i, line in enumerate(lines):\n",
    "        line = line.strip()\n",
    "        if line.startswith(\"Conformer\"):  # Start of a new conformer\n",
    "            conformer_idx = int(line.split()[-1])  # Extract conformer number\n",
    "            conformers[conformer_idx] = {}\n",
    "        \n",
    "        if line.startswith(\"QChem\"):\n",
    "            parts = line.split(\",\")\n",
    "            method = parts[0].split()[1]  # Extract the DFT method (e.g., B3LYP)\n",
    "            homo = float(parts[1])  # HOMO value\n",
    "            lumo = float(parts[2])  # LUMO value\n",
    "            gap = float(parts[3])  # Gap value\n",
    "            conformers[conformer_idx][method] = {\"HOMO\": homo, \"LUMO\": lumo, \"GAP\": gap}\n",
    "\n",
    "    return conformers\n",
    "\n",
    "\n",
    "def display_conformer_data(conformers):\n",
    "    \"\"\"\n",
    "    Displays the extracted HOMO, LUMO, and GAP values for each conformer.\n",
    "    \n",
    "    Args:\n",
    "        conformers (dict): Conformer data as returned by `read_data_file`.\n",
    "    \"\"\"\n",
    "    for conformer, methods in conformers.items():\n",
    "        print(f\"Conformer {conformer}:\")\n",
    "        for method, values in methods.items():\n",
    "            print(f\"  {method}: HOMO = {values['HOMO']:.3f}, LUMO = {values['LUMO']:.3f}, GAP = {values['GAP']:.3f}\")\n",
    "        print()\n",
    "\n",
    "import os\n",
    "import os\n",
    "from pathlib import Path\n",
    "\n",
    "\n",
    "notebook_dir = Path(os.getcwd())\n",
    "parent_dir = os.path.dirname(notebook_dir)\n",
    "data_dir = os.path.join(parent_dir, 'data')\n",
    "\n",
    "file_path = data_dir + \"/HOPV_15_revised.data\"\n",
    "conformer_data = read_data_file(file_path)\n",
    "display_conformer_data(conformer_data)\n"
   ]
  },
  {
   "cell_type": "code",
   "execution_count": 7,
   "metadata": {},
   "outputs": [
    {
     "name": "stdout",
     "output_type": "stream",
     "text": [
      "Data(pos=[68], z=[68], homo=-0.187, lumo=-0.099, gap=0.088, conformer=1)\n"
     ]
    }
   ],
   "source": [
    "import os\n",
    "from torch_geometric.data import Data\n",
    "\n",
    "def read_harvard_opv(file_path):\n",
    "    \"\"\"\n",
    "    Reads the Harvard OPV dataset file and transforms it into a list of Data objects.\n",
    "    \n",
    "    Args:\n",
    "        file_path (str): Path to the Harvard OPV .data file.\n",
    "    \n",
    "    Returns:\n",
    "        data_list (list): List of Data objects.\n",
    "    \"\"\"\n",
    "    data_list = []\n",
    "\n",
    "    with open(file_path, 'r') as f:\n",
    "        lines = f.readlines()\n",
    "\n",
    "    i = 0\n",
    "    while i < len(lines):\n",
    "        line = lines[i].strip()\n",
    "        if line.startswith(\"Conformer\"):\n",
    "            # Parse the conformer information\n",
    "            conformer_number = int(line.split(\" \")[1])\n",
    "\n",
    "            # Get the number of atoms\n",
    "            i += 1\n",
    "            num_atoms = int(lines[i].strip())\n",
    "\n",
    "            # Parse atomic positions and numbers\n",
    "            pos = []\n",
    "            z = []\n",
    "            for _ in range(num_atoms):\n",
    "                i += 1\n",
    "                atom_line = lines[i].strip().split()\n",
    "                z.append(get_atomic_number(atom_line[0]))  # Convert element symbol to atomic number\n",
    "                pos.append([float(atom_line[1]), float(atom_line[2]), float(atom_line[3])])\n",
    "\n",
    "            # Parse the next line for property values (HOMO, LUMO, gap)\n",
    "            i += 1\n",
    "            properties = lines[i].strip().split(\",\")\n",
    "            homo = float(properties[1])  # HOMO value\n",
    "            lumo = float(properties[2])  # LUMO value\n",
    "            gap = float(properties[3])  # Gap value\n",
    "\n",
    "            # Create a Data object\n",
    "            data = Data(\n",
    "                pos=pos,                # Atomic positions\n",
    "                z=z,                    # Atomic numbers\n",
    "                homo=homo,              # HOMO value\n",
    "                lumo=lumo,              # LUMO value\n",
    "                gap=gap,                # Gap value\n",
    "                conformer=conformer_number  # Conformer ID\n",
    "            )\n",
    "            data_list.append(data)\n",
    "\n",
    "        i += 1  # Move to the next line\n",
    "\n",
    "    return data_list\n",
    "\n",
    "\n",
    "def get_atomic_number(symbol):\n",
    "    \"\"\"\n",
    "    Converts an atomic symbol to its atomic number.\n",
    "    \n",
    "    Args:\n",
    "        symbol (str): Atomic symbol (e.g., 'C', 'H').\n",
    "    \n",
    "    Returns:\n",
    "        atomic_number (int): Corresponding atomic number.\n",
    "    \"\"\"\n",
    "    periodic_table = {\n",
    "        'H': 1, 'He': 2, 'Li': 3, 'Be': 4, 'B': 5, 'C': 6, 'N': 7, 'O': 8, 'F': 9, 'Ne': 10,\n",
    "        'Na': 11, 'Mg': 12, 'Al': 13, 'Si': 14, 'P': 15, 'S': 16, 'Cl': 17, 'Ar': 18, 'K': 19,\n",
    "        'Ca': 20, 'Sc': 21, 'Ti': 22, 'V': 23, 'Cr': 24, 'Mn': 25, 'Fe': 26, 'Co': 27, 'Ni': 28,\n",
    "        'Cu': 29, 'Zn': 30, 'Ga': 31, 'Ge': 32, 'As': 33, 'Se': 34, 'Br': 35, 'Kr': 36, 'Rb': 37,\n",
    "        'Sr': 38, 'Y': 39, 'Zr': 40, 'Nb': 41, 'Mo': 42, 'Tc': 43, 'Ru': 44, 'Rh': 45, 'Pd': 46,\n",
    "        'Ag': 47, 'Cd': 48, 'In': 49, 'Sn': 50, 'Sb': 51, 'Te': 52, 'I': 53, 'Xe': 54, 'Cs': 55,\n",
    "        'Ba': 56, 'La': 57, 'Ce': 58, 'Pr': 59, 'Nd': 60, 'Pm': 61, 'Sm': 62, 'Eu': 63, 'Gd': 64,\n",
    "        'Tb': 65, 'Dy': 66, 'Ho': 67, 'Er': 68, 'Tm': 69, 'Yb': 70, 'Lu': 71, 'Hf': 72, 'Ta': 73,\n",
    "        'W': 74, 'Re': 75, 'Os': 76, 'Ir': 77, 'Pt': 78, 'Au': 79, 'Hg': 80, 'Tl': 81, 'Pb': 82,\n",
    "        'Bi': 83, 'Po': 84, 'At': 85, 'Rn': 86, 'Fr': 87, 'Ra': 88, 'Ac': 89, 'Th': 90, 'Pa': 91,\n",
    "        'U': 92, 'Np': 93, 'Pu': 94, 'Am': 95, 'Cm': 96, 'Bk': 97, 'Cf': 98, 'Es': 99, 'Fm': 100,\n",
    "        'Md': 101, 'No': 102, 'Lr': 103\n",
    "    }\n",
    "    return periodic_table[symbol]\n",
    "\n",
    "\n",
    "# Example Usage\n",
    "file_path = \"/media/maria/work_space/capsule-3259363/data/HOPV_15_revised_2.data\"  # Replace with the actual file path\n",
    "data_list = read_harvard_opv(file_path)\n",
    "\n",
    "# Print the first data object as an example\n",
    "print(data_list[0])\n"
   ]
  },
  {
   "cell_type": "code",
   "execution_count": 8,
   "metadata": {},
   "outputs": [
    {
     "name": "stdout",
     "output_type": "stream",
     "text": [
      "[6, 6, 6, 6, 6, 6, 6, 6, 6, 6, 6, 6, 6, 6, 16, 6, 6, 6, 6, 6, 16, 6, 6, 6, 16, 6, 8, 8, 16, 6, 16, 16, 6, 6, 6, 6, 6, 6, 6, 16, 6, 6, 6, 16, 6, 16, 1, 1, 1, 1, 1, 1, 1, 1, 1, 1, 1, 1, 1, 1, 1, 1, 1, 1, 1, 1, 1, 1]\n"
     ]
    }
   ],
   "source": [
    "print(data_list[0].z)"
   ]
  },
  {
   "cell_type": "code",
   "execution_count": 9,
   "metadata": {},
   "outputs": [
    {
     "name": "stdout",
     "output_type": "stream",
     "text": [
      "4855\n"
     ]
    }
   ],
   "source": [
    "print(len(data_list))"
   ]
  },
  {
   "cell_type": "code",
   "execution_count": null,
   "metadata": {},
   "outputs": [],
   "source": []
  }
 ],
 "metadata": {
  "kernelspec": {
   "display_name": "pyg_conda",
   "language": "python",
   "name": "python3"
  },
  "language_info": {
   "codemirror_mode": {
    "name": "ipython",
    "version": 3
   },
   "file_extension": ".py",
   "mimetype": "text/x-python",
   "name": "python",
   "nbconvert_exporter": "python",
   "pygments_lexer": "ipython3",
   "version": "3.10.16"
  }
 },
 "nbformat": 4,
 "nbformat_minor": 2
}
