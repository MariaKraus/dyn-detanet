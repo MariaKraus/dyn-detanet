{
 "cells": [
  {
   "cell_type": "code",
<<<<<<< HEAD
   "execution_count": 1,
=======
   "execution_count": 57,
>>>>>>> freq-concat
   "metadata": {},
   "outputs": [],
   "source": [
    "import copy\n",
    "import os\n",
    "import os.path as osp\n",
    "import csv\n",
    "import util as ut\n",
    "import pandas as pd\n",
    "\n",
    "import torch.nn as nn\n",
    "import torch.nn.functional as F\n",
    "from torch.nn import GRU, Linear, ReLU, Sequential\n",
    "\n",
    "import torch_geometric.transforms as T\n",
    "from torch_geometric.data import Data\n",
    "from torch_geometric.datasets import QM9\n",
    "from torch_geometric.loader import DataLoader\n",
    "from torch_geometric.loader import DataLoader\n",
    "from torch_geometric.nn import NNConv, Set2Set\n",
    "from torch_geometric.utils import remove_self_loops\n",
    "from torch_geometric.nn import global_mean_pool\n",
    "import torch_geometric\n",
    "import logging\n",
    "\n",
    "from pathlib import Path\n",
    "import trainer\n",
    "import json \n",
    "\n",
    "from detanet_model import *\n",
    "import wandb"
   ]
  },
  {
   "cell_type": "code",
<<<<<<< HEAD
   "execution_count": 2,
=======
   "execution_count": 58,
>>>>>>> freq-concat
   "metadata": {},
   "outputs": [],
   "source": [
    "import random\n",
    "random.seed(42)"
   ]
  },
  {
   "cell_type": "code",
<<<<<<< HEAD
   "execution_count": 3,
=======
   "execution_count": 59,
>>>>>>> freq-concat
   "metadata": {},
   "outputs": [],
   "source": [
    "batch_size = 128\n",
    "epochs = 60\n",
    "lr=5e-4\n",
    "num_freqs=61\n",
    "\n",
    "high_spec_cutoff = 0.1\n",
    "low_fraction = 0.006"
   ]
  },
  {
   "cell_type": "code",
<<<<<<< HEAD
   "execution_count": 10,
=======
   "execution_count": 60,
>>>>>>> freq-concat
   "metadata": {},
   "outputs": [],
   "source": [
    "\n",
    "current_dir = os.getcwd()\n",
    "parent_dir = os.path.dirname(current_dir)\n",
    "data_dir = os.path.join(parent_dir, 'data')\n",
    "csv_path = data_dir + \"/ee_polarizabilities_qm9s.csv\"\n",
    "\n",
    "dataset = []\n",
    "frequencies = ut.load_unique_frequencies(csv_path)\n",
    "\n",
    "csv_path_geometries = data_dir + \"/KITqm9_geometries.csv\"\n",
    "geometries = ut.load_geometry(csv_path_geometries)\n",
    "\n",
    "csv_spectra = data_dir + \"/DATA_QM9_reduced_2025_03_06.csv\"\n",
    "sprectras = ut.load_spectra(csv_spectra)\n",
    "\n",
<<<<<<< HEAD
    "model_path = \"trained_param/ee_polarizabilities_all_freq_KITqm9_smaller_than_0.000005_no_normalization.pth\""
=======
    "model_path = \"trained_param/ee_polarizabilities_all_freq_KITqm9_low_fraction_0_006.pth\""
>>>>>>> freq-concat
   ]
  },
  {
   "cell_type": "code",
<<<<<<< HEAD
   "execution_count": 11,
=======
   "execution_count": 61,
>>>>>>> freq-concat
   "metadata": {},
   "outputs": [],
   "source": [
    "count = 0\n",
    "\n",
    "with open(csv_path, newline='', encoding='utf-8') as csvfile:\n",
    "    csv_reader = csv.reader(csvfile, delimiter=',')\n",
    "    \n",
    "    # Read the header to identify column indices\n",
    "    header = next(csv_reader)\n",
    "    frequency_idx = header.index(\"frequency\")\n",
    "    matrix_real_idx = header.index(\"matrix_real\")\n",
    "    matrix_imag_idx = header.index(\"matrix_imag\")\n",
    "    \n",
    "    # Read each row\n",
    "    for row in csv_reader:\n",
    "        try:\n",
    "            idx = int(row[0])\n",
    "        except ValueError:\n",
    "            print(\"Can't read index:\", row[0])\n",
    "            continue\n",
    "\n",
    "        freq_str = row[frequency_idx]\n",
    "        try:\n",
    "            freq_val = float(freq_str)\n",
    "        except ValueError:\n",
    "            continue\n",
    "\n",
    "        if freq_val not in frequencies:\n",
    "            continue\n",
    "\n",
    "        mol = None\n",
    "        # Now you can look up any 'idx' in constant time\n",
    "        if idx in geometries:\n",
    "            mol = geometries[idx]\n",
    "        else:\n",
    "            continue        \n",
    "        pos = mol.pos\n",
    "        z = mol.z\n",
    "        spectrum_value = ut.get_closest_spectrum_value(sprectras, idx, freq_val)\n",
    "\n",
    "        # Parse JSON for real matrix\n",
    "        matrix_real_str = row[matrix_real_idx]\n",
    "        matrix_imag_str = row[matrix_imag_idx]\n",
    "        try:\n",
    "            real_3x3 = json.loads(matrix_real_str)  # expected shape [3,3]\n",
    "        except json.JSONDecodeError:\n",
    "            print(\"Warning: Could not parse real part of matrix for idx:\", idx)\n",
    "            continue\n",
    "\n",
    "        try:\n",
    "            imag_3x3 = json.loads(matrix_imag_str)  # expected shape [3,3]\n",
    "        except json.JSONDecodeError:\n",
    "            print(\"Warning: Could not parse imaginary part of matrix for idx:\", idx)\n",
    "            continue\n",
    "\n",
    "        real_mat = torch.tensor(real_3x3, dtype=torch.float32)\n",
    "        imag_mat = torch.tensor(imag_3x3, dtype=torch.float32)\n",
    "        \n",
    "        y = torch.cat([real_mat, imag_mat], dim=-1)  # shape [12]\n",
    "            \n",
    "        data_entry = Data(\n",
    "            idx = mol.idx,\n",
    "            pos=pos.to(torch.float32),    # Atomic positions\n",
    "            z=torch.LongTensor(z),        # Atomic numbers\n",
    "            freq=torch.tensor(float(freq_val), dtype=torch.float32),\n",
    "            spec=torch.tensor(float(spectrum_value), dtype=torch.float32),\n",
    "            y=y,  # Polarizability tensor (target)\n",
    "        )\n",
<<<<<<< HEAD
    "        if spectrum_value < 0.000005:#> high_spec_cutoff:\n",
    "            dataset.append(data_entry)\n",
    "            count += 1\n",
    "        #else:\n",
    "         #   # Randomly sample ~0.2% of the \"low-spec\" data\n",
    "          #  if random.random() < low_fraction:\n",
    "           #     dataset.append(data_entry)\n",
=======
    "        if spectrum_value > high_spec_cutoff:\n",
    "            dataset.append(data_entry)\n",
    "            count += 1\n",
    "        else:\n",
    "            # Randomly sample ~0.2% of the \"low-spec\" data\n",
    "            if random.random() < low_fraction:\n",
    "                dataset.append(data_entry)\n",
>>>>>>> freq-concat
    "                "
   ]
  },
  {
   "cell_type": "code",
<<<<<<< HEAD
   "execution_count": 12,
=======
   "execution_count": 62,
>>>>>>> freq-concat
   "metadata": {},
   "outputs": [
    {
     "name": "stdout",
     "output_type": "stream",
     "text": [
<<<<<<< HEAD
      "Collected 14258 high-spec (>0.1) entries.\n",
      "Total dataset length: 14258\n",
      "dataset[0] : 34 tensor(1.5498) tensor(4.1297e-06)\n",
      "dataset[5] : 34 tensor(1.9373) tensor(4.5888e-06)\n"
=======
      "Collected 302 high-spec (>0.1) entries.\n",
      "Total dataset length: 1027\n",
      "dataset[0] : 202 tensor(1.5498) tensor(1.4367e-05)\n",
      "dataset[5] : 416 tensor(5.1918) tensor(1.9698e-05)\n"
>>>>>>> freq-concat
     ]
    }
   ],
   "source": [
    "\n",
    "print(f\"Collected {count} high-spec (>0.1) entries.\")\n",
    "print(f\"Total dataset length: {len(dataset)}\")\n",
    "\n",
    "ex1 = dataset[0]\n",
    "ex2 = dataset[5]\n",
    "\n",
    "print(\"dataset[0] :\", ex1.idx, ex1.freq, ex1.spec)\n",
    "print(\"dataset[5] :\", ex2.idx, ex2.freq, ex2.spec)"
   ]
  },
  {
   "cell_type": "code",
<<<<<<< HEAD
   "execution_count": 13,
=======
   "execution_count": 63,
>>>>>>> freq-concat
   "metadata": {},
   "outputs": [
    {
     "name": "stdout",
     "output_type": "stream",
     "text": [
<<<<<<< HEAD
      "Spec mean, std = 3.6401959711930043e-06 8.679641285570667e-07\n"
=======
      "Spec mean, std = 0.051924891750768254 0.0951434506295883\n"
>>>>>>> freq-concat
     ]
    }
   ],
   "source": [
    "spec_values = [item.spec.item() for item in dataset]\n",
    "spec_mean = np.mean(spec_values)\n",
    "spec_std = np.std(spec_values)\n",
    "\n",
    "print(\"Spec mean, std =\", spec_mean, spec_std)\n",
    "for item in dataset:\n",
    "    old_val = item.spec.item()\n",
    "    norm_val = (old_val - spec_mean) / (spec_std + 1e-8)  # avoid div by zero\n",
    "    item.spec = torch.tensor(norm_val, dtype=torch.float32)"
   ]
  },
  {
   "cell_type": "code",
<<<<<<< HEAD
   "execution_count": 14,
   "metadata": {},
   "outputs": [
    {
     "data": {
      "text/plain": [
       "'\\nimport numpy as np\\n\\ny_vals = []\\n\\nfor item in dataset:\\n    y = item.y.reshape(-1).tolist()   \\n    y_vals.extend(y)\\n# compute mean, std\\ny_mean, y_std = np.mean(y_vals), np.std(y_vals)\\n\\nprint(\"y mean, std =\", y_mean, y_std)\\n\\n# Now transform each data entry\\nfor item in dataset:\\n    y = item.y  # [3,6]\\n    # 4) do standard z-score\\n    y_norm = (y - y_mean)/(y_std + 1e-8)\\n    item.y = y_norm\"\\n'"
      ]
     },
     "execution_count": 14,
     "metadata": {},
     "output_type": "execute_result"
    }
   ],
   "source": [
    "\"\"\"\n",
    "import numpy as np\n",
    "\n",
    "y_vals = []\n",
    "\n",
    "for item in dataset:\n",
    "    y = item.y.reshape(-1).tolist()   \n",
    "    y_vals.extend(y)\n",
    "# compute mean, std\n",
    "y_mean, y_std = np.mean(y_vals), np.std(y_vals)\n",
    "\n",
    "print(\"y mean, std =\", y_mean, y_std)\n",
=======
   "execution_count": 64,
   "metadata": {},
   "outputs": [
    {
     "name": "stdout",
     "output_type": "stream",
     "text": [
      "Real mean, std = 31.399704151449814 165.56148659246568\n",
      "Imag mean, std = 30.816447998693935 226.93200375170045\n"
     ]
    }
   ],
   "source": [
    "\n",
    "import numpy as np\n",
    "\n",
    "real_vals = []\n",
    "imag_vals = []\n",
    "\n",
    "for item in dataset:\n",
    "    y = item.y  # shape [3,6]\n",
    "    # real => columns [:,:3]\n",
    "    # imag => columns [:,3:]\n",
    "    real_part = y[:, :3].reshape(-1).tolist()   # shape [9]\n",
    "    imag_part = y[:, 3:].reshape(-1).tolist()   # shape [9]\n",
    "    real_vals.extend(real_part)\n",
    "    imag_vals.extend(imag_part)\n",
    "\n",
    "# compute mean, std\n",
    "real_mean, real_std = np.mean(real_vals), np.std(real_vals)\n",
    "imag_mean, imag_std = np.mean(imag_vals), np.std(imag_vals)\n",
    "\n",
    "print(\"Real mean, std =\", real_mean, real_std)\n",
    "print(\"Imag mean, std =\", imag_mean, imag_std)\n",
>>>>>>> freq-concat
    "\n",
    "# Now transform each data entry\n",
    "for item in dataset:\n",
    "    y = item.y  # [3,6]\n",
<<<<<<< HEAD
    "    # 4) do standard z-score\n",
    "    y_norm = (y - y_mean)/(y_std + 1e-8)\n",
    "    item.y = y_norm\"\n",
    "\"\"\""
=======
    "    \n",
    "    # real => y[:, :3], shape [3,3]\n",
    "    # imag => y[:, 3:], shape [3,3]\n",
    "    real_slice = y[:, :3]\n",
    "    imag_slice = y[:, 3:]\n",
    "    \n",
    "    # 4) do standard z-score\n",
    "    real_norm = (real_slice - real_mean)/(real_std + 1e-8)\n",
    "    imag_norm = (imag_slice - imag_mean)/(imag_std + 1e-8)\n",
    "    \n",
    "    # reassign\n",
    "    y[:, :3] = real_norm\n",
    "    y[:, 3:] = imag_norm\n",
    "    \n",
    "    item.y = y"
>>>>>>> freq-concat
   ]
  },
  {
   "cell_type": "code",
<<<<<<< HEAD
   "execution_count": 15,
=======
   "execution_count": 65,
>>>>>>> freq-concat
   "metadata": {},
   "outputs": [],
   "source": [
    "device = torch.device(\"cuda\") if torch.cuda.is_available() else torch.device(\"cpu\")\n",
    "\n",
    "model = DetaNet(num_features=128,\n",
    "                    act='swish',\n",
    "                    maxl=3,\n",
    "                    num_block=3,\n",
    "                    radial_type='trainable_bessel',\n",
    "                    num_radial=32,\n",
    "                    attention_head=8,\n",
    "                    rc=5.0,\n",
    "                    dropout=0.0,\n",
    "                    use_cutoff=False,\n",
    "                    max_atomic_number=9,\n",
    "                    atom_ref=None,\n",
    "                    scale=1.0,\n",
    "                    scalar_outsize= 4, # 2,#4, \n",
    "                    irreps_out= '2x2e', #'2e',# '2e+2e',\n",
    "                    summation=True,\n",
    "                    norm=False,\n",
    "                    out_type='complex_2_tensor', # '2_tensor',\n",
    "                    grad_type=None,\n",
    "                    device=device)"
   ]
  },
  {
   "cell_type": "code",
<<<<<<< HEAD
   "execution_count": 16,
=======
   "execution_count": 66,
>>>>>>> freq-concat
   "metadata": {},
   "outputs": [
    {
     "data": {
      "text/plain": [
       "DetaNet(\n",
       "  (Embedding): Embedding(\n",
       "    (act): Swish()\n",
       "    (elec_emb): Linear(in_features=16, out_features=128, bias=False)\n",
       "    (nuclare_emb): Embedding(10, 128)\n",
       "    (ls): Linear(in_features=128, out_features=128, bias=True)\n",
       "  )\n",
       "  (Radial): Radial_Basis(\n",
       "    (radial): Bessel_Function()\n",
       "  )\n",
       "  (blocks): Sequential(\n",
       "    (0): Interaction_Block(\n",
       "      (message): Message(\n",
       "        (Attention): Edge_Attention(\n",
       "          (actq): Swish()\n",
       "          (actk): Swish()\n",
       "          (actv): Swish()\n",
       "          (acta): Swish()\n",
       "          (softmax): Softmax(dim=-1)\n",
       "          (lq): Linear(in_features=128, out_features=128, bias=True)\n",
       "          (lk): Linear(in_features=128, out_features=128, bias=True)\n",
       "          (lv): Linear(in_features=128, out_features=256, bias=True)\n",
       "          (la): Linear(in_features=256, out_features=256, bias=True)\n",
       "          (lrbf): Linear(in_features=32, out_features=128, bias=False)\n",
       "          (lkrbf): Linear(in_features=128, out_features=128, bias=False)\n",
       "          (lvrbf): Linear(in_features=128, out_features=256, bias=False)\n",
       "        )\n",
       "        (tp): TensorProduct(128x0e x 1x1o+1x2e+1x3o -> 128x1o+128x2e+128x3o | 384 paths | 384 weights)\n",
       "      )\n",
       "      (update): Update(\n",
       "        (actu): Swish()\n",
       "        (drop): Dropout(p=0.0, inplace=False)\n",
       "        (outt): Linear(128x1o+128x2e+128x3o -> 128x1o+128x2e+128x3o | 49152 weights)\n",
       "        (outs): Linear(in_features=128, out_features=128, bias=True)\n",
       "        (uattn): Tensorproduct_Attention(\n",
       "          (lq): Linear(128x1o+128x2e+128x3o -> 128x1o+128x2e+128x3o | 49152 weights)\n",
       "          (lk): Linear(128x1o+128x2e+128x3o -> 128x1o+128x2e+128x3o | 49152 weights)\n",
       "          (lv): Linear(128x1o+128x2e+128x3o -> 128x1o+128x2e+128x3o | 49152 weights)\n",
       "          (ls): Linear(in_features=128, out_features=256, bias=True)\n",
       "          (lvs): Linear(in_features=128, out_features=128, bias=True)\n",
       "          (tp1): TensorProduct(128x1o+128x2e+128x3o x 128x1o+128x2e+128x3o -> 128x0e | 384 paths | 0 weights)\n",
       "          (tp2): TensorProduct(128x0e x 128x1o+128x2e+128x3o -> 128x1o+128x2e+128x3o | 384 paths | 384 weights)\n",
       "          (softmax): Softmax(dim=-1)\n",
       "          (actlvs): Swish()\n",
       "        )\n",
       "        (spec_mlp): Sequential(\n",
       "          (0): Linear(in_features=1, out_features=32, bias=True)\n",
       "          (1): Swish()\n",
       "          (2): Linear(in_features=32, out_features=2, bias=True)\n",
       "        )\n",
       "      )\n",
       "    )\n",
       "    (1): Interaction_Block(\n",
       "      (message): Message(\n",
       "        (Attention): Edge_Attention(\n",
       "          (actq): Swish()\n",
       "          (actk): Swish()\n",
       "          (actv): Swish()\n",
       "          (acta): Swish()\n",
       "          (softmax): Softmax(dim=-1)\n",
       "          (lq): Linear(in_features=128, out_features=128, bias=True)\n",
       "          (lk): Linear(in_features=128, out_features=128, bias=True)\n",
       "          (lv): Linear(in_features=128, out_features=256, bias=True)\n",
       "          (la): Linear(in_features=256, out_features=256, bias=True)\n",
       "          (lrbf): Linear(in_features=32, out_features=128, bias=False)\n",
       "          (lkrbf): Linear(in_features=128, out_features=128, bias=False)\n",
       "          (lvrbf): Linear(in_features=128, out_features=256, bias=False)\n",
       "        )\n",
       "        (tp): TensorProduct(128x0e x 1x1o+1x2e+1x3o -> 128x1o+128x2e+128x3o | 384 paths | 384 weights)\n",
       "      )\n",
       "      (update): Update(\n",
       "        (actu): Swish()\n",
       "        (drop): Dropout(p=0.0, inplace=False)\n",
       "        (outt): Linear(128x1o+128x2e+128x3o -> 128x1o+128x2e+128x3o | 49152 weights)\n",
       "        (outs): Linear(in_features=128, out_features=128, bias=True)\n",
       "        (uattn): Tensorproduct_Attention(\n",
       "          (lq): Linear(128x1o+128x2e+128x3o -> 128x1o+128x2e+128x3o | 49152 weights)\n",
       "          (lk): Linear(128x1o+128x2e+128x3o -> 128x1o+128x2e+128x3o | 49152 weights)\n",
       "          (lv): Linear(128x1o+128x2e+128x3o -> 128x1o+128x2e+128x3o | 49152 weights)\n",
       "          (ls): Linear(in_features=128, out_features=256, bias=True)\n",
       "          (lvs): Linear(in_features=128, out_features=128, bias=True)\n",
       "          (tp1): TensorProduct(128x1o+128x2e+128x3o x 128x1o+128x2e+128x3o -> 128x0e | 384 paths | 0 weights)\n",
       "          (tp2): TensorProduct(128x0e x 128x1o+128x2e+128x3o -> 128x1o+128x2e+128x3o | 384 paths | 384 weights)\n",
       "          (softmax): Softmax(dim=-1)\n",
       "          (actlvs): Swish()\n",
       "        )\n",
       "        (spec_mlp): Sequential(\n",
       "          (0): Linear(in_features=1, out_features=32, bias=True)\n",
       "          (1): Swish()\n",
       "          (2): Linear(in_features=32, out_features=2, bias=True)\n",
       "        )\n",
       "      )\n",
       "    )\n",
       "    (2): Interaction_Block(\n",
       "      (message): Message(\n",
       "        (Attention): Edge_Attention(\n",
       "          (actq): Swish()\n",
       "          (actk): Swish()\n",
       "          (actv): Swish()\n",
       "          (acta): Swish()\n",
       "          (softmax): Softmax(dim=-1)\n",
       "          (lq): Linear(in_features=128, out_features=128, bias=True)\n",
       "          (lk): Linear(in_features=128, out_features=128, bias=True)\n",
       "          (lv): Linear(in_features=128, out_features=256, bias=True)\n",
       "          (la): Linear(in_features=256, out_features=256, bias=True)\n",
       "          (lrbf): Linear(in_features=32, out_features=128, bias=False)\n",
       "          (lkrbf): Linear(in_features=128, out_features=128, bias=False)\n",
       "          (lvrbf): Linear(in_features=128, out_features=256, bias=False)\n",
       "        )\n",
       "        (tp): TensorProduct(128x0e x 1x1o+1x2e+1x3o -> 128x1o+128x2e+128x3o | 384 paths | 384 weights)\n",
       "      )\n",
       "      (update): Update(\n",
       "        (actu): Swish()\n",
       "        (drop): Dropout(p=0.0, inplace=False)\n",
       "        (outt): Linear(128x1o+128x2e+128x3o -> 128x1o+128x2e+128x3o | 49152 weights)\n",
       "        (outs): Linear(in_features=128, out_features=128, bias=True)\n",
       "        (uattn): Tensorproduct_Attention(\n",
       "          (lq): Linear(128x1o+128x2e+128x3o -> 128x1o+128x2e+128x3o | 49152 weights)\n",
       "          (lk): Linear(128x1o+128x2e+128x3o -> 128x1o+128x2e+128x3o | 49152 weights)\n",
       "          (lv): Linear(128x1o+128x2e+128x3o -> 128x1o+128x2e+128x3o | 49152 weights)\n",
       "          (ls): Linear(in_features=128, out_features=256, bias=True)\n",
       "          (lvs): Linear(in_features=128, out_features=128, bias=True)\n",
       "          (tp1): TensorProduct(128x1o+128x2e+128x3o x 128x1o+128x2e+128x3o -> 128x0e | 384 paths | 0 weights)\n",
       "          (tp2): TensorProduct(128x0e x 128x1o+128x2e+128x3o -> 128x1o+128x2e+128x3o | 384 paths | 384 weights)\n",
       "          (softmax): Softmax(dim=-1)\n",
       "          (actlvs): Swish()\n",
       "        )\n",
       "        (spec_mlp): Sequential(\n",
       "          (0): Linear(in_features=1, out_features=32, bias=True)\n",
       "          (1): Swish()\n",
       "          (2): Linear(in_features=32, out_features=2, bias=True)\n",
       "        )\n",
       "      )\n",
       "    )\n",
       "  )\n",
       "  (tout): Equivariant_Multilayer(\n",
       "    (e_mlp): Sequential(\n",
       "      (0): Linear(128x1o+128x2e+128x3o -> 128x2e | 16384 weights)\n",
       "      (1): Activation [ ] (128x2e -> 128x2e)\n",
       "      (2): Linear(128x2e -> 2x2e | 256 weights)\n",
       "    )\n",
       "  )\n",
       "  (sout): MLP(\n",
       "    (mlp): Sequential(\n",
       "      (0): Linear(in_features=128, out_features=128, bias=True)\n",
       "      (1): Swish()\n",
       "      (2): Dropout(p=0.0, inplace=False)\n",
       "      (3): Linear(in_features=128, out_features=4, bias=True)\n",
       "    )\n",
       "  )\n",
       ")"
      ]
     },
<<<<<<< HEAD
     "execution_count": 16,
=======
     "execution_count": 66,
>>>>>>> freq-concat
     "metadata": {},
     "output_type": "execute_result"
    }
   ],
   "source": [
    "state_dict = torch.load(model_path)\n",
    "model.load_state_dict(state_dict=state_dict)\n",
    "model.to(device)"
   ]
  },
  {
   "cell_type": "code",
<<<<<<< HEAD
   "execution_count": 17,
   "metadata": {},
   "outputs": [],
   "source": [
    "sample = dataset[1]\n"
=======
   "execution_count": 67,
   "metadata": {},
   "outputs": [],
   "source": [
    "sample = dataset[30]\n"
>>>>>>> freq-concat
   ]
  },
  {
   "cell_type": "code",
<<<<<<< HEAD
   "execution_count": 18,
=======
   "execution_count": null,
>>>>>>> freq-concat
   "metadata": {},
   "outputs": [
    {
     "name": "stdout",
     "output_type": "stream",
     "text": [
<<<<<<< HEAD
      "tensor([[ 4.3183e+01, -2.6114e+00,  3.4866e+00,  1.0620e-01, -6.3864e-03,\n",
      "          6.0467e-02],\n",
      "        [-2.6114e+00,  2.9783e+01,  7.1248e-01, -6.3864e-03, -5.6604e-03,\n",
      "          9.6134e-03],\n",
      "        [ 3.4866e+00,  7.1248e-01,  3.0177e+01,  6.0467e-02,  9.6134e-03,\n",
      "         -1.7193e-02]], device='cuda:0', grad_fn=<MulBackward0>)\n"
=======
      "tensor([[ 0.5754,  0.3170, -0.0187, -0.1610, -0.5234,  0.6148],\n",
      "        [ 0.3170, -0.6707, -0.1661, -0.5234,  2.0553,  0.5919],\n",
      "        [-0.0187, -0.1661,  0.4377,  0.6148,  0.5919,  2.3250]],\n",
      "       device='cuda:0', grad_fn=<MulBackward0>)\n"
>>>>>>> freq-concat
     ]
    }
   ],
   "source": [
    "import torch_cluster\n",
    "import ase\n",
    "from ase.io import read\n",
    "from ase.visualize import view\n",
    "from ase.build import molecule\n",
<<<<<<< HEAD
    "#from code.util.visualize_polarizability import smiles_to_atoms, visualize_polarizability, compare_polarizabilities_eigen\n",
=======
    "from code.util.visualize_polarizability import smiles_to_atoms, visualize_polarizability, compare_polarizabilities_eigen\n",
>>>>>>> freq-concat
    "\n",
    "result = model(pos=sample.pos.to(device), z=sample.z.to(device), spec=sample.spec.to(device))\n",
    "print(result)\n",
    "\n"
   ]
  },
  {
   "cell_type": "code",
<<<<<<< HEAD
   "execution_count": 19,
=======
   "execution_count": 69,
>>>>>>> freq-concat
   "metadata": {},
   "outputs": [
    {
     "data": {
      "text/plain": [
<<<<<<< HEAD
       "tensor([[ 4.1900e+01, -2.9527e+00,  3.4054e+00,  3.9596e-02, -4.4617e-03,\n",
       "          5.6633e-03],\n",
       "        [-2.9527e+00,  2.7432e+01,  1.0319e+00, -4.4617e-03,  1.8173e-02,\n",
       "          2.8159e-04],\n",
       "        [ 3.4054e+00,  1.0319e+00,  2.7846e+01,  5.6633e-03,  2.8159e-04,\n",
       "          1.9768e-02]])"
      ]
     },
     "execution_count": 19,
=======
       "tensor([[ 0.2032, -0.3479, -0.0881,  0.3966, -0.7132,  1.2752],\n",
       "        [-0.3479,  0.8839, -0.0064, -0.7132,  0.5099, -1.6574],\n",
       "        [-0.0881, -0.0064,  0.6884,  1.2752, -1.6574,  3.6398]])"
      ]
     },
     "execution_count": 69,
>>>>>>> freq-concat
     "metadata": {},
     "output_type": "execute_result"
    }
   ],
   "source": [
    "sample.y"
   ]
  },
  {
   "cell_type": "code",
<<<<<<< HEAD
   "execution_count": 21,
   "metadata": {},
   "outputs": [],
   "source": [
    "from ase.build import molecule\n",
    "\n",
    "qm9s = torch.load(\"../data/qm9s.pt\")"
   ]
  },
  {
   "cell_type": "code",
   "execution_count": 90,
   "metadata": {},
   "outputs": [],
   "source": [
    "qm9s_dict = {entry.number: entry for entry in qm9s}"
   ]
  },
  {
   "cell_type": "code",
   "execution_count": 97,
   "metadata": {},
   "outputs": [
    {
     "name": "stdout",
     "output_type": "stream",
     "text": [
      "34\n",
      "tensor([8, 6, 6, 7, 1, 1, 1])\n",
      "OCC#N\n",
      "34\n",
      "tensor([8, 6, 6, 7, 1, 1, 1])\n"
     ]
    }
   ],
   "source": [
    "print(qm9s_dict[sample.idx].number)\n",
    "print(qm9s_dict[sample.idx].z)\n",
    "print(qm9s_dict[sample.idx].smile)\n",
    "print(sample.idx)\n",
    "print(sample.z)\n",
    "\n"
   ]
  },
  {
   "cell_type": "code",
   "execution_count": 101,
   "metadata": {},
   "outputs": [
    {
     "data": {
      "text/html": [
       "<html>\n",
       "    <head>\n",
       "        <title>ASE atomic visualization</title>\n",
       "        <link rel=\"stylesheet\" type=\"text/css\"             href=\"https://www.x3dom.org/release/x3dom.css\"></link>\n",
       "        <script type=\"text/javascript\"             src=\"https://www.x3dom.org/release/x3dom.js\"></script>\n",
       "    </head>\n",
       "    <body>\n",
       "        <X3D width=\"400px\"; height=\"300px\";>\n",
       "\n",
       "<!--Inserting Generated X3D Scene-->\n",
       "<scene>\n",
       "  <viewpoint position=\"0 0 6.587520380780388\">\n",
       "    <group/>\n",
       "  </viewpoint>\n",
       "  <transform translation=\"-0.0 -0.0 -0.0\">\n",
       "    <group>\n",
       "      <group>\n",
       "        <transform translation=\"0 0 0\">\n",
       "          <shape>\n",
       "            <appearance>\n",
       "              <material diffuseColor=\"0 0 0\"/>\n",
       "            </appearance>\n",
       "            <lineset vertexCount=\"5\">\n",
       "              <coordinate point=\"0 0 0 0.0 0.0 0.0 0.0 0.0 0.0 0.0 0.0 0.0 0 0 0\"/>\n",
       "            </lineset>\n",
       "          </shape>\n",
       "        </transform>\n",
       "        <transform translation=\"0.0 0.0 0.0\">\n",
       "          <shape>\n",
       "            <appearance>\n",
       "              <material diffuseColor=\"0 0 0\"/>\n",
       "            </appearance>\n",
       "            <lineset vertexCount=\"5\">\n",
       "              <coordinate point=\"0 0 0 0.0 0.0 0.0 0.0 0.0 0.0 0.0 0.0 0.0 0 0 0\"/>\n",
       "            </lineset>\n",
       "          </shape>\n",
       "        </transform>\n",
       "        <transform translation=\"0 0 0\">\n",
       "          <shape>\n",
       "            <appearance>\n",
       "              <material diffuseColor=\"0 0 0\"/>\n",
       "            </appearance>\n",
       "            <lineset vertexCount=\"5\">\n",
       "              <coordinate point=\"0 0 0 0.0 0.0 0.0 0.0 0.0 0.0 0.0 0.0 0.0 0 0 0\"/>\n",
       "            </lineset>\n",
       "          </shape>\n",
       "        </transform>\n",
       "        <transform translation=\"0.0 0.0 0.0\">\n",
       "          <shape>\n",
       "            <appearance>\n",
       "              <material diffuseColor=\"0 0 0\"/>\n",
       "            </appearance>\n",
       "            <lineset vertexCount=\"5\">\n",
       "              <coordinate point=\"0 0 0 0.0 0.0 0.0 0.0 0.0 0.0 0.0 0.0 0.0 0 0 0\"/>\n",
       "            </lineset>\n",
       "          </shape>\n",
       "        </transform>\n",
       "      </group>\n",
       "      <group>\n",
       "        <transform translation=\"-1.0322803332823742 0.7424972304259694 -0.4343256440113196\">\n",
       "          <shape>\n",
       "            <appearance>\n",
       "              <material diffuseColor=\"1.0 0.051 0.051\"/>\n",
       "            </appearance>\n",
       "            <sphere radius=\"0.66\"/>\n",
       "          </shape>\n",
       "        </transform>\n",
       "        <transform translation=\"-0.3028752572862432 -0.34817947110324066 0.05592962883205917\">\n",
       "          <shape>\n",
       "            <appearance>\n",
       "              <material diffuseColor=\"0.565 0.565 0.565\"/>\n",
       "            </appearance>\n",
       "            <sphere radius=\"0.76\"/>\n",
       "          </shape>\n",
       "        </transform>\n",
       "        <transform translation=\"1.1303722592467313 -0.13537103558649932 -0.16955072126732254\">\n",
       "          <shape>\n",
       "            <appearance>\n",
       "              <material diffuseColor=\"0.565 0.565 0.565\"/>\n",
       "            </appearance>\n",
       "            <sphere radius=\"0.76\"/>\n",
       "          </shape>\n",
       "        </transform>\n",
       "        <transform translation=\"2.26147985710782 0.03248061199785507 -0.3473243792868059\">\n",
       "          <shape>\n",
       "            <appearance>\n",
       "              <material diffuseColor=\"0.188 0.314 0.973\"/>\n",
       "            </appearance>\n",
       "            <sphere radius=\"0.71\"/>\n",
       "          </shape>\n",
       "        </transform>\n",
       "        <transform translation=\"-0.9446137076567385 1.4694458228308793 0.2367885745483075\">\n",
       "          <shape>\n",
       "            <appearance>\n",
       "              <material diffuseColor=\"1.0 1.0 1.0\"/>\n",
       "            </appearance>\n",
       "            <sphere radius=\"0.31\"/>\n",
       "          </shape>\n",
       "        </transform>\n",
       "        <transform translation=\"-0.49411602754065675 -0.49596260730623365 1.1422162097309694\">\n",
       "          <shape>\n",
       "            <appearance>\n",
       "              <material diffuseColor=\"1.0 1.0 1.0\"/>\n",
       "            </appearance>\n",
       "            <sphere radius=\"0.31\"/>\n",
       "          </shape>\n",
       "        </transform>\n",
       "        <transform translation=\"-0.6179667905885168 -1.2649105512587193 -0.48373366854588606\">\n",
       "          <shape>\n",
       "            <appearance>\n",
       "              <material diffuseColor=\"1.0 1.0 1.0\"/>\n",
       "            </appearance>\n",
       "            <sphere radius=\"0.31\"/>\n",
       "          </shape>\n",
       "        </transform>\n",
       "      </group>\n",
       "    </group>\n",
       "  </transform>\n",
       "</scene>\n",
       "<!--End of Inserted Scene-->\n",
       "\n",
       "        </X3D>\n",
       "    </body>\n",
       "</html>\n",
       "\n"
      ],
      "text/plain": [
       "<IPython.core.display.HTML object>"
      ]
     },
     "execution_count": 101,
     "metadata": {},
     "output_type": "execute_result"
    }
   ],
   "source": [
    "from util.visualize_polarizability import smiles_to_atoms, visualize_polarizability, compare_polarizabilities_eigen\n",
    "atoms = smiles_to_atoms(qm9s_dict[sample.idx].smile)\n",
    "view(atoms, viewer='x3d')"
   ]
  },
  {
   "cell_type": "code",
   "execution_count": 109,
   "metadata": {},
   "outputs": [
    {
     "name": "stdout",
     "output_type": "stream",
     "text": [
      "tensor([[41.9003, -2.9527,  3.4054],\n",
      "        [-2.9527, 27.4319,  1.0319],\n",
      "        [ 3.4054,  1.0319, 27.8458]])\n",
      "Raw Eigenvalues (True Tensor): [43.133217 25.379156 28.665688]\n",
      "Real Eigenvalues (True Tensor): [43.133217 25.379156 28.665688]\n"
     ]
    },
    {
     "data": {
      "application/vnd.plotly.v1+json": {
       "config": {
        "plotlyServerURL": "https://plot.ly"
       },
       "data": [
        {
         "marker": {
          "color": [
           "purple",
           "black",
           "black",
           "blue",
           "grey",
           "grey",
           "grey"
          ],
          "size": 6
         },
         "mode": "markers+text",
         "name": "Atoms",
         "text": [
          "O",
          "C",
          "C",
          "N",
          "H",
          "H",
          "H"
         ],
         "textposition": "top center",
         "type": "scatter3d",
         "x": {
          "bdata": "SAf8YTiE8L/Q9zPnTmLTv1VT3DgBFvI/CrpWwIIXAkDcpbeGRjruvw7crdSYn9+/s+9ySmLG478=",
          "dtype": "f8"
         },
         "y": {
          "bdata": "ippBjYnC5z9MumGMkkjWv6S3VY3WU8G/ONiRfEyhoD/I1oSf2YL3P5bTmvLZvd+/MVig2BI99L8=",
          "dtype": "f8"
         },
         "z": {
          "bdata": "t+81yf3L27/6FmztzqKsP0WdbYnWs8W/L/uICJA61r8lL+CHFk/OP+YWHIGERvI/XjyYD3713r8=",
          "dtype": "f8"
         }
        },
        {
         "colorscale": [
          [
           0,
           "rgb(255,245,240)"
          ],
          [
           0.125,
           "rgb(254,224,210)"
          ],
          [
           0.25,
           "rgb(252,187,161)"
          ],
          [
           0.375,
           "rgb(252,146,114)"
          ],
          [
           0.5,
           "rgb(251,106,74)"
          ],
          [
           0.625,
           "rgb(239,59,44)"
          ],
          [
           0.75,
           "rgb(203,24,29)"
          ],
          [
           0.875,
           "rgb(165,15,21)"
          ],
          [
           1,
           "rgb(103,0,13)"
          ]
         ],
         "name": "Polarizability Ellipsoid",
         "opacity": 0.5,
         "showscale": false,
         "type": "surface",
         "x": {
          "bdata": "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",
          "dtype": "f8",
          "shape": "50, 25"
         },
         "y": {
          "bdata": "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",
          "dtype": "f8",
          "shape": "50, 25"
         },
         "z": {
          "bdata": "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",
          "dtype": "f8",
          "shape": "50, 25"
         }
        },
        {
         "line": {
          "color": "red",
          "width": 4
         },
         "marker": {
          "color": "red",
          "size": 4
         },
         "mode": "lines+markers",
         "name": "Polarizability Arrow",
         "type": "scatter3d",
         "x": [
          0.4036144517086123,
          2.4838148854396915
         ],
         "y": [
          0.10924218662919136,
          -0.25310508838950063
         ],
         "z": [
          -0.2151724429605988,
          0.2237544326306793
         ]
        },
        {
         "line": {
          "color": "red",
          "width": 4
         },
         "marker": {
          "color": "red",
          "size": 4
         },
         "mode": "lines+markers",
         "name": "Polarizability Arrow",
         "type": "scatter3d",
         "x": [
          0.4036144517086123,
          0.07142426592331874
         ],
         "y": [
          0.10924218662919136,
          -0.7877538942462053
         ],
         "z": [
          -0.2151724429605988,
          0.6186751393796417
         ]
        },
        {
         "line": {
          "color": "red",
          "width": 4
         },
         "marker": {
          "color": "red",
          "size": 4
         },
         "mode": "lines+markers",
         "name": "Polarizability Arrow",
         "type": "scatter3d",
         "x": [
          0.4036144517086123,
          0.35565523949485767
         ],
         "y": [
          0.10924218662919136,
          1.0940428233975323
         ],
         "z": [
          -0.2151724429605988,
          0.8251024155141327
         ]
        }
       ],
       "layout": {
        "scene": {
         "xaxis": {
          "title": {
           "text": "X"
          }
         },
         "yaxis": {
          "title": {
           "text": "Y"
          }
         },
         "zaxis": {
          "title": {
           "text": "Z"
          }
         }
        },
        "template": {
         "data": {
          "bar": [
           {
            "error_x": {
             "color": "#2a3f5f"
            },
            "error_y": {
             "color": "#2a3f5f"
            },
            "marker": {
             "line": {
              "color": "#E5ECF6",
              "width": 0.5
             },
             "pattern": {
              "fillmode": "overlay",
              "size": 10,
              "solidity": 0.2
             }
            },
            "type": "bar"
           }
          ],
          "barpolar": [
           {
            "marker": {
             "line": {
              "color": "#E5ECF6",
              "width": 0.5
             },
             "pattern": {
              "fillmode": "overlay",
              "size": 10,
              "solidity": 0.2
             }
            },
            "type": "barpolar"
           }
          ],
          "carpet": [
           {
            "aaxis": {
             "endlinecolor": "#2a3f5f",
             "gridcolor": "white",
             "linecolor": "white",
             "minorgridcolor": "white",
             "startlinecolor": "#2a3f5f"
            },
            "baxis": {
             "endlinecolor": "#2a3f5f",
             "gridcolor": "white",
             "linecolor": "white",
             "minorgridcolor": "white",
             "startlinecolor": "#2a3f5f"
            },
            "type": "carpet"
           }
          ],
          "choropleth": [
           {
            "colorbar": {
             "outlinewidth": 0,
             "ticks": ""
            },
            "type": "choropleth"
           }
          ],
          "contour": [
           {
            "colorbar": {
             "outlinewidth": 0,
             "ticks": ""
            },
            "colorscale": [
             [
              0,
              "#0d0887"
             ],
             [
              0.1111111111111111,
              "#46039f"
             ],
             [
              0.2222222222222222,
              "#7201a8"
             ],
             [
              0.3333333333333333,
              "#9c179e"
             ],
             [
              0.4444444444444444,
              "#bd3786"
             ],
             [
              0.5555555555555556,
              "#d8576b"
             ],
             [
              0.6666666666666666,
              "#ed7953"
             ],
             [
              0.7777777777777778,
              "#fb9f3a"
             ],
             [
              0.8888888888888888,
              "#fdca26"
             ],
             [
              1,
              "#f0f921"
             ]
            ],
            "type": "contour"
           }
          ],
          "contourcarpet": [
           {
            "colorbar": {
             "outlinewidth": 0,
             "ticks": ""
            },
            "type": "contourcarpet"
           }
          ],
          "heatmap": [
           {
            "colorbar": {
             "outlinewidth": 0,
             "ticks": ""
            },
            "colorscale": [
             [
              0,
              "#0d0887"
             ],
             [
              0.1111111111111111,
              "#46039f"
             ],
             [
              0.2222222222222222,
              "#7201a8"
             ],
             [
              0.3333333333333333,
              "#9c179e"
             ],
             [
              0.4444444444444444,
              "#bd3786"
             ],
             [
              0.5555555555555556,
              "#d8576b"
             ],
             [
              0.6666666666666666,
              "#ed7953"
             ],
             [
              0.7777777777777778,
              "#fb9f3a"
             ],
             [
              0.8888888888888888,
              "#fdca26"
             ],
             [
              1,
              "#f0f921"
             ]
            ],
            "type": "heatmap"
           }
          ],
          "histogram": [
           {
            "marker": {
             "pattern": {
              "fillmode": "overlay",
              "size": 10,
              "solidity": 0.2
             }
            },
            "type": "histogram"
           }
          ],
          "histogram2d": [
           {
            "colorbar": {
             "outlinewidth": 0,
             "ticks": ""
            },
            "colorscale": [
             [
              0,
              "#0d0887"
             ],
             [
              0.1111111111111111,
              "#46039f"
             ],
             [
              0.2222222222222222,
              "#7201a8"
             ],
             [
              0.3333333333333333,
              "#9c179e"
             ],
             [
              0.4444444444444444,
              "#bd3786"
             ],
             [
              0.5555555555555556,
              "#d8576b"
             ],
             [
              0.6666666666666666,
              "#ed7953"
             ],
             [
              0.7777777777777778,
              "#fb9f3a"
             ],
             [
              0.8888888888888888,
              "#fdca26"
             ],
             [
              1,
              "#f0f921"
             ]
            ],
            "type": "histogram2d"
           }
          ],
          "histogram2dcontour": [
           {
            "colorbar": {
             "outlinewidth": 0,
             "ticks": ""
            },
            "colorscale": [
             [
              0,
              "#0d0887"
             ],
             [
              0.1111111111111111,
              "#46039f"
             ],
             [
              0.2222222222222222,
              "#7201a8"
             ],
             [
              0.3333333333333333,
              "#9c179e"
             ],
             [
              0.4444444444444444,
              "#bd3786"
             ],
             [
              0.5555555555555556,
              "#d8576b"
             ],
             [
              0.6666666666666666,
              "#ed7953"
             ],
             [
              0.7777777777777778,
              "#fb9f3a"
             ],
             [
              0.8888888888888888,
              "#fdca26"
             ],
             [
              1,
              "#f0f921"
             ]
            ],
            "type": "histogram2dcontour"
           }
          ],
          "mesh3d": [
           {
            "colorbar": {
             "outlinewidth": 0,
             "ticks": ""
            },
            "type": "mesh3d"
           }
          ],
          "parcoords": [
           {
            "line": {
             "colorbar": {
              "outlinewidth": 0,
              "ticks": ""
             }
            },
            "type": "parcoords"
           }
          ],
          "pie": [
           {
            "automargin": true,
            "type": "pie"
           }
          ],
          "scatter": [
           {
            "fillpattern": {
             "fillmode": "overlay",
             "size": 10,
             "solidity": 0.2
            },
            "type": "scatter"
           }
          ],
          "scatter3d": [
           {
            "line": {
             "colorbar": {
              "outlinewidth": 0,
              "ticks": ""
             }
            },
            "marker": {
             "colorbar": {
              "outlinewidth": 0,
              "ticks": ""
             }
            },
            "type": "scatter3d"
           }
          ],
          "scattercarpet": [
           {
            "marker": {
             "colorbar": {
              "outlinewidth": 0,
              "ticks": ""
             }
            },
            "type": "scattercarpet"
           }
          ],
          "scattergeo": [
           {
            "marker": {
             "colorbar": {
              "outlinewidth": 0,
              "ticks": ""
             }
            },
            "type": "scattergeo"
           }
          ],
          "scattergl": [
           {
            "marker": {
             "colorbar": {
              "outlinewidth": 0,
              "ticks": ""
             }
            },
            "type": "scattergl"
           }
          ],
          "scattermap": [
           {
            "marker": {
             "colorbar": {
              "outlinewidth": 0,
              "ticks": ""
             }
            },
            "type": "scattermap"
           }
          ],
          "scattermapbox": [
           {
            "marker": {
             "colorbar": {
              "outlinewidth": 0,
              "ticks": ""
             }
            },
            "type": "scattermapbox"
           }
          ],
          "scatterpolar": [
           {
            "marker": {
             "colorbar": {
              "outlinewidth": 0,
              "ticks": ""
             }
            },
            "type": "scatterpolar"
           }
          ],
          "scatterpolargl": [
           {
            "marker": {
             "colorbar": {
              "outlinewidth": 0,
              "ticks": ""
             }
            },
            "type": "scatterpolargl"
           }
          ],
          "scatterternary": [
           {
            "marker": {
             "colorbar": {
              "outlinewidth": 0,
              "ticks": ""
             }
            },
            "type": "scatterternary"
           }
          ],
          "surface": [
           {
            "colorbar": {
             "outlinewidth": 0,
             "ticks": ""
            },
            "colorscale": [
             [
              0,
              "#0d0887"
             ],
             [
              0.1111111111111111,
              "#46039f"
             ],
             [
              0.2222222222222222,
              "#7201a8"
             ],
             [
              0.3333333333333333,
              "#9c179e"
             ],
             [
              0.4444444444444444,
              "#bd3786"
             ],
             [
              0.5555555555555556,
              "#d8576b"
             ],
             [
              0.6666666666666666,
              "#ed7953"
             ],
             [
              0.7777777777777778,
              "#fb9f3a"
             ],
             [
              0.8888888888888888,
              "#fdca26"
             ],
             [
              1,
              "#f0f921"
             ]
            ],
            "type": "surface"
           }
          ],
          "table": [
           {
            "cells": {
             "fill": {
              "color": "#EBF0F8"
             },
             "line": {
              "color": "white"
             }
            },
            "header": {
             "fill": {
              "color": "#C8D4E3"
             },
             "line": {
              "color": "white"
             }
            },
            "type": "table"
           }
          ]
         },
         "layout": {
          "annotationdefaults": {
           "arrowcolor": "#2a3f5f",
           "arrowhead": 0,
           "arrowwidth": 1
          },
          "autotypenumbers": "strict",
          "coloraxis": {
           "colorbar": {
            "outlinewidth": 0,
            "ticks": ""
           }
          },
          "colorscale": {
           "diverging": [
            [
             0,
             "#8e0152"
            ],
            [
             0.1,
             "#c51b7d"
            ],
            [
             0.2,
             "#de77ae"
            ],
            [
             0.3,
             "#f1b6da"
            ],
            [
             0.4,
             "#fde0ef"
            ],
            [
             0.5,
             "#f7f7f7"
            ],
            [
             0.6,
             "#e6f5d0"
            ],
            [
             0.7,
             "#b8e186"
            ],
            [
             0.8,
             "#7fbc41"
            ],
            [
             0.9,
             "#4d9221"
            ],
            [
             1,
             "#276419"
            ]
           ],
           "sequential": [
            [
             0,
             "#0d0887"
            ],
            [
             0.1111111111111111,
             "#46039f"
            ],
            [
             0.2222222222222222,
             "#7201a8"
            ],
            [
             0.3333333333333333,
             "#9c179e"
            ],
            [
             0.4444444444444444,
             "#bd3786"
            ],
            [
             0.5555555555555556,
             "#d8576b"
            ],
            [
             0.6666666666666666,
             "#ed7953"
            ],
            [
             0.7777777777777778,
             "#fb9f3a"
            ],
            [
             0.8888888888888888,
             "#fdca26"
            ],
            [
             1,
             "#f0f921"
            ]
           ],
           "sequentialminus": [
            [
             0,
             "#0d0887"
            ],
            [
             0.1111111111111111,
             "#46039f"
            ],
            [
             0.2222222222222222,
             "#7201a8"
            ],
            [
             0.3333333333333333,
             "#9c179e"
            ],
            [
             0.4444444444444444,
             "#bd3786"
            ],
            [
             0.5555555555555556,
             "#d8576b"
            ],
            [
             0.6666666666666666,
             "#ed7953"
            ],
            [
             0.7777777777777778,
             "#fb9f3a"
            ],
            [
             0.8888888888888888,
             "#fdca26"
            ],
            [
             1,
             "#f0f921"
            ]
           ]
          },
          "colorway": [
           "#636efa",
           "#EF553B",
           "#00cc96",
           "#ab63fa",
           "#FFA15A",
           "#19d3f3",
           "#FF6692",
           "#B6E880",
           "#FF97FF",
           "#FECB52"
          ],
          "font": {
           "color": "#2a3f5f"
          },
          "geo": {
           "bgcolor": "white",
           "lakecolor": "white",
           "landcolor": "#E5ECF6",
           "showlakes": true,
           "showland": true,
           "subunitcolor": "white"
          },
          "hoverlabel": {
           "align": "left"
          },
          "hovermode": "closest",
          "mapbox": {
           "style": "light"
          },
          "paper_bgcolor": "white",
          "plot_bgcolor": "#E5ECF6",
          "polar": {
           "angularaxis": {
            "gridcolor": "white",
            "linecolor": "white",
            "ticks": ""
           },
           "bgcolor": "#E5ECF6",
           "radialaxis": {
            "gridcolor": "white",
            "linecolor": "white",
            "ticks": ""
           }
          },
          "scene": {
           "xaxis": {
            "backgroundcolor": "#E5ECF6",
            "gridcolor": "white",
            "gridwidth": 2,
            "linecolor": "white",
            "showbackground": true,
            "ticks": "",
            "zerolinecolor": "white"
           },
           "yaxis": {
            "backgroundcolor": "#E5ECF6",
            "gridcolor": "white",
            "gridwidth": 2,
            "linecolor": "white",
            "showbackground": true,
            "ticks": "",
            "zerolinecolor": "white"
           },
           "zaxis": {
            "backgroundcolor": "#E5ECF6",
            "gridcolor": "white",
            "gridwidth": 2,
            "linecolor": "white",
            "showbackground": true,
            "ticks": "",
            "zerolinecolor": "white"
           }
          },
          "shapedefaults": {
           "line": {
            "color": "#2a3f5f"
           }
          },
          "ternary": {
           "aaxis": {
            "gridcolor": "white",
            "linecolor": "white",
            "ticks": ""
           },
           "baxis": {
            "gridcolor": "white",
            "linecolor": "white",
            "ticks": ""
           },
           "bgcolor": "#E5ECF6",
           "caxis": {
            "gridcolor": "white",
            "linecolor": "white",
            "ticks": ""
           }
          },
          "title": {
           "x": 0.05
          },
          "xaxis": {
           "automargin": true,
           "gridcolor": "white",
           "linecolor": "white",
           "ticks": "",
           "title": {
            "standoff": 15
           },
           "zerolinecolor": "white",
           "zerolinewidth": 2
          },
          "yaxis": {
           "automargin": true,
           "gridcolor": "white",
           "linecolor": "white",
           "ticks": "",
           "title": {
            "standoff": 15
           },
           "zerolinecolor": "white",
           "zerolinewidth": 2
          }
         }
        },
        "title": {
         "text": "Molecule with Polarizability Arrows"
        }
       }
      }
     },
     "metadata": {},
     "output_type": "display_data"
    },
    {
     "name": "stdout",
     "output_type": "stream",
     "text": [
      "tensor([[43.1829, -2.6114,  3.4866],\n",
      "        [-2.6114, 29.7830,  0.7125],\n",
      "        [ 3.4866,  0.7125, 30.1772]], device='cuda:0',\n",
      "       grad_fn=<SliceBackward0>)\n"
     ]
    }
   ],
   "source": [
    "real_part_true = sample.y[:,:3]\n",
    "print(real_part_true)\n",
    "\n",
    "visualize_polarizability(atoms, real_part_true)\n",
    "\n",
    "real_part_predicted = result[:,:3]\n",
    "print(real_part_predicted)"
   ]
  },
  {
   "cell_type": "code",
   "execution_count": 107,
   "metadata": {},
   "outputs": [],
   "source": [
    "import plotly.graph_objects as go\n",
    "\n",
    "def compare_polarizabilities(atoms, true_tensor, predicted_tensor):\n",
    "    \"\"\"\n",
    "    Visualize a molecule with true and predicted polarizability tensors using Plotly.\n",
    "    \n",
    "    Parameters:\n",
    "        atoms: ASE Atoms object\n",
    "        true_tensor: (3, 3) numpy array representing the true polarizability tensor (Bohr^3)\n",
    "        predicted_tensor: (3, 3) numpy array representing the predicted polarizability tensor (Bohr^3)\n",
    "    \"\"\"\n",
    "    def create_polarizability_traces(tensor, center, color, name, scale=0.05):\n",
    "\n",
    "        tensor = tensor.reshape(3,3)\n",
    "\n",
    "        # Eigen decomposition of the polarizability tensor\n",
    "        eigenvalues, eigenvectors = np.linalg.eig(tensor)\n",
    "        \n",
    "        print(\"Raw Eigenvalues (True Tensor):\", eigenvalues)\n",
    "        print(\"Real Eigenvalues (True Tensor):\", np.real(eigenvalues))\n",
    "        # Ensure eigenvalues and eigenvectors are real\n",
    "        eigenvalues = np.real(eigenvalues)\n",
    "        eigenvectors = np.real(eigenvectors)\n",
    "\n",
    "\n",
    "        # Calculate arrows for the principal axes\n",
    "        arrows = [scale * eigenvalue * eigenvector for eigenvalue, eigenvector in zip(eigenvalues, eigenvectors.T)]\n",
    "\n",
    "        # Create arrow traces\n",
    "        arrow_traces = []\n",
    "        for arrow in arrows:\n",
    "            arrow_trace = go.Scatter3d(\n",
    "                x=[center[0], center[0] + arrow[0]],\n",
    "                y=[center[1], center[1] + arrow[1]],\n",
    "                z=[center[2], center[2] + arrow[2]],\n",
    "                mode='lines+markers',\n",
    "                line=dict(color=color, width=4),\n",
    "                marker=dict(size=4, color=color),\n",
    "                name=f\"{name} Arrow\"\n",
    "            )\n",
    "            arrow_traces.append(arrow_trace)\n",
    "\n",
    "        # Generate ellipsoid points\n",
    "        eigenvalues = np.abs(eigenvalues) * 0.05  # Adjust scaling factor\n",
    "        u = np.linspace(0, 2 * np.pi, 50)\n",
    "        v = np.linspace(0, np.pi, 25)\n",
    "        x = np.outer(np.cos(u), np.sin(v))\n",
    "        y = np.outer(np.sin(u), np.sin(v))\n",
    "        z = np.outer(np.ones_like(u), np.cos(v))\n",
    "\n",
    "        # Scale and rotate the ellipsoid\n",
    "        ellipsoid = np.dot(np.column_stack([x.flatten(), y.flatten(), z.flatten()]), np.diag(eigenvalues))\n",
    "        ellipsoid = np.dot(ellipsoid, eigenvectors.T)\n",
    "        x_ellipsoid = ellipsoid[:, 0].reshape(x.shape)\n",
    "        y_ellipsoid = ellipsoid[:, 1].reshape(y.shape)\n",
    "        z_ellipsoid = ellipsoid[:, 2].reshape(z.shape)\n",
    "\n",
    "        # Create ellipsoid trace\n",
    "        ellipsoid_trace = go.Surface(\n",
    "            x=x_ellipsoid + center[0],\n",
    "            y=y_ellipsoid + center[1],\n",
    "            z=z_ellipsoid + center[2],\n",
    "            colorscale=[[0, color], [1, color]],\n",
    "            opacity=0.2,\n",
    "            showscale=False,\n",
    "            name=f\"{name} Ellipsoid\"\n",
    "        )\n",
    "        return arrow_traces, ellipsoid_trace\n",
    "\n",
    "    # Calculate center of the molecule\n",
    "    center = atoms.get_center_of_mass()\n",
    "\n",
    "    # Create polarizability traces for true tensor\n",
    "    true_arrows, true_ellipsoid = create_polarizability_traces(true_tensor, center, 'blue', 'True')\n",
    "\n",
    "    # Create polarizability traces for predicted tensor\n",
    "    pred_arrows, pred_ellipsoid = create_polarizability_traces(predicted_tensor, center, 'red', 'Predicted')\n",
    "\n",
    "    # Extract atomic positions and symbols\n",
    "    positions = atoms.get_positions()\n",
    "    symbols = atoms.get_chemical_symbols()\n",
    "\n",
    "    # Define colors for different atom types\n",
    "    atom_colors = {\n",
    "        'H': 'grey',\n",
    "        'C': 'black',\n",
    "        'O': 'pink',\n",
    "        'N': 'purple',\n",
    "        'S': 'yellow',\n",
    "        'Cl': 'green',\n",
    "        'F': 'cyan'\n",
    "    }\n",
    "    colors = [atom_colors.get(symbol, 'gray') for symbol in symbols]\n",
    "\n",
    "    # Create scatter plot for the atoms with different colors\n",
    "    atom_trace = go.Scatter3d(\n",
    "        x=positions[:, 0],\n",
    "        y=positions[:, 1],\n",
    "        z=positions[:, 2],\n",
    "        mode='markers+text',\n",
    "        marker=dict(size=6, color=colors),\n",
    "        text=symbols,\n",
    "        textposition=\"top center\",\n",
    "        name=\"Atoms\"\n",
    "    )\n",
    "\n",
    "    # Combine all traces\n",
    "    layout = go.Layout(\n",
    "        scene=dict(\n",
    "            xaxis=dict(title='X'),\n",
    "            yaxis=dict(title='Y'),\n",
    "            zaxis=dict(title='Z')\n",
    "        ),\n",
    "        title=\"True vs Predicted Polarizability Comparison\"\n",
    "    )\n",
    "\n",
    "    fig = go.Figure(data=[atom_trace, true_ellipsoid, pred_ellipsoid] + true_arrows + pred_arrows, layout=layout)\n",
    "\n",
    "    # Display the plot\n",
    "    fig.show()"
   ]
  },
  {
   "cell_type": "code",
   "execution_count": 113,
   "metadata": {},
   "outputs": [
    {
     "name": "stdout",
     "output_type": "stream",
     "text": [
      "Raw Eigenvalues (True Tensor): [43.133217 25.379156 28.665688]\n",
      "Real Eigenvalues (True Tensor): [43.133217 25.379156 28.665688]\n",
      "Raw Eigenvalues (True Tensor): [44.441315 28.039661 30.66207 ]\n",
      "Real Eigenvalues (True Tensor): [44.441315 28.039661 30.66207 ]\n"
     ]
    },
    {
     "data": {
      "application/vnd.plotly.v1+json": {
       "config": {
        "plotlyServerURL": "https://plot.ly"
       },
       "data": [
        {
         "marker": {
          "color": [
           "pink",
           "black",
           "black",
           "purple",
           "grey",
           "grey",
           "grey"
          ],
          "size": 6
         },
         "mode": "markers+text",
         "name": "Atoms",
         "text": [
          "O",
          "C",
          "C",
          "N",
          "H",
          "H",
          "H"
         ],
         "textposition": "top center",
         "type": "scatter3d",
         "x": {
          "bdata": "SAf8YTiE8L/Q9zPnTmLTv1VT3DgBFvI/CrpWwIIXAkDcpbeGRjruvw7crdSYn9+/s+9ySmLG478=",
          "dtype": "f8"
         },
         "y": {
          "bdata": "ippBjYnC5z9MumGMkkjWv6S3VY3WU8G/ONiRfEyhoD/I1oSf2YL3P5bTmvLZvd+/MVig2BI99L8=",
          "dtype": "f8"
         },
         "z": {
          "bdata": "t+81yf3L27/6FmztzqKsP0WdbYnWs8W/L/uICJA61r8lL+CHFk/OP+YWHIGERvI/XjyYD3713r8=",
          "dtype": "f8"
         }
        },
        {
         "colorscale": [
          [
           0,
           "blue"
          ],
          [
           1,
           "blue"
          ]
         ],
         "name": "True Ellipsoid",
         "opacity": 0.2,
         "showscale": false,
         "type": "surface",
         "x": {
          "bdata": "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",
          "dtype": "f8",
          "shape": "50, 25"
         },
         "y": {
          "bdata": "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",
          "dtype": "f8",
          "shape": "50, 25"
         },
         "z": {
          "bdata": "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",
          "dtype": "f8",
          "shape": "50, 25"
         }
        },
        {
         "colorscale": [
          [
           0,
           "red"
          ],
          [
           1,
           "red"
          ]
         ],
         "name": "Predicted Ellipsoid",
         "opacity": 0.2,
         "showscale": false,
         "type": "surface",
         "x": {
          "bdata": "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",
          "dtype": "f8",
          "shape": "50, 25"
         },
         "y": {
          "bdata": "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",
          "dtype": "f8",
          "shape": "50, 25"
         },
         "z": {
          "bdata": "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",
          "dtype": "f8",
          "shape": "50, 25"
         }
        },
        {
         "line": {
          "color": "blue",
          "width": 4
         },
         "marker": {
          "color": "blue",
          "size": 4
         },
         "mode": "lines+markers",
         "name": "True Arrow",
         "type": "scatter3d",
         "x": [
          0.4036144517086123,
          2.4838148854396915
         ],
         "y": [
          0.10924218662919136,
          -0.25310508838950063
         ],
         "z": [
          -0.2151724429605988,
          0.2237544326306793
         ]
        },
        {
         "line": {
          "color": "blue",
          "width": 4
         },
         "marker": {
          "color": "blue",
          "size": 4
         },
         "mode": "lines+markers",
         "name": "True Arrow",
         "type": "scatter3d",
         "x": [
          0.4036144517086123,
          0.07142426592331874
         ],
         "y": [
          0.10924218662919136,
          -0.7877538942462053
         ],
         "z": [
          -0.2151724429605988,
          0.6186751393796417
         ]
        },
        {
         "line": {
          "color": "blue",
          "width": 4
         },
         "marker": {
          "color": "blue",
          "size": 4
         },
         "mode": "lines+markers",
         "name": "True Arrow",
         "type": "scatter3d",
         "x": [
          0.4036144517086123,
          0.35565523949485767
         ],
         "y": [
          0.10924218662919136,
          1.0940428233975323
         ],
         "z": [
          -0.2151724429605988,
          0.8251024155141327
         ]
        },
        {
         "line": {
          "color": "red",
          "width": 4
         },
         "marker": {
          "color": "red",
          "size": 4
         },
         "mode": "lines+markers",
         "name": "Predicted Arrow",
         "type": "scatter3d",
         "x": [
          0.4036144517086123,
          2.5383173726223087
         ],
         "y": [
          0.10924218662919136,
          -0.24655999175368218
         ],
         "z": [
          -0.2151724429605988,
          0.2888356117726776
         ]
        },
        {
         "line": {
          "color": "red",
          "width": 4
         },
         "marker": {
          "color": "red",
          "size": 4
         },
         "mode": "lines+markers",
         "name": "Predicted Arrow",
         "type": "scatter3d",
         "x": [
          0.4036144517086123,
          0.02008905035477626
         ],
         "y": [
          0.10924218662919136,
          -0.851834788239583
         ],
         "z": [
          -0.2151724429605988,
          0.73076399846091
         ]
        },
        {
         "line": {
          "color": "red",
          "width": 4
         },
         "marker": {
          "color": "red",
          "size": 4
         },
         "mode": "lines+markers",
         "name": "Predicted Arrow",
         "type": "scatter3d",
         "x": [
          0.4036144517086123,
          0.33086705726605403
         ],
         "y": [
          0.10924218662919136,
          1.1981055594319256
         ],
         "z": [
          -0.2151724429605988,
          0.8616239695073578
         ]
        }
       ],
       "layout": {
        "scene": {
         "xaxis": {
          "title": {
           "text": "X"
          }
         },
         "yaxis": {
          "title": {
           "text": "Y"
          }
         },
         "zaxis": {
          "title": {
           "text": "Z"
          }
         }
        },
        "template": {
         "data": {
          "bar": [
           {
            "error_x": {
             "color": "#2a3f5f"
            },
            "error_y": {
             "color": "#2a3f5f"
            },
            "marker": {
             "line": {
              "color": "#E5ECF6",
              "width": 0.5
             },
             "pattern": {
              "fillmode": "overlay",
              "size": 10,
              "solidity": 0.2
             }
            },
            "type": "bar"
           }
          ],
          "barpolar": [
           {
            "marker": {
             "line": {
              "color": "#E5ECF6",
              "width": 0.5
             },
             "pattern": {
              "fillmode": "overlay",
              "size": 10,
              "solidity": 0.2
             }
            },
            "type": "barpolar"
           }
          ],
          "carpet": [
           {
            "aaxis": {
             "endlinecolor": "#2a3f5f",
             "gridcolor": "white",
             "linecolor": "white",
             "minorgridcolor": "white",
             "startlinecolor": "#2a3f5f"
            },
            "baxis": {
             "endlinecolor": "#2a3f5f",
             "gridcolor": "white",
             "linecolor": "white",
             "minorgridcolor": "white",
             "startlinecolor": "#2a3f5f"
            },
            "type": "carpet"
           }
          ],
          "choropleth": [
           {
            "colorbar": {
             "outlinewidth": 0,
             "ticks": ""
            },
            "type": "choropleth"
           }
          ],
          "contour": [
           {
            "colorbar": {
             "outlinewidth": 0,
             "ticks": ""
            },
            "colorscale": [
             [
              0,
              "#0d0887"
             ],
             [
              0.1111111111111111,
              "#46039f"
             ],
             [
              0.2222222222222222,
              "#7201a8"
             ],
             [
              0.3333333333333333,
              "#9c179e"
             ],
             [
              0.4444444444444444,
              "#bd3786"
             ],
             [
              0.5555555555555556,
              "#d8576b"
             ],
             [
              0.6666666666666666,
              "#ed7953"
             ],
             [
              0.7777777777777778,
              "#fb9f3a"
             ],
             [
              0.8888888888888888,
              "#fdca26"
             ],
             [
              1,
              "#f0f921"
             ]
            ],
            "type": "contour"
           }
          ],
          "contourcarpet": [
           {
            "colorbar": {
             "outlinewidth": 0,
             "ticks": ""
            },
            "type": "contourcarpet"
           }
          ],
          "heatmap": [
           {
            "colorbar": {
             "outlinewidth": 0,
             "ticks": ""
            },
            "colorscale": [
             [
              0,
              "#0d0887"
             ],
             [
              0.1111111111111111,
              "#46039f"
             ],
             [
              0.2222222222222222,
              "#7201a8"
             ],
             [
              0.3333333333333333,
              "#9c179e"
             ],
             [
              0.4444444444444444,
              "#bd3786"
             ],
             [
              0.5555555555555556,
              "#d8576b"
             ],
             [
              0.6666666666666666,
              "#ed7953"
             ],
             [
              0.7777777777777778,
              "#fb9f3a"
             ],
             [
              0.8888888888888888,
              "#fdca26"
             ],
             [
              1,
              "#f0f921"
             ]
            ],
            "type": "heatmap"
           }
          ],
          "histogram": [
           {
            "marker": {
             "pattern": {
              "fillmode": "overlay",
              "size": 10,
              "solidity": 0.2
             }
            },
            "type": "histogram"
           }
          ],
          "histogram2d": [
           {
            "colorbar": {
             "outlinewidth": 0,
             "ticks": ""
            },
            "colorscale": [
             [
              0,
              "#0d0887"
             ],
             [
              0.1111111111111111,
              "#46039f"
             ],
             [
              0.2222222222222222,
              "#7201a8"
             ],
             [
              0.3333333333333333,
              "#9c179e"
             ],
             [
              0.4444444444444444,
              "#bd3786"
             ],
             [
              0.5555555555555556,
              "#d8576b"
             ],
             [
              0.6666666666666666,
              "#ed7953"
             ],
             [
              0.7777777777777778,
              "#fb9f3a"
             ],
             [
              0.8888888888888888,
              "#fdca26"
             ],
             [
              1,
              "#f0f921"
             ]
            ],
            "type": "histogram2d"
           }
          ],
          "histogram2dcontour": [
           {
            "colorbar": {
             "outlinewidth": 0,
             "ticks": ""
            },
            "colorscale": [
             [
              0,
              "#0d0887"
             ],
             [
              0.1111111111111111,
              "#46039f"
             ],
             [
              0.2222222222222222,
              "#7201a8"
             ],
             [
              0.3333333333333333,
              "#9c179e"
             ],
             [
              0.4444444444444444,
              "#bd3786"
             ],
             [
              0.5555555555555556,
              "#d8576b"
             ],
             [
              0.6666666666666666,
              "#ed7953"
             ],
             [
              0.7777777777777778,
              "#fb9f3a"
             ],
             [
              0.8888888888888888,
              "#fdca26"
             ],
             [
              1,
              "#f0f921"
             ]
            ],
            "type": "histogram2dcontour"
           }
          ],
          "mesh3d": [
           {
            "colorbar": {
             "outlinewidth": 0,
             "ticks": ""
            },
            "type": "mesh3d"
           }
          ],
          "parcoords": [
           {
            "line": {
             "colorbar": {
              "outlinewidth": 0,
              "ticks": ""
             }
            },
            "type": "parcoords"
           }
          ],
          "pie": [
           {
            "automargin": true,
            "type": "pie"
           }
          ],
          "scatter": [
           {
            "fillpattern": {
             "fillmode": "overlay",
             "size": 10,
             "solidity": 0.2
            },
            "type": "scatter"
           }
          ],
          "scatter3d": [
           {
            "line": {
             "colorbar": {
              "outlinewidth": 0,
              "ticks": ""
             }
            },
            "marker": {
             "colorbar": {
              "outlinewidth": 0,
              "ticks": ""
             }
            },
            "type": "scatter3d"
           }
          ],
          "scattercarpet": [
           {
            "marker": {
             "colorbar": {
              "outlinewidth": 0,
              "ticks": ""
             }
            },
            "type": "scattercarpet"
           }
          ],
          "scattergeo": [
           {
            "marker": {
             "colorbar": {
              "outlinewidth": 0,
              "ticks": ""
             }
            },
            "type": "scattergeo"
           }
          ],
          "scattergl": [
           {
            "marker": {
             "colorbar": {
              "outlinewidth": 0,
              "ticks": ""
             }
            },
            "type": "scattergl"
           }
          ],
          "scattermap": [
           {
            "marker": {
             "colorbar": {
              "outlinewidth": 0,
              "ticks": ""
             }
            },
            "type": "scattermap"
           }
          ],
          "scattermapbox": [
           {
            "marker": {
             "colorbar": {
              "outlinewidth": 0,
              "ticks": ""
             }
            },
            "type": "scattermapbox"
           }
          ],
          "scatterpolar": [
           {
            "marker": {
             "colorbar": {
              "outlinewidth": 0,
              "ticks": ""
             }
            },
            "type": "scatterpolar"
           }
          ],
          "scatterpolargl": [
           {
            "marker": {
             "colorbar": {
              "outlinewidth": 0,
              "ticks": ""
             }
            },
            "type": "scatterpolargl"
           }
          ],
          "scatterternary": [
           {
            "marker": {
             "colorbar": {
              "outlinewidth": 0,
              "ticks": ""
             }
            },
            "type": "scatterternary"
           }
          ],
          "surface": [
           {
            "colorbar": {
             "outlinewidth": 0,
             "ticks": ""
            },
            "colorscale": [
             [
              0,
              "#0d0887"
             ],
             [
              0.1111111111111111,
              "#46039f"
             ],
             [
              0.2222222222222222,
              "#7201a8"
             ],
             [
              0.3333333333333333,
              "#9c179e"
             ],
             [
              0.4444444444444444,
              "#bd3786"
             ],
             [
              0.5555555555555556,
              "#d8576b"
             ],
             [
              0.6666666666666666,
              "#ed7953"
             ],
             [
              0.7777777777777778,
              "#fb9f3a"
             ],
             [
              0.8888888888888888,
              "#fdca26"
             ],
             [
              1,
              "#f0f921"
             ]
            ],
            "type": "surface"
           }
          ],
          "table": [
           {
            "cells": {
             "fill": {
              "color": "#EBF0F8"
             },
             "line": {
              "color": "white"
             }
            },
            "header": {
             "fill": {
              "color": "#C8D4E3"
             },
             "line": {
              "color": "white"
             }
            },
            "type": "table"
           }
          ]
         },
         "layout": {
          "annotationdefaults": {
           "arrowcolor": "#2a3f5f",
           "arrowhead": 0,
           "arrowwidth": 1
          },
          "autotypenumbers": "strict",
          "coloraxis": {
           "colorbar": {
            "outlinewidth": 0,
            "ticks": ""
           }
          },
          "colorscale": {
           "diverging": [
            [
             0,
             "#8e0152"
            ],
            [
             0.1,
             "#c51b7d"
            ],
            [
             0.2,
             "#de77ae"
            ],
            [
             0.3,
             "#f1b6da"
            ],
            [
             0.4,
             "#fde0ef"
            ],
            [
             0.5,
             "#f7f7f7"
            ],
            [
             0.6,
             "#e6f5d0"
            ],
            [
             0.7,
             "#b8e186"
            ],
            [
             0.8,
             "#7fbc41"
            ],
            [
             0.9,
             "#4d9221"
            ],
            [
             1,
             "#276419"
            ]
           ],
           "sequential": [
            [
             0,
             "#0d0887"
            ],
            [
             0.1111111111111111,
             "#46039f"
            ],
            [
             0.2222222222222222,
             "#7201a8"
            ],
            [
             0.3333333333333333,
             "#9c179e"
            ],
            [
             0.4444444444444444,
             "#bd3786"
            ],
            [
             0.5555555555555556,
             "#d8576b"
            ],
            [
             0.6666666666666666,
             "#ed7953"
            ],
            [
             0.7777777777777778,
             "#fb9f3a"
            ],
            [
             0.8888888888888888,
             "#fdca26"
            ],
            [
             1,
             "#f0f921"
            ]
           ],
           "sequentialminus": [
            [
             0,
             "#0d0887"
            ],
            [
             0.1111111111111111,
             "#46039f"
            ],
            [
             0.2222222222222222,
             "#7201a8"
            ],
            [
             0.3333333333333333,
             "#9c179e"
            ],
            [
             0.4444444444444444,
             "#bd3786"
            ],
            [
             0.5555555555555556,
             "#d8576b"
            ],
            [
             0.6666666666666666,
             "#ed7953"
            ],
            [
             0.7777777777777778,
             "#fb9f3a"
            ],
            [
             0.8888888888888888,
             "#fdca26"
            ],
            [
             1,
             "#f0f921"
            ]
           ]
          },
          "colorway": [
           "#636efa",
           "#EF553B",
           "#00cc96",
           "#ab63fa",
           "#FFA15A",
           "#19d3f3",
           "#FF6692",
           "#B6E880",
           "#FF97FF",
           "#FECB52"
          ],
          "font": {
           "color": "#2a3f5f"
          },
          "geo": {
           "bgcolor": "white",
           "lakecolor": "white",
           "landcolor": "#E5ECF6",
           "showlakes": true,
           "showland": true,
           "subunitcolor": "white"
          },
          "hoverlabel": {
           "align": "left"
          },
          "hovermode": "closest",
          "mapbox": {
           "style": "light"
          },
          "paper_bgcolor": "white",
          "plot_bgcolor": "#E5ECF6",
          "polar": {
           "angularaxis": {
            "gridcolor": "white",
            "linecolor": "white",
            "ticks": ""
           },
           "bgcolor": "#E5ECF6",
           "radialaxis": {
            "gridcolor": "white",
            "linecolor": "white",
            "ticks": ""
           }
          },
          "scene": {
           "xaxis": {
            "backgroundcolor": "#E5ECF6",
            "gridcolor": "white",
            "gridwidth": 2,
            "linecolor": "white",
            "showbackground": true,
            "ticks": "",
            "zerolinecolor": "white"
           },
           "yaxis": {
            "backgroundcolor": "#E5ECF6",
            "gridcolor": "white",
            "gridwidth": 2,
            "linecolor": "white",
            "showbackground": true,
            "ticks": "",
            "zerolinecolor": "white"
           },
           "zaxis": {
            "backgroundcolor": "#E5ECF6",
            "gridcolor": "white",
            "gridwidth": 2,
            "linecolor": "white",
            "showbackground": true,
            "ticks": "",
            "zerolinecolor": "white"
           }
          },
          "shapedefaults": {
           "line": {
            "color": "#2a3f5f"
           }
          },
          "ternary": {
           "aaxis": {
            "gridcolor": "white",
            "linecolor": "white",
            "ticks": ""
           },
           "baxis": {
            "gridcolor": "white",
            "linecolor": "white",
            "ticks": ""
           },
           "bgcolor": "#E5ECF6",
           "caxis": {
            "gridcolor": "white",
            "linecolor": "white",
            "ticks": ""
           }
          },
          "title": {
           "x": 0.05
          },
          "xaxis": {
           "automargin": true,
           "gridcolor": "white",
           "linecolor": "white",
           "ticks": "",
           "title": {
            "standoff": 15
           },
           "zerolinecolor": "white",
           "zerolinewidth": 2
          },
          "yaxis": {
           "automargin": true,
           "gridcolor": "white",
           "linecolor": "white",
           "ticks": "",
           "title": {
            "standoff": 15
           },
           "zerolinecolor": "white",
           "zerolinewidth": 2
          }
         }
        },
        "title": {
         "text": "True vs Predicted Polarizability Comparison"
        }
       }
      }
     },
     "metadata": {},
     "output_type": "display_data"
    }
   ],
   "source": [
    "compare_polarizabilities(\n",
    "                atoms,\n",
    "                np.array(real_part_true.cpu().detach()),\n",
    "                np.array(real_part_predicted.cpu().detach())\n",
    "            )"
   ]
  },
  {
   "cell_type": "code",
=======
>>>>>>> freq-concat
   "execution_count": null,
   "metadata": {},
   "outputs": [],
   "source": []
  }
 ],
 "metadata": {
  "kernelspec": {
   "display_name": "pyg_conda",
   "language": "python",
   "name": "python3"
  },
  "language_info": {
   "codemirror_mode": {
    "name": "ipython",
    "version": 3
   },
   "file_extension": ".py",
   "mimetype": "text/x-python",
   "name": "python",
   "nbconvert_exporter": "python",
   "pygments_lexer": "ipython3",
   "version": "3.10.13"
  }
 },
 "nbformat": 4,
 "nbformat_minor": 2
}
