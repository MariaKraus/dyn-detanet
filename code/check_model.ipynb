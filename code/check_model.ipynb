{
 "cells": [
  {
   "cell_type": "code",
   "execution_count": 19,
   "metadata": {},
   "outputs": [],
   "source": [
    "import copy\n",
    "import os\n",
    "import os.path as osp\n",
    "import csv\n",
    "import util as ut\n",
    "import pandas as pd\n",
    "\n",
    "import torch.nn as nn\n",
    "import torch.nn.functional as F\n",
    "from torch.nn import GRU, Linear, ReLU, Sequential\n",
    "\n",
    "import torch_geometric.transforms as T\n",
    "from torch_geometric.data import Data\n",
    "from torch_geometric.datasets import QM9\n",
    "from torch_geometric.loader import DataLoader\n",
    "from torch_geometric.loader import DataLoader\n",
    "from torch_geometric.nn import NNConv, Set2Set\n",
    "from torch_geometric.utils import remove_self_loops\n",
    "from torch_geometric.nn import global_mean_pool\n",
    "import torch_geometric\n",
    "import logging\n",
    "\n",
    "from pathlib import Path\n",
    "import trainer\n",
    "import json \n",
    "\n",
    "from detanet_model import *\n",
    "import wandb"
   ]
  },
  {
   "cell_type": "code",
   "execution_count": 20,
   "metadata": {},
   "outputs": [],
   "source": [
    "import random\n",
    "random.seed(42)"
   ]
  },
  {
   "cell_type": "code",
   "execution_count": 21,
   "metadata": {},
   "outputs": [],
   "source": [
    "batch_size = 128\n",
    "epochs = 60\n",
    "lr=5e-4\n",
    "num_freqs=61\n",
    "\n",
    "high_spec_cutoff = 0.1\n",
    "low_fraction = 0.008"
   ]
  },
  {
   "cell_type": "code",
   "execution_count": 22,
   "metadata": {},
   "outputs": [],
   "source": [
    "\n",
    "current_dir = os.getcwd()\n",
    "parent_dir = os.path.dirname(current_dir)\n",
    "data_dir = os.path.join(parent_dir, 'data')\n",
    "csv_path = data_dir + \"/ee_polarizabilities_qm9s.csv\"\n",
    "\n",
    "dataset = []\n",
    "frequencies = ut.load_unique_frequencies(csv_path)\n",
    "\n",
    "csv_path_geometries = data_dir + \"/KITqm9_geometries.csv\"\n",
    "geometries = ut.load_geometry(csv_path_geometries)\n",
    "\n",
    "csv_spectra = data_dir + \"/DATA_QM9_reduced_2025_03_06.csv\"\n",
    "sprectras = ut.load_spectra(csv_spectra)\n",
    "\n",
    "model_path = \"trained_param/ee_polarizabilities_all_freq_KITqm9_freq_emb.pth\""
   ]
  },
  {
   "cell_type": "code",
   "execution_count": 23,
   "metadata": {},
   "outputs": [],
   "source": [
    "count = 0\n",
    "\n",
    "with open(csv_path, newline='', encoding='utf-8') as csvfile:\n",
    "    csv_reader = csv.reader(csvfile, delimiter=',')\n",
    "    \n",
    "    # Read the header to identify column indices\n",
    "    header = next(csv_reader)\n",
    "    frequency_idx = header.index(\"frequency\")\n",
    "    matrix_real_idx = header.index(\"matrix_real\")\n",
    "    matrix_imag_idx = header.index(\"matrix_imag\")\n",
    "    \n",
    "    # Read each row\n",
    "    for row in csv_reader:\n",
    "        try:\n",
    "            idx = int(row[0])\n",
    "        except ValueError:\n",
    "            print(\"Can't read index:\", row[0])\n",
    "            continue\n",
    "\n",
    "        freq_str = row[frequency_idx]\n",
    "        try:\n",
    "            freq_val = float(freq_str)\n",
    "        except ValueError:\n",
    "            continue\n",
    "\n",
    "        if freq_val not in frequencies:\n",
    "            continue\n",
    "\n",
    "        mol = None\n",
    "        # Now you can look up any 'idx' in constant time\n",
    "        if idx in geometries:\n",
    "            mol = geometries[idx]\n",
    "        else:\n",
    "            continue        \n",
    "        pos = mol.pos\n",
    "        z = mol.z\n",
    "        spectrum_value = ut.get_closest_spectrum_value(sprectras, idx, freq_val)\n",
    "\n",
    "        # Parse JSON for real matrix\n",
    "        matrix_real_str = row[matrix_real_idx]\n",
    "        matrix_imag_str = row[matrix_imag_idx]\n",
    "        try:\n",
    "            real_3x3 = json.loads(matrix_real_str)  # expected shape [3,3]\n",
    "        except json.JSONDecodeError:\n",
    "            print(\"Warning: Could not parse real part of matrix for idx:\", idx)\n",
    "            continue\n",
    "\n",
    "        try:\n",
    "            imag_3x3 = json.loads(matrix_imag_str)  # expected shape [3,3]\n",
    "        except json.JSONDecodeError:\n",
    "            print(\"Warning: Could not parse imaginary part of matrix for idx:\", idx)\n",
    "            continue\n",
    "\n",
    "        real_mat = torch.tensor(real_3x3, dtype=torch.float32)\n",
    "        imag_mat = torch.tensor(imag_3x3, dtype=torch.float32)\n",
    "        \n",
    "        y = torch.cat([real_mat, imag_mat], dim=-1)  # shape [12]\n",
    "            \n",
    "        data_entry = Data(\n",
    "            idx = mol.idx,\n",
    "            pos=pos.to(torch.float32),    # Atomic positions\n",
    "            z=torch.LongTensor(z),        # Atomic numbers\n",
    "            freq=torch.tensor(float(freq_val), dtype=torch.float32),\n",
    "            spec=torch.tensor(float(spectrum_value), dtype=torch.float32),\n",
    "            y=y,  # Polarizability tensor (target)\n",
    "        )\n",
    "        if spectrum_value > high_spec_cutoff:\n",
    "            dataset.append(data_entry)\n",
    "            count += 1\n",
    "        else:\n",
    "         # Randomly sample ~0.2% of the \"low-spec\" data\n",
    "            if random.random() < low_fraction:\n",
    "                dataset.append(data_entry)\n",
    "                "
   ]
  },
  {
   "cell_type": "code",
   "execution_count": 24,
   "metadata": {},
   "outputs": [
    {
     "name": "stdout",
     "output_type": "stream",
     "text": [
      "Collected 302 high-spec (>0.1) entries.\n",
      "Total dataset length: 1269\n",
      "dataset[0] : 34 tensor(3.0221) tensor(6.2459e-06)\n",
      "dataset[5] : 381 tensor(3.2546) tensor(9.7373e-06)\n"
     ]
    }
   ],
   "source": [
    "\n",
    "print(f\"Collected {count} high-spec (>0.1) entries.\")\n",
    "print(f\"Total dataset length: {len(dataset)}\")\n",
    "\n",
    "ex1 = dataset[0]\n",
    "ex2 = dataset[5]\n",
    "\n",
    "print(\"dataset[0] :\", ex1.idx, ex1.freq, ex1.spec)\n",
    "print(\"dataset[5] :\", ex2.idx, ex2.freq, ex2.spec)"
   ]
  },
  {
   "cell_type": "code",
   "execution_count": 25,
   "metadata": {},
   "outputs": [
    {
     "name": "stdout",
     "output_type": "stream",
     "text": [
      "Spec mean, std = 0.0422457436900231 0.0879089541274016\n"
     ]
    }
   ],
   "source": [
    "spec_values = [item.spec.item() for item in dataset]\n",
    "spec_mean = np.mean(spec_values)\n",
    "spec_std = np.std(spec_values)\n",
    "\n",
    "print(\"Spec mean, std =\", spec_mean, spec_std)\n",
    "for item in dataset:\n",
    "    old_val = item.spec.item()\n",
    "    norm_val = (old_val - spec_mean) / (spec_std + 1e-8)  # avoid div by zero\n",
    "    item.spec = torch.tensor(norm_val, dtype=torch.float32)"
   ]
  },
  {
   "cell_type": "code",
   "execution_count": 26,
   "metadata": {},
   "outputs": [
    {
     "name": "stdout",
     "output_type": "stream",
     "text": [
      "y mean, std = 28.25078968967985 179.75417543967845\n"
     ]
    }
   ],
   "source": [
    "\n",
    "import numpy as np\n",
    "\n",
    "y_vals = []\n",
    "epsilon = 1e-8\n",
    "\n",
    "for item in dataset:\n",
    "    y = item.y.reshape(-1).tolist()   \n",
    "    y_vals.extend(y)\n",
    "# compute mean, std\n",
    "y_mean, y_std = np.mean(y_vals), np.std(y_vals)\n",
    "\n",
    "print(\"y mean, std =\", y_mean, y_std)\n",
    "\n",
    "# Now transform each data entry\n",
    "for item in dataset:\n",
    "    y = item.y  # [3,6]\n",
    "    # 4) do standard z-score\n",
    "    y_norm = (y - y_mean)/(y_std + epsilon)\n",
    "    item.y = y_norm"
   ]
  },
  {
   "cell_type": "code",
   "execution_count": 27,
   "metadata": {},
   "outputs": [],
   "source": [
    "device = torch.device(\"cuda\") if torch.cuda.is_available() else torch.device(\"cpu\")\n",
    "\n",
    "model = DetaNet(num_features=128,\n",
    "                    act='swish',\n",
    "                    maxl=3,\n",
    "                    num_block=3,\n",
    "                    radial_type='trainable_bessel',\n",
    "                    num_radial=32,\n",
    "                    attention_head=8,\n",
    "                    rc=5.0,\n",
    "                    dropout=0.0,\n",
    "                    use_cutoff=False,\n",
    "                    max_atomic_number=9,\n",
    "                    atom_ref=None,\n",
    "                    scale=1.0,\n",
    "                    scalar_outsize= 4, # 2,#4, \n",
    "                    irreps_out= '2x2e', #'2e',# '2e+2e',\n",
    "                    summation=True,\n",
    "                    norm=False,\n",
    "                    out_type='complex_2_tensor', # '2_tensor',\n",
    "                    grad_type=None,\n",
    "                    device=device)"
   ]
  },
  {
   "cell_type": "code",
   "execution_count": 28,
   "metadata": {},
   "outputs": [
    {
     "data": {
      "text/plain": [
       "DetaNet(\n",
       "  (Embedding): Embedding(\n",
       "    (act): Swish()\n",
       "    (elec_emb): Linear(in_features=16, out_features=128, bias=False)\n",
       "    (nuclare_emb): Embedding(10, 128)\n",
       "    (ls): Linear(in_features=128, out_features=128, bias=True)\n",
       "    (spec_lin): Linear(in_features=1, out_features=128, bias=False)\n",
       "  )\n",
       "  (Radial): Radial_Basis(\n",
       "    (radial): Bessel_Function()\n",
       "  )\n",
       "  (blocks): Sequential(\n",
       "    (0): Interaction_Block(\n",
       "      (message): Message(\n",
       "        (Attention): Edge_Attention(\n",
       "          (actq): Swish()\n",
       "          (actk): Swish()\n",
       "          (actv): Swish()\n",
       "          (acta): Swish()\n",
       "          (softmax): Softmax(dim=-1)\n",
       "          (lq): Linear(in_features=128, out_features=128, bias=True)\n",
       "          (lk): Linear(in_features=128, out_features=128, bias=True)\n",
       "          (lv): Linear(in_features=128, out_features=256, bias=True)\n",
       "          (la): Linear(in_features=256, out_features=256, bias=True)\n",
       "          (lrbf): Linear(in_features=32, out_features=128, bias=False)\n",
       "          (lkrbf): Linear(in_features=128, out_features=128, bias=False)\n",
       "          (lvrbf): Linear(in_features=128, out_features=256, bias=False)\n",
       "        )\n",
       "        (tp): TensorProduct(128x0e x 1x1o+1x2e+1x3o -> 128x1o+128x2e+128x3o | 384 paths | 384 weights)\n",
       "      )\n",
       "      (update): Update(\n",
       "        (actu): Swish()\n",
       "        (drop): Dropout(p=0.0, inplace=False)\n",
       "        (outt): Linear(128x1o+128x2e+128x3o -> 128x1o+128x2e+128x3o | 49152 weights)\n",
       "        (outs): Linear(in_features=128, out_features=128, bias=True)\n",
       "        (uattn): Tensorproduct_Attention(\n",
       "          (lq): Linear(128x1o+128x2e+128x3o -> 128x1o+128x2e+128x3o | 49152 weights)\n",
       "          (lk): Linear(128x1o+128x2e+128x3o -> 128x1o+128x2e+128x3o | 49152 weights)\n",
       "          (lv): Linear(128x1o+128x2e+128x3o -> 128x1o+128x2e+128x3o | 49152 weights)\n",
       "          (ls): Linear(in_features=128, out_features=256, bias=True)\n",
       "          (lvs): Linear(in_features=128, out_features=128, bias=True)\n",
       "          (tp1): TensorProduct(128x1o+128x2e+128x3o x 128x1o+128x2e+128x3o -> 128x0e | 384 paths | 0 weights)\n",
       "          (tp2): TensorProduct(128x0e x 128x1o+128x2e+128x3o -> 128x1o+128x2e+128x3o | 384 paths | 384 weights)\n",
       "          (softmax): Softmax(dim=-1)\n",
       "          (actlvs): Swish()\n",
       "        )\n",
       "        (spec_mlp): Sequential(\n",
       "          (0): Linear(in_features=1, out_features=32, bias=True)\n",
       "          (1): Swish()\n",
       "          (2): Linear(in_features=32, out_features=2, bias=True)\n",
       "        )\n",
       "      )\n",
       "    )\n",
       "    (1): Interaction_Block(\n",
       "      (message): Message(\n",
       "        (Attention): Edge_Attention(\n",
       "          (actq): Swish()\n",
       "          (actk): Swish()\n",
       "          (actv): Swish()\n",
       "          (acta): Swish()\n",
       "          (softmax): Softmax(dim=-1)\n",
       "          (lq): Linear(in_features=128, out_features=128, bias=True)\n",
       "          (lk): Linear(in_features=128, out_features=128, bias=True)\n",
       "          (lv): Linear(in_features=128, out_features=256, bias=True)\n",
       "          (la): Linear(in_features=256, out_features=256, bias=True)\n",
       "          (lrbf): Linear(in_features=32, out_features=128, bias=False)\n",
       "          (lkrbf): Linear(in_features=128, out_features=128, bias=False)\n",
       "          (lvrbf): Linear(in_features=128, out_features=256, bias=False)\n",
       "        )\n",
       "        (tp): TensorProduct(128x0e x 1x1o+1x2e+1x3o -> 128x1o+128x2e+128x3o | 384 paths | 384 weights)\n",
       "      )\n",
       "      (update): Update(\n",
       "        (actu): Swish()\n",
       "        (drop): Dropout(p=0.0, inplace=False)\n",
       "        (outt): Linear(128x1o+128x2e+128x3o -> 128x1o+128x2e+128x3o | 49152 weights)\n",
       "        (outs): Linear(in_features=128, out_features=128, bias=True)\n",
       "        (uattn): Tensorproduct_Attention(\n",
       "          (lq): Linear(128x1o+128x2e+128x3o -> 128x1o+128x2e+128x3o | 49152 weights)\n",
       "          (lk): Linear(128x1o+128x2e+128x3o -> 128x1o+128x2e+128x3o | 49152 weights)\n",
       "          (lv): Linear(128x1o+128x2e+128x3o -> 128x1o+128x2e+128x3o | 49152 weights)\n",
       "          (ls): Linear(in_features=128, out_features=256, bias=True)\n",
       "          (lvs): Linear(in_features=128, out_features=128, bias=True)\n",
       "          (tp1): TensorProduct(128x1o+128x2e+128x3o x 128x1o+128x2e+128x3o -> 128x0e | 384 paths | 0 weights)\n",
       "          (tp2): TensorProduct(128x0e x 128x1o+128x2e+128x3o -> 128x1o+128x2e+128x3o | 384 paths | 384 weights)\n",
       "          (softmax): Softmax(dim=-1)\n",
       "          (actlvs): Swish()\n",
       "        )\n",
       "        (spec_mlp): Sequential(\n",
       "          (0): Linear(in_features=1, out_features=32, bias=True)\n",
       "          (1): Swish()\n",
       "          (2): Linear(in_features=32, out_features=2, bias=True)\n",
       "        )\n",
       "      )\n",
       "    )\n",
       "    (2): Interaction_Block(\n",
       "      (message): Message(\n",
       "        (Attention): Edge_Attention(\n",
       "          (actq): Swish()\n",
       "          (actk): Swish()\n",
       "          (actv): Swish()\n",
       "          (acta): Swish()\n",
       "          (softmax): Softmax(dim=-1)\n",
       "          (lq): Linear(in_features=128, out_features=128, bias=True)\n",
       "          (lk): Linear(in_features=128, out_features=128, bias=True)\n",
       "          (lv): Linear(in_features=128, out_features=256, bias=True)\n",
       "          (la): Linear(in_features=256, out_features=256, bias=True)\n",
       "          (lrbf): Linear(in_features=32, out_features=128, bias=False)\n",
       "          (lkrbf): Linear(in_features=128, out_features=128, bias=False)\n",
       "          (lvrbf): Linear(in_features=128, out_features=256, bias=False)\n",
       "        )\n",
       "        (tp): TensorProduct(128x0e x 1x1o+1x2e+1x3o -> 128x1o+128x2e+128x3o | 384 paths | 384 weights)\n",
       "      )\n",
       "      (update): Update(\n",
       "        (actu): Swish()\n",
       "        (drop): Dropout(p=0.0, inplace=False)\n",
       "        (outt): Linear(128x1o+128x2e+128x3o -> 128x1o+128x2e+128x3o | 49152 weights)\n",
       "        (outs): Linear(in_features=128, out_features=128, bias=True)\n",
       "        (uattn): Tensorproduct_Attention(\n",
       "          (lq): Linear(128x1o+128x2e+128x3o -> 128x1o+128x2e+128x3o | 49152 weights)\n",
       "          (lk): Linear(128x1o+128x2e+128x3o -> 128x1o+128x2e+128x3o | 49152 weights)\n",
       "          (lv): Linear(128x1o+128x2e+128x3o -> 128x1o+128x2e+128x3o | 49152 weights)\n",
       "          (ls): Linear(in_features=128, out_features=256, bias=True)\n",
       "          (lvs): Linear(in_features=128, out_features=128, bias=True)\n",
       "          (tp1): TensorProduct(128x1o+128x2e+128x3o x 128x1o+128x2e+128x3o -> 128x0e | 384 paths | 0 weights)\n",
       "          (tp2): TensorProduct(128x0e x 128x1o+128x2e+128x3o -> 128x1o+128x2e+128x3o | 384 paths | 384 weights)\n",
       "          (softmax): Softmax(dim=-1)\n",
       "          (actlvs): Swish()\n",
       "        )\n",
       "        (spec_mlp): Sequential(\n",
       "          (0): Linear(in_features=1, out_features=32, bias=True)\n",
       "          (1): Swish()\n",
       "          (2): Linear(in_features=32, out_features=2, bias=True)\n",
       "        )\n",
       "      )\n",
       "    )\n",
       "  )\n",
       "  (tout): Equivariant_Multilayer(\n",
       "    (e_mlp): Sequential(\n",
       "      (0): Linear(128x1o+128x2e+128x3o -> 128x2e | 16384 weights)\n",
       "      (1): Activation [ ] (128x2e -> 128x2e)\n",
       "      (2): Linear(128x2e -> 2x2e | 256 weights)\n",
       "    )\n",
       "  )\n",
       "  (sout): MLP(\n",
       "    (mlp): Sequential(\n",
       "      (0): Linear(in_features=128, out_features=128, bias=True)\n",
       "      (1): Swish()\n",
       "      (2): Dropout(p=0.0, inplace=False)\n",
       "      (3): Linear(in_features=128, out_features=4, bias=True)\n",
       "    )\n",
       "  )\n",
       ")"
      ]
     },
     "execution_count": 28,
     "metadata": {},
     "output_type": "execute_result"
    }
   ],
   "source": [
    "state_dict = torch.load(model_path)\n",
    "model.load_state_dict(state_dict=state_dict)\n",
    "model.to(device)"
   ]
  },
  {
   "cell_type": "code",
   "execution_count": 29,
   "metadata": {},
   "outputs": [],
   "source": [
    "sample = dataset[1]\n"
   ]
  },
  {
   "cell_type": "code",
   "execution_count": 42,
   "metadata": {},
   "outputs": [
    {
     "name": "stdout",
     "output_type": "stream",
     "text": [
      "spec_emb  tensor([[-0.0847,  0.0188,  0.0676,  0.0151,  0.0974,  0.0412,  0.0524,  0.0455,\n",
      "          0.0566,  0.0803, -0.0541,  0.0693,  0.0960,  0.0213, -0.0595, -0.0643,\n",
      "         -0.0471, -0.0022,  0.0248, -0.0901,  0.0234, -0.0041,  0.0059,  0.0910,\n",
      "         -0.0809,  0.0914,  0.0207, -0.0507,  0.0871, -0.0870, -0.0361, -0.0091,\n",
      "         -0.0901, -0.0169,  0.0238, -0.0204, -0.0285,  0.0212, -0.0218,  0.1031,\n",
      "         -0.0197,  0.0123, -0.0899,  0.0742, -0.0600, -0.0519, -0.0630, -0.0315,\n",
      "         -0.0074, -0.0608,  0.0343, -0.0563, -0.0783,  0.0773, -0.0300,  0.0495,\n",
      "          0.0354, -0.0337,  0.0121,  0.0102,  0.0353, -0.0618,  0.0704, -0.0508,\n",
      "          0.0555, -0.0419,  0.0972, -0.0490,  0.0862, -0.0606,  0.0499,  0.0299,\n",
      "          0.0024,  0.0181,  0.0420,  0.0332, -0.0942, -0.0582,  0.0826,  0.0248,\n",
      "         -0.0179, -0.1018,  0.0427,  0.0220, -0.1040, -0.0092,  0.0523, -0.0613,\n",
      "          0.0141, -0.0304, -0.0796, -0.0046, -0.0240,  0.1031,  0.0777,  0.0264,\n",
      "          0.0700, -0.0302, -0.0836, -0.0583,  0.0113,  0.0342,  0.0940, -0.0936,\n",
      "          0.0351, -0.0712, -0.0100, -0.0485, -0.0664,  0.0948, -0.0735,  0.0861,\n",
      "         -0.0898, -0.0636, -0.0463,  0.0463, -0.0813,  0.0660,  0.0248,  0.0793,\n",
      "         -0.0388,  0.0814,  0.0239, -0.1036,  0.0211, -0.0876,  0.0542, -0.0387]],\n",
      "       device='cuda:0', grad_fn=<MmBackward0>)\n",
      "tensor([[ 0.1049,  0.1899, -0.0511, -0.0702,  0.0252, -0.0432],\n",
      "        [ 0.1899,  0.0572,  0.0018,  0.0252,  0.0506,  0.0707],\n",
      "        [-0.0511,  0.0018,  0.2522, -0.0432,  0.0707,  0.0031]],\n",
      "       device='cuda:0', grad_fn=<MulBackward0>)\n"
     ]
    }
   ],
   "source": [
    "import torch_cluster\n",
    "import ase\n",
    "from ase.io import read\n",
    "from ase.visualize import view\n",
    "from ase.build import molecule\n",
    "#from code.util.visualize_polarizability import smiles_to_atoms, visualize_polarizability, compare_polarizabilities_eigen\n",
    "\n",
    "result = model(pos=sample.pos.to(device), z=sample.z.to(device), spec=sample.spec.to(device))\n",
    "print(result)\n",
    "\n"
   ]
  },
  {
   "cell_type": "code",
   "execution_count": 43,
   "metadata": {},
   "outputs": [
    {
     "data": {
      "text/plain": [
       "tensor([[ 0.1789, -0.2263, -0.0981, -0.1568, -0.1573, -0.1570],\n",
       "        [-0.2263,  0.2006, -0.1233, -0.1573, -0.1568, -0.1571],\n",
       "        [-0.0981, -0.1233,  0.1520, -0.1570, -0.1571, -0.1568]])"
      ]
     },
     "execution_count": 43,
     "metadata": {},
     "output_type": "execute_result"
    }
   ],
   "source": [
    "sample.y"
   ]
  },
  {
   "cell_type": "code",
   "execution_count": 50,
   "metadata": {},
   "outputs": [
    {
     "name": "stdout",
     "output_type": "stream",
     "text": [
      "pred_y  [[47.115906 62.384483 19.072948 15.633654 32.774036 20.486916]\n",
      " [62.384483 38.540894 28.57941  32.774036 37.355232 40.964867]\n",
      " [19.072948 28.57941  73.59104  20.486916 40.964867 28.804932]]\n",
      "y  [[ 6.0405468e+01 -1.2426197e+01  1.0619621e+01  6.3978195e-02\n",
      "  -2.1568298e-02  2.2394180e-02]\n",
      " [-1.2426197e+01  6.4315720e+01  6.0885277e+00 -2.1568298e-02\n",
      "   6.9450378e-02  1.2605667e-02]\n",
      " [ 1.0619621e+01  6.0885277e+00  5.5577129e+01  2.2394180e-02\n",
      "   1.2605667e-02  5.7174683e-02]]\n"
     ]
    }
   ],
   "source": [
    "pred_y_denorm = result * (y_std + epsilon) + y_mean\n",
    "pred_y_denorm = np.array(pred_y_denorm.cpu().detach())\n",
    "\n",
    "y_denorm = sample.y * (y_std + epsilon) + y_mean\n",
    "y_denorm = np.array(y_denorm.cpu().detach())\n",
    "\n",
    "print(\"pred_y \", pred_y_denorm)\n",
    "print(\"y \", y_denorm)"
   ]
  },
  {
   "cell_type": "code",
   "execution_count": 33,
   "metadata": {},
   "outputs": [],
   "source": [
    "from ase.build import molecule\n",
    "\n",
    "qm9s = torch.load(\"../data/qm9s.pt\")"
   ]
  },
  {
   "cell_type": "code",
   "execution_count": 34,
   "metadata": {},
   "outputs": [],
   "source": [
    "qm9s_dict = {entry.number: entry for entry in qm9s}"
   ]
  },
  {
   "cell_type": "code",
   "execution_count": 45,
   "metadata": {},
   "outputs": [
    {
     "name": "stdout",
     "output_type": "stream",
     "text": [
      "202\n",
      "tensor([6, 6, 6, 7, 6, 7, 1, 1, 1, 1, 1, 1])\n",
      "CC1=CNC=N1\n",
      "202\n",
      "tensor([6, 6, 6, 7, 6, 7, 1, 1, 1, 1, 1, 1])\n"
     ]
    }
   ],
   "source": [
    "print(qm9s_dict[sample.idx].number)\n",
    "print(qm9s_dict[sample.idx].z)\n",
    "print(qm9s_dict[sample.idx].smile)\n",
    "print(sample.idx)\n",
    "print(sample.z)\n",
    "\n"
   ]
  },
  {
   "cell_type": "code",
   "execution_count": 46,
   "metadata": {},
   "outputs": [
    {
     "data": {
      "text/html": [
       "<html>\n",
       "    <head>\n",
       "        <title>ASE atomic visualization</title>\n",
       "        <link rel=\"stylesheet\" type=\"text/css\"             href=\"https://www.x3dom.org/release/x3dom.css\"></link>\n",
       "        <script type=\"text/javascript\"             src=\"https://www.x3dom.org/release/x3dom.js\"></script>\n",
       "    </head>\n",
       "    <body>\n",
       "        <X3D width=\"400px\"; height=\"300px\";>\n",
       "\n",
       "<!--Inserting Generated X3D Scene-->\n",
       "<scene>\n",
       "  <viewpoint position=\"0 0 9.715364771076572\">\n",
       "    <group/>\n",
       "  </viewpoint>\n",
       "  <transform translation=\"-0.0 -0.0 -0.0\">\n",
       "    <group>\n",
       "      <group>\n",
       "        <transform translation=\"0 0 0\">\n",
       "          <shape>\n",
       "            <appearance>\n",
       "              <material diffuseColor=\"0 0 0\"/>\n",
       "            </appearance>\n",
       "            <lineset vertexCount=\"5\">\n",
       "              <coordinate point=\"0 0 0 0.0 0.0 0.0 0.0 0.0 0.0 0.0 0.0 0.0 0 0 0\"/>\n",
       "            </lineset>\n",
       "          </shape>\n",
       "        </transform>\n",
       "        <transform translation=\"0.0 0.0 0.0\">\n",
       "          <shape>\n",
       "            <appearance>\n",
       "              <material diffuseColor=\"0 0 0\"/>\n",
       "            </appearance>\n",
       "            <lineset vertexCount=\"5\">\n",
       "              <coordinate point=\"0 0 0 0.0 0.0 0.0 0.0 0.0 0.0 0.0 0.0 0.0 0 0 0\"/>\n",
       "            </lineset>\n",
       "          </shape>\n",
       "        </transform>\n",
       "        <transform translation=\"0 0 0\">\n",
       "          <shape>\n",
       "            <appearance>\n",
       "              <material diffuseColor=\"0 0 0\"/>\n",
       "            </appearance>\n",
       "            <lineset vertexCount=\"5\">\n",
       "              <coordinate point=\"0 0 0 0.0 0.0 0.0 0.0 0.0 0.0 0.0 0.0 0.0 0 0 0\"/>\n",
       "            </lineset>\n",
       "          </shape>\n",
       "        </transform>\n",
       "        <transform translation=\"0.0 0.0 0.0\">\n",
       "          <shape>\n",
       "            <appearance>\n",
       "              <material diffuseColor=\"0 0 0\"/>\n",
       "            </appearance>\n",
       "            <lineset vertexCount=\"5\">\n",
       "              <coordinate point=\"0 0 0 0.0 0.0 0.0 0.0 0.0 0.0 0.0 0.0 0.0 0 0 0\"/>\n",
       "            </lineset>\n",
       "          </shape>\n",
       "        </transform>\n",
       "      </group>\n",
       "      <group>\n",
       "        <transform translation=\"1.8963443600970695 -0.1667751470055778 0.13725612624991476\">\n",
       "          <shape>\n",
       "            <appearance>\n",
       "              <material diffuseColor=\"0.565 0.565 0.565\"/>\n",
       "            </appearance>\n",
       "            <sphere radius=\"0.76\"/>\n",
       "          </shape>\n",
       "        </transform>\n",
       "        <transform translation=\"0.40641104681383367 -0.18266923337183347 0.05787593771705275\">\n",
       "          <shape>\n",
       "            <appearance>\n",
       "              <material diffuseColor=\"0.565 0.565 0.565\"/>\n",
       "            </appearance>\n",
       "            <sphere radius=\"0.76\"/>\n",
       "          </shape>\n",
       "        </transform>\n",
       "        <transform translation=\"-0.41360130984949584 0.9227661876036367 0.06567819723694987\">\n",
       "          <shape>\n",
       "            <appearance>\n",
       "              <material diffuseColor=\"0.565 0.565 0.565\"/>\n",
       "            </appearance>\n",
       "            <sphere radius=\"0.76\"/>\n",
       "          </shape>\n",
       "        </transform>\n",
       "        <transform translation=\"-1.6759638805975936 0.4981387884444572 -0.09202861942888362\">\n",
       "          <shape>\n",
       "            <appearance>\n",
       "              <material diffuseColor=\"0.188 0.314 0.973\"/>\n",
       "            </appearance>\n",
       "            <sphere radius=\"0.71\"/>\n",
       "          </shape>\n",
       "        </transform>\n",
       "        <transform translation=\"-1.5952602313706963 -0.84155418839673 -0.20311761233995573\">\n",
       "          <shape>\n",
       "            <appearance>\n",
       "              <material diffuseColor=\"0.565 0.565 0.565\"/>\n",
       "            </appearance>\n",
       "            <sphere radius=\"0.76\"/>\n",
       "          </shape>\n",
       "        </transform>\n",
       "        <transform translation=\"-0.32728480812416794 -1.298673204187294 -0.12458015312906229\">\n",
       "          <shape>\n",
       "            <appearance>\n",
       "              <material diffuseColor=\"0.188 0.314 0.973\"/>\n",
       "            </appearance>\n",
       "            <sphere radius=\"0.71\"/>\n",
       "          </shape>\n",
       "        </transform>\n",
       "        <transform translation=\"2.2327315094473326 0.6388902931164298 0.8233330722922504\">\n",
       "          <shape>\n",
       "            <appearance>\n",
       "              <material diffuseColor=\"1.0 1.0 1.0\"/>\n",
       "            </appearance>\n",
       "            <sphere radius=\"0.31\"/>\n",
       "          </shape>\n",
       "        </transform>\n",
       "        <transform translation=\"2.3187636466193835 0.0123730012877798 -0.8732221080119976\">\n",
       "          <shape>\n",
       "            <appearance>\n",
       "              <material diffuseColor=\"1.0 1.0 1.0\"/>\n",
       "            </appearance>\n",
       "            <sphere radius=\"0.31\"/>\n",
       "          </shape>\n",
       "        </transform>\n",
       "        <transform translation=\"2.2661305474018025 -1.1411083976571235 0.520010897989094\">\n",
       "          <shape>\n",
       "            <appearance>\n",
       "              <material diffuseColor=\"1.0 1.0 1.0\"/>\n",
       "            </appearance>\n",
       "            <sphere radius=\"0.31\"/>\n",
       "          </shape>\n",
       "        </transform>\n",
       "        <transform translation=\"-0.11558549404649605 1.9580803871741996 0.16915254574104405\">\n",
       "          <shape>\n",
       "            <appearance>\n",
       "              <material diffuseColor=\"1.0 1.0 1.0\"/>\n",
       "            </appearance>\n",
       "            <sphere radius=\"0.31\"/>\n",
       "          </shape>\n",
       "        </transform>\n",
       "        <transform translation=\"-2.5389187389189023 1.0841937211057722 -0.13105960861359625\">\n",
       "          <shape>\n",
       "            <appearance>\n",
       "              <material diffuseColor=\"1.0 1.0 1.0\"/>\n",
       "            </appearance>\n",
       "            <sphere radius=\"0.31\"/>\n",
       "          </shape>\n",
       "        </transform>\n",
       "        <transform translation=\"-2.453766647470684 -1.4836622081130217 -0.3492986757031864\">\n",
       "          <shape>\n",
       "            <appearance>\n",
       "              <material diffuseColor=\"1.0 1.0 1.0\"/>\n",
       "            </appearance>\n",
       "            <sphere radius=\"0.31\"/>\n",
       "          </shape>\n",
       "        </transform>\n",
       "      </group>\n",
       "    </group>\n",
       "  </transform>\n",
       "</scene>\n",
       "<!--End of Inserted Scene-->\n",
       "\n",
       "        </X3D>\n",
       "    </body>\n",
       "</html>\n",
       "\n"
      ],
      "text/plain": [
       "<IPython.core.display.HTML object>"
      ]
     },
     "execution_count": 46,
     "metadata": {},
     "output_type": "execute_result"
    }
   ],
   "source": [
    "from util.visualize_polarizability import smiles_to_atoms, visualize_polarizability, compare_polarizabilities_eigen\n",
    "atoms = smiles_to_atoms(qm9s_dict[sample.idx].smile)\n",
    "view(atoms, viewer='x3d')"
   ]
  },
  {
   "cell_type": "code",
   "execution_count": 52,
   "metadata": {},
   "outputs": [
    {
     "name": "stdout",
     "output_type": "stream",
     "text": [
      "[[47.115906 62.384483 19.072948]\n",
      " [62.384483 38.540894 28.57941 ]\n",
      " [19.072948 28.57941  73.59104 ]]\n",
      "Raw Eigenvalues (True Tensor): [126.622375 -20.431532  53.057   ]\n",
      "Real Eigenvalues (True Tensor): [126.622375 -20.431532  53.057   ]\n"
     ]
    },
    {
     "data": {
      "application/vnd.plotly.v1+json": {
       "config": {
        "plotlyServerURL": "https://plot.ly"
       },
       "data": [
        {
         "marker": {
          "color": [
           "black",
           "black",
           "black",
           "blue",
           "black",
           "blue",
           "grey",
           "grey",
           "grey",
           "grey",
           "grey",
           "grey"
          ],
          "size": 6
         },
         "mode": "markers+text",
         "name": "Atoms",
         "text": [
          "C",
          "C",
          "C",
          "N",
          "C",
          "N",
          "H",
          "H",
          "H",
          "H",
          "H",
          "H"
         ],
         "textposition": "top center",
         "type": "scatter3d",
         "x": {
          "bdata": "qCIJL21X/j9KG7N6owLaP+q52KBxeNq/RRqHgL/Q+r9ni6WXL4b5v2y91/o78tS/npluVqLcAUBWEmv004wCQGR1bA0JIQJAJVvSzAKXvb+x3bagtE8EwJo3d2hQoQPA",
          "dtype": "f8"
         },
         "y": {
          "bdata": "n1cWVeNYxb8boaiXtGHHv0+Xs/RMh+0/fztPg4Hh3z+TOZ8MA+7qv7nQwo1dx/S/aFdVDspx5D/jNRMfBFeJP40NEuH6QfK/oqKdGUxU/z9r2OqD21jxP1SBYpUUvfe/",
          "dtype": "f8"
         },
         "z": {
          "bdata": "z6K11puRwT+arXA36qGtP1ZkMU1J0LA/1zq+BjCPt7+M8B4Hwv/Jv8SEayN85L+/wbtmmb5Y6j9fyIF9b/Hrv/GnDeXto+A/Rhj/ZcqmxT/ZNWmuj8bAv1iaK9XoWta/",
          "dtype": "f8"
         }
        },
        {
         "colorscale": [
          [
           0,
           "rgb(255,245,240)"
          ],
          [
           0.125,
           "rgb(254,224,210)"
          ],
          [
           0.25,
           "rgb(252,187,161)"
          ],
          [
           0.375,
           "rgb(252,146,114)"
          ],
          [
           0.5,
           "rgb(251,106,74)"
          ],
          [
           0.625,
           "rgb(239,59,44)"
          ],
          [
           0.75,
           "rgb(203,24,29)"
          ],
          [
           0.875,
           "rgb(165,15,21)"
          ],
          [
           1,
           "rgb(103,0,13)"
          ]
         ],
         "name": "Polarizability Ellipsoid",
         "opacity": 0.5,
         "showscale": false,
         "type": "surface",
         "x": {
          "bdata": "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",
          "dtype": "f8",
          "shape": "50, 25"
         },
         "y": {
          "bdata": "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",
          "dtype": "f8",
          "shape": "50, 25"
         },
         "z": {
          "bdata": "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",
          "dtype": "f8",
          "shape": "50, 25"
         }
        },
        {
         "line": {
          "color": "red",
          "width": 4
         },
         "marker": {
          "color": "red",
          "size": 4
         },
         "mode": "lines+markers",
         "name": "Polarizability Arrow",
         "type": "scatter3d",
         "x": [
          -0.27776917034684295,
          -4.056778274121867
         ],
         "y": [
          -0.16268613451220978,
          -3.940842891866946
         ],
         "z": [
          -0.026562068777323804,
          -3.4218066671659955
         ]
        },
        {
         "line": {
          "color": "red",
          "width": 4
         },
         "marker": {
          "color": "red",
          "size": 4
         },
         "mode": "lines+markers",
         "name": "Polarizability Arrow",
         "type": "scatter3d",
         "x": [
          -0.27776917034684295,
          0.3979397196143997
         ],
         "y": [
          -0.16268613451220978,
          -0.923073733980441
         ],
         "z": [
          -0.026562068777323804,
          0.06749692170119181
         ]
        },
        {
         "line": {
          "color": "red",
          "width": 4
         },
         "marker": {
          "color": "red",
          "size": 4
         },
         "mode": "lines+markers",
         "name": "Polarizability Arrow",
         "type": "scatter3d",
         "x": [
          -0.27776917034684295,
          -1.4824604612022507
         ],
         "y": [
          -0.16268613451220978,
          -0.9578972708533048
         ],
         "z": [
          -0.026562068777323804,
          2.199189808053731
         ]
        }
       ],
       "layout": {
        "scene": {
         "xaxis": {
          "title": {
           "text": "X"
          }
         },
         "yaxis": {
          "title": {
           "text": "Y"
          }
         },
         "zaxis": {
          "title": {
           "text": "Z"
          }
         }
        },
        "template": {
         "data": {
          "bar": [
           {
            "error_x": {
             "color": "#2a3f5f"
            },
            "error_y": {
             "color": "#2a3f5f"
            },
            "marker": {
             "line": {
              "color": "#E5ECF6",
              "width": 0.5
             },
             "pattern": {
              "fillmode": "overlay",
              "size": 10,
              "solidity": 0.2
             }
            },
            "type": "bar"
           }
          ],
          "barpolar": [
           {
            "marker": {
             "line": {
              "color": "#E5ECF6",
              "width": 0.5
             },
             "pattern": {
              "fillmode": "overlay",
              "size": 10,
              "solidity": 0.2
             }
            },
            "type": "barpolar"
           }
          ],
          "carpet": [
           {
            "aaxis": {
             "endlinecolor": "#2a3f5f",
             "gridcolor": "white",
             "linecolor": "white",
             "minorgridcolor": "white",
             "startlinecolor": "#2a3f5f"
            },
            "baxis": {
             "endlinecolor": "#2a3f5f",
             "gridcolor": "white",
             "linecolor": "white",
             "minorgridcolor": "white",
             "startlinecolor": "#2a3f5f"
            },
            "type": "carpet"
           }
          ],
          "choropleth": [
           {
            "colorbar": {
             "outlinewidth": 0,
             "ticks": ""
            },
            "type": "choropleth"
           }
          ],
          "contour": [
           {
            "colorbar": {
             "outlinewidth": 0,
             "ticks": ""
            },
            "colorscale": [
             [
              0,
              "#0d0887"
             ],
             [
              0.1111111111111111,
              "#46039f"
             ],
             [
              0.2222222222222222,
              "#7201a8"
             ],
             [
              0.3333333333333333,
              "#9c179e"
             ],
             [
              0.4444444444444444,
              "#bd3786"
             ],
             [
              0.5555555555555556,
              "#d8576b"
             ],
             [
              0.6666666666666666,
              "#ed7953"
             ],
             [
              0.7777777777777778,
              "#fb9f3a"
             ],
             [
              0.8888888888888888,
              "#fdca26"
             ],
             [
              1,
              "#f0f921"
             ]
            ],
            "type": "contour"
           }
          ],
          "contourcarpet": [
           {
            "colorbar": {
             "outlinewidth": 0,
             "ticks": ""
            },
            "type": "contourcarpet"
           }
          ],
          "heatmap": [
           {
            "colorbar": {
             "outlinewidth": 0,
             "ticks": ""
            },
            "colorscale": [
             [
              0,
              "#0d0887"
             ],
             [
              0.1111111111111111,
              "#46039f"
             ],
             [
              0.2222222222222222,
              "#7201a8"
             ],
             [
              0.3333333333333333,
              "#9c179e"
             ],
             [
              0.4444444444444444,
              "#bd3786"
             ],
             [
              0.5555555555555556,
              "#d8576b"
             ],
             [
              0.6666666666666666,
              "#ed7953"
             ],
             [
              0.7777777777777778,
              "#fb9f3a"
             ],
             [
              0.8888888888888888,
              "#fdca26"
             ],
             [
              1,
              "#f0f921"
             ]
            ],
            "type": "heatmap"
           }
          ],
          "histogram": [
           {
            "marker": {
             "pattern": {
              "fillmode": "overlay",
              "size": 10,
              "solidity": 0.2
             }
            },
            "type": "histogram"
           }
          ],
          "histogram2d": [
           {
            "colorbar": {
             "outlinewidth": 0,
             "ticks": ""
            },
            "colorscale": [
             [
              0,
              "#0d0887"
             ],
             [
              0.1111111111111111,
              "#46039f"
             ],
             [
              0.2222222222222222,
              "#7201a8"
             ],
             [
              0.3333333333333333,
              "#9c179e"
             ],
             [
              0.4444444444444444,
              "#bd3786"
             ],
             [
              0.5555555555555556,
              "#d8576b"
             ],
             [
              0.6666666666666666,
              "#ed7953"
             ],
             [
              0.7777777777777778,
              "#fb9f3a"
             ],
             [
              0.8888888888888888,
              "#fdca26"
             ],
             [
              1,
              "#f0f921"
             ]
            ],
            "type": "histogram2d"
           }
          ],
          "histogram2dcontour": [
           {
            "colorbar": {
             "outlinewidth": 0,
             "ticks": ""
            },
            "colorscale": [
             [
              0,
              "#0d0887"
             ],
             [
              0.1111111111111111,
              "#46039f"
             ],
             [
              0.2222222222222222,
              "#7201a8"
             ],
             [
              0.3333333333333333,
              "#9c179e"
             ],
             [
              0.4444444444444444,
              "#bd3786"
             ],
             [
              0.5555555555555556,
              "#d8576b"
             ],
             [
              0.6666666666666666,
              "#ed7953"
             ],
             [
              0.7777777777777778,
              "#fb9f3a"
             ],
             [
              0.8888888888888888,
              "#fdca26"
             ],
             [
              1,
              "#f0f921"
             ]
            ],
            "type": "histogram2dcontour"
           }
          ],
          "mesh3d": [
           {
            "colorbar": {
             "outlinewidth": 0,
             "ticks": ""
            },
            "type": "mesh3d"
           }
          ],
          "parcoords": [
           {
            "line": {
             "colorbar": {
              "outlinewidth": 0,
              "ticks": ""
             }
            },
            "type": "parcoords"
           }
          ],
          "pie": [
           {
            "automargin": true,
            "type": "pie"
           }
          ],
          "scatter": [
           {
            "fillpattern": {
             "fillmode": "overlay",
             "size": 10,
             "solidity": 0.2
            },
            "type": "scatter"
           }
          ],
          "scatter3d": [
           {
            "line": {
             "colorbar": {
              "outlinewidth": 0,
              "ticks": ""
             }
            },
            "marker": {
             "colorbar": {
              "outlinewidth": 0,
              "ticks": ""
             }
            },
            "type": "scatter3d"
           }
          ],
          "scattercarpet": [
           {
            "marker": {
             "colorbar": {
              "outlinewidth": 0,
              "ticks": ""
             }
            },
            "type": "scattercarpet"
           }
          ],
          "scattergeo": [
           {
            "marker": {
             "colorbar": {
              "outlinewidth": 0,
              "ticks": ""
             }
            },
            "type": "scattergeo"
           }
          ],
          "scattergl": [
           {
            "marker": {
             "colorbar": {
              "outlinewidth": 0,
              "ticks": ""
             }
            },
            "type": "scattergl"
           }
          ],
          "scattermap": [
           {
            "marker": {
             "colorbar": {
              "outlinewidth": 0,
              "ticks": ""
             }
            },
            "type": "scattermap"
           }
          ],
          "scattermapbox": [
           {
            "marker": {
             "colorbar": {
              "outlinewidth": 0,
              "ticks": ""
             }
            },
            "type": "scattermapbox"
           }
          ],
          "scatterpolar": [
           {
            "marker": {
             "colorbar": {
              "outlinewidth": 0,
              "ticks": ""
             }
            },
            "type": "scatterpolar"
           }
          ],
          "scatterpolargl": [
           {
            "marker": {
             "colorbar": {
              "outlinewidth": 0,
              "ticks": ""
             }
            },
            "type": "scatterpolargl"
           }
          ],
          "scatterternary": [
           {
            "marker": {
             "colorbar": {
              "outlinewidth": 0,
              "ticks": ""
             }
            },
            "type": "scatterternary"
           }
          ],
          "surface": [
           {
            "colorbar": {
             "outlinewidth": 0,
             "ticks": ""
            },
            "colorscale": [
             [
              0,
              "#0d0887"
             ],
             [
              0.1111111111111111,
              "#46039f"
             ],
             [
              0.2222222222222222,
              "#7201a8"
             ],
             [
              0.3333333333333333,
              "#9c179e"
             ],
             [
              0.4444444444444444,
              "#bd3786"
             ],
             [
              0.5555555555555556,
              "#d8576b"
             ],
             [
              0.6666666666666666,
              "#ed7953"
             ],
             [
              0.7777777777777778,
              "#fb9f3a"
             ],
             [
              0.8888888888888888,
              "#fdca26"
             ],
             [
              1,
              "#f0f921"
             ]
            ],
            "type": "surface"
           }
          ],
          "table": [
           {
            "cells": {
             "fill": {
              "color": "#EBF0F8"
             },
             "line": {
              "color": "white"
             }
            },
            "header": {
             "fill": {
              "color": "#C8D4E3"
             },
             "line": {
              "color": "white"
             }
            },
            "type": "table"
           }
          ]
         },
         "layout": {
          "annotationdefaults": {
           "arrowcolor": "#2a3f5f",
           "arrowhead": 0,
           "arrowwidth": 1
          },
          "autotypenumbers": "strict",
          "coloraxis": {
           "colorbar": {
            "outlinewidth": 0,
            "ticks": ""
           }
          },
          "colorscale": {
           "diverging": [
            [
             0,
             "#8e0152"
            ],
            [
             0.1,
             "#c51b7d"
            ],
            [
             0.2,
             "#de77ae"
            ],
            [
             0.3,
             "#f1b6da"
            ],
            [
             0.4,
             "#fde0ef"
            ],
            [
             0.5,
             "#f7f7f7"
            ],
            [
             0.6,
             "#e6f5d0"
            ],
            [
             0.7,
             "#b8e186"
            ],
            [
             0.8,
             "#7fbc41"
            ],
            [
             0.9,
             "#4d9221"
            ],
            [
             1,
             "#276419"
            ]
           ],
           "sequential": [
            [
             0,
             "#0d0887"
            ],
            [
             0.1111111111111111,
             "#46039f"
            ],
            [
             0.2222222222222222,
             "#7201a8"
            ],
            [
             0.3333333333333333,
             "#9c179e"
            ],
            [
             0.4444444444444444,
             "#bd3786"
            ],
            [
             0.5555555555555556,
             "#d8576b"
            ],
            [
             0.6666666666666666,
             "#ed7953"
            ],
            [
             0.7777777777777778,
             "#fb9f3a"
            ],
            [
             0.8888888888888888,
             "#fdca26"
            ],
            [
             1,
             "#f0f921"
            ]
           ],
           "sequentialminus": [
            [
             0,
             "#0d0887"
            ],
            [
             0.1111111111111111,
             "#46039f"
            ],
            [
             0.2222222222222222,
             "#7201a8"
            ],
            [
             0.3333333333333333,
             "#9c179e"
            ],
            [
             0.4444444444444444,
             "#bd3786"
            ],
            [
             0.5555555555555556,
             "#d8576b"
            ],
            [
             0.6666666666666666,
             "#ed7953"
            ],
            [
             0.7777777777777778,
             "#fb9f3a"
            ],
            [
             0.8888888888888888,
             "#fdca26"
            ],
            [
             1,
             "#f0f921"
            ]
           ]
          },
          "colorway": [
           "#636efa",
           "#EF553B",
           "#00cc96",
           "#ab63fa",
           "#FFA15A",
           "#19d3f3",
           "#FF6692",
           "#B6E880",
           "#FF97FF",
           "#FECB52"
          ],
          "font": {
           "color": "#2a3f5f"
          },
          "geo": {
           "bgcolor": "white",
           "lakecolor": "white",
           "landcolor": "#E5ECF6",
           "showlakes": true,
           "showland": true,
           "subunitcolor": "white"
          },
          "hoverlabel": {
           "align": "left"
          },
          "hovermode": "closest",
          "mapbox": {
           "style": "light"
          },
          "paper_bgcolor": "white",
          "plot_bgcolor": "#E5ECF6",
          "polar": {
           "angularaxis": {
            "gridcolor": "white",
            "linecolor": "white",
            "ticks": ""
           },
           "bgcolor": "#E5ECF6",
           "radialaxis": {
            "gridcolor": "white",
            "linecolor": "white",
            "ticks": ""
           }
          },
          "scene": {
           "xaxis": {
            "backgroundcolor": "#E5ECF6",
            "gridcolor": "white",
            "gridwidth": 2,
            "linecolor": "white",
            "showbackground": true,
            "ticks": "",
            "zerolinecolor": "white"
           },
           "yaxis": {
            "backgroundcolor": "#E5ECF6",
            "gridcolor": "white",
            "gridwidth": 2,
            "linecolor": "white",
            "showbackground": true,
            "ticks": "",
            "zerolinecolor": "white"
           },
           "zaxis": {
            "backgroundcolor": "#E5ECF6",
            "gridcolor": "white",
            "gridwidth": 2,
            "linecolor": "white",
            "showbackground": true,
            "ticks": "",
            "zerolinecolor": "white"
           }
          },
          "shapedefaults": {
           "line": {
            "color": "#2a3f5f"
           }
          },
          "ternary": {
           "aaxis": {
            "gridcolor": "white",
            "linecolor": "white",
            "ticks": ""
           },
           "baxis": {
            "gridcolor": "white",
            "linecolor": "white",
            "ticks": ""
           },
           "bgcolor": "#E5ECF6",
           "caxis": {
            "gridcolor": "white",
            "linecolor": "white",
            "ticks": ""
           }
          },
          "title": {
           "x": 0.05
          },
          "xaxis": {
           "automargin": true,
           "gridcolor": "white",
           "linecolor": "white",
           "ticks": "",
           "title": {
            "standoff": 15
           },
           "zerolinecolor": "white",
           "zerolinewidth": 2
          },
          "yaxis": {
           "automargin": true,
           "gridcolor": "white",
           "linecolor": "white",
           "ticks": "",
           "title": {
            "standoff": 15
           },
           "zerolinecolor": "white",
           "zerolinewidth": 2
          }
         }
        },
        "title": {
         "text": "Molecule with Polarizability Arrows"
        }
       }
      }
     },
     "metadata": {},
     "output_type": "display_data"
    },
    {
     "name": "stdout",
     "output_type": "stream",
     "text": [
      "[[ 60.405468  -12.426197   10.619621 ]\n",
      " [-12.426197   64.31572     6.0885277]\n",
      " [ 10.619621    6.0885277  55.57713  ]]\n"
     ]
    }
   ],
   "source": [
    "real_part_true_denorm = pred_y_denorm[:,:3]\n",
    "print(real_part_true_denorm)\n",
    "\n",
    "visualize_polarizability(atoms, real_part_true_denorm)\n",
    "\n",
    "real_part_predicted_denorm = y_denorm[:,:3]\n",
    "print(real_part_predicted_denorm)"
   ]
  },
  {
   "cell_type": "code",
   "execution_count": 53,
   "metadata": {},
   "outputs": [
    {
     "name": "stdout",
     "output_type": "stream",
     "text": [
      "tensor([[ 0.1789, -0.2263, -0.0981],\n",
      "        [-0.2263,  0.2006, -0.1233],\n",
      "        [-0.0981, -0.1233,  0.1520]])\n",
      "Raw Eigenvalues (True Tensor): [-0.1249928   0.41849768  0.23803183]\n",
      "Real Eigenvalues (True Tensor): [-0.1249928   0.41849768  0.23803183]\n"
     ]
    },
    {
     "data": {
      "application/vnd.plotly.v1+json": {
       "config": {
        "plotlyServerURL": "https://plot.ly"
       },
       "data": [
        {
         "marker": {
          "color": [
           "black",
           "black",
           "black",
           "blue",
           "black",
           "blue",
           "grey",
           "grey",
           "grey",
           "grey",
           "grey",
           "grey"
          ],
          "size": 6
         },
         "mode": "markers+text",
         "name": "Atoms",
         "text": [
          "C",
          "C",
          "C",
          "N",
          "C",
          "N",
          "H",
          "H",
          "H",
          "H",
          "H",
          "H"
         ],
         "textposition": "top center",
         "type": "scatter3d",
         "x": {
          "bdata": "qCIJL21X/j9KG7N6owLaP+q52KBxeNq/RRqHgL/Q+r9ni6WXL4b5v2y91/o78tS/npluVqLcAUBWEmv004wCQGR1bA0JIQJAJVvSzAKXvb+x3bagtE8EwJo3d2hQoQPA",
          "dtype": "f8"
         },
         "y": {
          "bdata": "n1cWVeNYxb8boaiXtGHHv0+Xs/RMh+0/fztPg4Hh3z+TOZ8MA+7qv7nQwo1dx/S/aFdVDspx5D/jNRMfBFeJP40NEuH6QfK/oqKdGUxU/z9r2OqD21jxP1SBYpUUvfe/",
          "dtype": "f8"
         },
         "z": {
          "bdata": "z6K11puRwT+arXA36qGtP1ZkMU1J0LA/1zq+BjCPt7+M8B4Hwv/Jv8SEayN85L+/wbtmmb5Y6j9fyIF9b/Hrv/GnDeXto+A/Rhj/ZcqmxT/ZNWmuj8bAv1iaK9XoWta/",
          "dtype": "f8"
         }
        },
        {
         "colorscale": [
          [
           0,
           "rgb(255,245,240)"
          ],
          [
           0.125,
           "rgb(254,224,210)"
          ],
          [
           0.25,
           "rgb(252,187,161)"
          ],
          [
           0.375,
           "rgb(252,146,114)"
          ],
          [
           0.5,
           "rgb(251,106,74)"
          ],
          [
           0.625,
           "rgb(239,59,44)"
          ],
          [
           0.75,
           "rgb(203,24,29)"
          ],
          [
           0.875,
           "rgb(165,15,21)"
          ],
          [
           1,
           "rgb(103,0,13)"
          ]
         ],
         "name": "Polarizability Ellipsoid",
         "opacity": 0.5,
         "showscale": false,
         "type": "surface",
         "x": {
          "bdata": "SVHSx14a0r/DOC6YahHSv0Ux/lAwB9K/6uPrvtz70b+uR8F+oe/Rv9Q9GCS04tG/sRGtTk3V0b88zVeyp8fRv53L6hX/udG/b9RcTY+s0b8Aprkzk5/RvzXRVKlDk9G/xyGomtaH0b9r0yAUfn3Rv2gu5mZndNG/SsxZYrps0b9L/balmGbRv6MezQwdYtG/svdZOltf0b9BcAdCX17RvxBdhXMtX9G/jhinR8Jh0b+tn9dvEmbRvwWCoAcLbNG/pbRq55Fz0b9JUdLHXhrSv5qXHJizDdK/Z790ltL/0b8K99eN+PDRv0dXD4xm4dG/7XW8xGDR0b8uLpxmLcHRv5cqHGgTsdG/Db6FUFmh0b+hkA8DRJLRv59QH5EVhNG/bhzlGAx30b/5QES1YGvRv6QesYNGYdG/BtlLxOlY0b97iAwYb1LRv7vvUeDyTdG//3uRwohL0b8uFElSO0vRv1qoq+ILTdG/qWzTgPJQ0b+uK5MW3lbRv88tTrW0XtG/2+COB1Ro0b+ltGrnkXPRv0lR0sdeGtK/2p0F2S4K0r/fB8GB2PjRv2Df+bKn5tG/292UGuzT0b8pqmLG98DRvyCGtbwdrtG/ani2kLCb0b/s5LL4AIrRv7TkkmxcedG/CPGE0gtq0b8AOa0/UlzRvyFOT9JrUNG/Njt5qoxG0b9webEF4D7Rv47cj4GHOdG/mhZ/iJo20b/RySvrJTbRvyFsYqgrONG/ltxR5KI80b8981gPeEPRvwQUtTuNTNG/R3aaoLpX0b8b53dIz2TRv6W0aueRc9G/SVHSx14a0r+o6zUl6wbSv2Fts2Zf8tG/kcwvixXd0b9tek3SasfRv1kd+SO+sdG/KM6zcG6c0b9uwLcR2YfRv1ziFDBYdNG/h3rEOUFi0b+SnnVr41HRv2GZeXWGQ9G/RYfAQWk30b+Xm0XgwC3Rv/omop63JtG/YXLBTmwi0b8KFOG/8SDRv9URLWxOItG/KLRgXHwm0b/GT+hBaS3Rv8+PEcf2NtG/NQHrE/tC0b/J24yFQVHRv+o0qJSLYdG/pbRq55Fz0b9JUdLHXhrSv/dDkDX2A9K/hTX2eoLs0b/7TbxRatTRv+Pi2kMXvNG/QYRB3fOj0b91FiTZaYzRv7Y42lLgddG/6pI9Arpg0b8eS0GLU03RvwSvKOgBPNG/s4FO9RAt0b8xWNskwiDRv+mDGmBLF9G/bDdVG9YQ0b/4Qj6gfg3Rv5jECZJTDdG/HopPrVUQ0b92/NDEdxbRv6+2MPueH9G/RfieOKMr0b+fgnfaTzrRv+2jz5lkS9G/OY0CpZZe0b+ltGrnkXPRv0lR0sdeGtK/jBbfd1wB0r9ZRa1jWufRvydAKXfKzNG//MOPCyGy0b9jsMvp0pfRv/6f6kpTftG/oQBp3xFm0b/dYfjleE/Rv53lHlrrOtG/YEimQsMo0b8AoEUnUBnRv2IaRbTVDNG/NqIRkooD0b/I0NJ1l/3Qv3fdG28W+9C/jJPEdRL80L8JUt45hwDRv/+FlzZhCNG/0OK6B34T0b9e2VMArSHRv8t05P+vMtG/wbOGgjxG0b/NX1Hn/FvRv6W0aueRc9G/SVHSx14a0r8nzZXaKP/Rv/OT3c384tG/7iobCFbG0b9q+00JsqnRv9BFS0WOjdG/WF07/mVy0b+GKLMosFjRv73JpmLdQNG/HsQfBlYr0b9VVCdgeBjRvzQgtxOXCNG/QInBr/f70L9qIoN+0fLQv7zcU5NM7dC/+LscG4Hr0L9r+3Lydu3Qv+55KIMl89C/WEPo6XP80L8+eDpjOQnRv8wQEv49GdG/kl/WkDss0b9bArfs3kHRv2kWCErJWdG/pbRq55Fz0b9JUdLHXhrSv4h43Z5k/dG/icpPE3zf0b8l75gmKMHRv+xtgbDtotG/+LtIGVGF0b/Z1qsV1GjRv0DYwG7zTdG/thpg3yQ10b84H3UQ1R7Rv2sECr1lC9G/lFoyBiz70L9Cbij+bu7Qv8pc/nBm5dC/04w28Dng0L8SF3IlAN/Qv2RMLG++4dC/pyk2yWjo0L/ZvFgB4vLQv2buNzf8ANG/TYNFpXkS0b/JI1SvDSfRv/E4KTJePtG/ysFPDgVY0b+ltGrnkXPRv0lR0sdeGtK/hASuMRf80b98Em3t5tzRv+kP/pdWvdG/hWAbc/Cd0b/GgrIHPn/Rv4LTdMvFYdG/2Jbg0whG0b+TE9aggCzRv81pZQidFdG/B0nwTMIB0b8mQgFmR/HQv3RTXIN05NC/XETN0IHb0L9v0RyAltbQv6dhYh3I1dC/QUWiMBrZ0L9A6FUufuDQv4K5IbfT69C/M7WhJen60L/mdd9nfA3Rv41EuSA8I9G/5IBGDMk70b/GTSCht1bRv6W0aueRc9G/SVHSx14a0r87eZcMRvvRvwVRWjdI29G/fwR3afG60b9HuwBKz5rRv/fzSJlue9G/qKNZyFhd0b8Jne6eEUHRvx9CO/oUJ9G/teRcrtQP0b+2V8KTtvvQv+2nEMkS69C/+QgnMTLe0L8jqtwzTdXQvx7g7saK0NC/j9xZw//P0L/NcweKrtPQv3HuY/mG29C/qIkGtGbn0L9lJji3GffQv6nQxD5bCtG/Izky8tYg0b9tvzNWKjrRv33CCXzmVdG/pbRq55Fz0b9JUdLHXhrSv35+vp70+tG/IPxVwKba0b9dQYisArrRvwLS4VyXmdG/gQFJ0vJ50b8D2vumn1vRv6Gxc68iP9G/KbeRtPgk0b+Q/ghRlA3Rvyw5YPtb+dC/VfIhRajo0L9uNulWwtvQv4v07a/i0tC/lMGMLjDO0L9q9gVmv83Qv9foXUSS0dC/CQPpCZjZ0L8DwKiSreXQv+8zOPCd9dC/Y+elUSMJ0b8BdkM16B/Rv4hqL9+IOdG/v8cwDpVV0b+ltGrnkXPRv0lR0sdeGtK/dd5sPiT70b/rWhgvBdvRv3iXu0yOutG/skTuyk2a0b80zhjv0HrRv5ODp6WhXNG/9ovnJURA0b+U5uOuNCbRv9s4K2flDtG/iEHOaLz60L8iFSUCEurQv88bAjMv3dC/WBfxbEzU0L/vyfqbkM/Qv7UwKHwQz9C/QhiwPs7S0L9d3VyAudrQv5RpVJGv5tC/ogAIDXz20L8UWrK/2QnRvxzMdtVzING/U8nxTec50b+2J9+txFXRv6W0aueRc9G/SVHSx14a0r94tXIj1PvRv66DrvZh3NG/WdEl/5G80b8haU2V75zRv+kxEUoFftG/3Jfgh1pg0b8bjodBcUTRv+FN+rjDKtG/BBLRZ8IT0b+Ufp0S0v/Qv7myhw9K79C/rWTAx3Li0L/vtFN6hNnQv/wGykWm1NC/3gnOfO3T0L+Pf8ZIXdfQv4Lf/Jvm3tC/3H2Nc2jq0L9XZABosPnQv4N+EYp7DNG//QXhh3ci0b8W8ocVRDvRv7r+5JJ0VtG/pbRq55Fz0b9JUdLHXhrSvz3vb2oB/dG/S/D+XLfe0b8D0glMBcDRv7a9tatxodG/0FjSaoKD0b/mnTGoumbRv7dvUXSYS9G/YKEqqZIy0b9lLZjhFhzRvzrxPpmHCNG/StosfTr40L/YDZH0duvQv4Dc+Od04tC/onlrzFvd0L9AJZX2QdzQvw7T9jgs39C/H8HGzg3m0L/mg96TyPDQvz6LwYgt/9C/GNN5oP0Q0b+nBsXU6iXRv7Ne2HuZPdG/fzji2aFX0b+ltGrnkXPRv0lR0sdeGtK/FkD4IKf+0b8YQ9yS++HRvxmzcLLZxNG/sXfuGsGn0b+oDOM+MYvRv8ar8Dmnb9G/6d3NrJtV0b8r0+SsgD3Rv3DsnNC/J9G/51HbYLgU0b84b6S3vQTRv82BAtMV+NC/bnFwIvju0L9O2geUjOnQv0rkmeXq59C/2QSxPBrq0L9RL0MHEfDQv8aRnSW1+dC/Fj/SXNwG0b8TjbIPTRfRv73nKzu/KtG/gLG1sd1A0b9YiWqQR1nRv6W0aueRc9G/SVHSx14a0r/lkV5avgDSv/MKQd0g5tG/U0Mh5frK0b+hr3dcw6/Rv8ikrHrxlNG/G0rmufp60b844XTUUGLRvwtbq9JfS9G/jUGqMYw20b8XuDUrMSTRv5GXHiafFNG/rPEUVhoI0b/ImeqQ2f7Qv39AYl4F+dC/ZzmnRrf20L+5jHdi+ffQv58y6i7G/NC/GzCTpQgF0b8215uYnBDRvwLFO1FPH9G/93fcbeAw0b9beRr8AkXRvybb0MleW9G/pbRq55Fz0b9JUdLHXhrSv6h70Ew+A9K/MTMHzxXr0b8Hn/YfT9LRv1hVCsZWudG/ZPA7IZqg0b/fsvyLhYjRvxC/mICCcdG/H8oyy/Vb0b8pCUDQPUjRvxpJEu+wNtG/4j6DB5wn0b8bPTopQRvRvxhBT3LWEdG/gdE+IoUL0b8DAT3laAjRv837/lqPCNG/eBAO2/cL0b/gmKl3kxLRv9IiKz9FHNG/umrOuuIo0b+r07GoNDjRv5mh4O33SdG/6cRCvN5d0b+ltGrnkXPRv0lR0sdeGtK/RmlHdhwG0r+1giiSxfDRv0IqL5S32tG/ezobF1PE0b/Bdoww+q3Rv0qXYMMOmNG//anv0vCC0b9Q3nze/G7Rv7ThDUyKXNG/CH2X6elL0b96UAyLZD3Rv2AHXMs5MdG/sFLY9Z4n0b9wBcQcviDRv4/ZCmG1HNG//w9JbpYb0b9l+2QtZh3Rv0p9Da8cItG/L6l7TqUp0b/cT98L3zPRv+Ze6hydQNG/HfEBsadP0b+IsrnlvGDRv6W0aueRc9G/SVHSx14a0r9eKrTITAnSv9A/VD8Y99G/waXs6RDk0b/OWg4iitDRv+7PiW/ZvNG/KS/KEVWp0b+QZwyGUpbRv3PH6BAlhNG/XmCXURxz0b8C0izlgmPRvyYlxx+dVdG/B0hC4adJ0b9cJ5OK1z/Rv2paWRhXONG/OViUZkcz0b8h+bSgvjDRv/i4geDHMNG/KhV3/WIz0b9cAnmNhDjRvzBw0hYWQNG/ZdqncvZJ0b84ri1e+lXRv6BzJjjtY9G/pbRq55Fz0b9JUdLHXhrSv488q9zBDNK/O89pQvP90b+cA8XUM+7Rv/klU47I3dG/3SNlWvnM0b/fugDaD7zRvz5mXSFWq9G/mLhocxWb0b8+cd8AlYvRvyPteLAYfdG/8NZ69d9v0b9d3su5JGTRvybZRmAaWtG/inWl4+xR0b8YadwVwEvRv0bqNAOvR9G/prfSe8tF0b/foK3FHUbRv0tWVHikSNG/WzsXg1RN0b9AOIBdGVTRv6M9Q2HVXNG/0YUdTGJn0b+ltGrnkXPRv0lR0sdeGtK/JdC8KW0Q0r/e8DHKOQXSvx1887j1+NG/ftg5sNbr0b8cYV0pFt7Rv/GLFmHwz9G/dZijT6PB0b8Cg1eZbbPRvwo3N3yNpdG/199Wvz+Y0b+vjKGovovRv2ZDmf1AgNG/5Y5tE/l10b8/aIPyE23Rv+QuNJG4ZdG/sLQjKQdg0b/c6RiqGFzRv/Fxw0z+WdG/ipNMR8FZ0b/f7f2kYlvRv8GwrkHbXtG/Rl8L6Rtk0b9mGS+ZDWvRv6W0aueRc9G/SVHSx14a0r9/r4tDPxTSv6T4gEHNDNK/EoBzXikE0r/JofZyefrRv3uPqe3n79G/mYVaGaPk0b9Kh0FS3NjRv8/Pyi3HzNG/OgWkmJjA0b9H4enuhbTRvwO/bRLEqNG//dUSg4ad0b85wTl9/pLRv65pFiJaidG/FP2grcOA0b99AZe9YHnRv7LYtqxRc9G/mmsHBbFu0b/pwZgLk2vRvyu3umcFatG/trQu5w5q0b8MZ1pgr2vRv8H4/bLfbtG/pbRq55Fz0b9JUdLHXhrSv/U+ohooGNK/jNPEz40U0r+OqRSvnw/Sv+Lq+lBzCdK/fZnXvyMC0r9g9Y8B0fnRv5rPSYuf8NG/gzK6obfm0b8A3cKoRNzRv/YrY2V00dG/gvI8NXbG0b8vaBs/ervRv7j0CKCwsNG/XbSPmEim0b/a1L+9b5zRvzFkhjFRk9G/AiG/5RSL0b9h2zzt3oPRv+vLxt3OfdG/RAC/Rf940b8y3s83hXXRv/RBnu5vc9G/N4gUishy0b+ltGrnkXPRv0lR0sdeGtK/dA/1Pxcc0r8/d+LeWhzSv2ysaHwoG9K/y82QVoUY0r8hiKj6fBTSvyFqqBIhD9K/e53UF4kI0r917err0QDSv2B7oFod+NG/aUSZhZHu0b8E5GE9WOTRvwEuR0qe2dG/OuYtqJLO0b/RzMW4ZcPRvzpznW9IuNG/Ix+3e2ut0b/j7kly/qLRvyFQVf4umdG/j7qXGCiQ0b8t41RLEYjRvxDhIwUOgdG/p+W7/Tx70b+2WGevt3bRv6W0aueRc9G/SVHSx14a0r9bPPcp/B/SvyUIMKQTJNK/z0ZLSpMm0r93rnkqcCfSvxasPn2mJtK/FjT+tTkk0r8OTt9zNCDSv7WQRVOoGtK/2litoK0T0r9EnzzuYgvSv1ui2o3sAdK/WO8Y8nP30b+RpKb4JuzRv6wnaSE34NG/tFCqtdjT0b9jwhHjQcfRv3afVM6putG/FhqroUeu0b+D3i2bUaLRv9nDPR/8ltG/c3sG03iM0b+NdgnD9YLRv5yFaZmcetG/pbRq55Fz0b9JUdLHXhrSvxM0HnrGI9K/Ae1Lqpcr0r8j2rAasDHSv3KgNxj1NdK/UmpT71M40r/Yeuo9wjjSv/lF0SA+N9K/D9YOPM4z0r99SMadgS7Sv+PKRHxvJ9K/6/NU0LYe0r9Q05TNfRTSvyL2IDvxCNK/S1Nxr0P80b9YQMOyrO7Rv70H28tn4NG/YZdGe7PR0b/ZYJcp0MLRv7+cQg3/s9G/1LX7DIGl0b/HDmyjlZfRv2lbJcl5itG/VX2Q6WZ+0b+ltGrnkXPRv0lR0sdeGtK/rLawQWYn0r9XZo1ZxzLSvxb4YjdQPNK/UEKiF9dD0r+/2SECO0nSvxvth1pkTNK/Q+y1R0VN0r9J+XDw2UvSv19xPYwoSNK/e7YjSEFC0r9MgdX/PTrSvwwXasxBMNK/goOhangk0r/jPlB7FRfSvzlpOqFTCNK/9yo9gHP40b+qPSuiuufRvxzTNEZy1tG/LAwRIObE0b+yV2YMY7PRv7osHsA1otG/v9RmeKmR0b/u/yKxBoLRv6W0aueRc9G/SVHSx14a0r+Azb9EzCrSv9si0XyEOdK/5+Ja9kZG0r/9FnPN21DSv/s3wagUWdK/0iKDhM1e0r9XxE1Q7WHSvxx+1lxmYtK/SGDklzZg0r+2qGKVZ1vSv1nKbGUOVNK/ZcALOEtK0r+PzDjQSD7Svx4xj8g7MNK/IljhrGEg0r/Kr6Ls/w7Sv78Vw6pi/NG/0wgwcNvo0b9parDGv9TRv18sN8JnwNG/ixcWfyys0b9DkaqbZpjRv8IWMrRshdG/pbRq55Fz0b9JUdLHXhrSv+42MDrqLdK/3JdzwLI/0r85oYB1ak/Sv5v1koDMXNK/+jnOQp5n0r/imQNYsG/Sv+eKR2bfdNK/KIrKuBR30r9GkE6jRnbSv8eUhax4ctK/qoqffrtr0r+hfUueLGLSv+CMa+n1VdK/Lx2y30xH0r8giEu4cTbSv9a7lkiuI9K/T9y8wFQP0r/if7BDvvnRv2hsvWBJ49G//QpXdVjM0b/d1Tv+T7XRv0UGTd+UntG/MICiqYqI0b+ltGrnkXPRv0lR0sdeGtK/DxjHB7Mw0r/OXGMpOEXSv6ZzuUqUV9K/FG4hAHdn0r8wy3u0mnTSv5oP+9nFftK/6zo95suF0r/D2WQVjonSv2sh2/D7idK/cc9slxOH0r9N7oXF4YDSv5JuaJ2Bd9K/g/BRMBxr0r/ZV5nK51vSv0YZ2AUnStK/cQsxpSc20r9TjLJAQSDSv5r1p8XTCNK/nv1q0kXw0b92g+X0AtfRv0qodNN5vdG/Nss8SBqk0b9RYTl3U4vRv6W0aueRc9G/SVHSx14a0r82iT35GjPSv/IEV4L9SdK/wZ1hJaJe0r9uNG92rnDSvx/5cWfTf9K/MsWDos6L0r8Sv3asa5TSv02KtsqEmdK/uRaLqAOb0r8tLem44ZjSv1hGJFMok9K/RvsDivCJ0r+OSPC9Yn3Sv5S1Fey1bdK/kw6IvS5b0r/7u4JaHkbSv3oQ7AbhLtK/MqswjtwV0r+NK2GFfvvRv89JM2s64NG/ZdIcrofE0b9aczCh36jRv3jSr2i7jdG/pbRq55Fz0b9JUdLHXhrSv4B5c/EXNdK/+mVbve5N0r+0vopedmTSv2u5dCVMeNK/v0hDMBmJ0r9ifWfnk5bSvw0k8z+BoNK/fag3vrWm0r/+az00FqnSv2VG0TiYp9K/6rYeVUKi0r9BBQ/oK5nSvyC56r98jNK/zc79a2x80r/YYzpJQWnSvyvaA05PU9K/dXVomvY60r9jYxTToSDSvy17Mk7EBNK/zc44Gtjn0b9X80XnW8rRv2LUNNzQrNG/wsLlYLiP0b+ltGrnkXPRv0lR0sdeGtK/vhrzlKE20r/xNyBI+1DSv/1koHX4aNK/QbusCTB+0r/Y7bMURZDSv0rZbmLontK/YEvP1Nmp0r/FXdl86bDSv440mWz4s9K/RHSdPvmy0r9MAqVQ8K3Sv+0If7DzpNK/ggRxuyqY0r+s/MlxzYfSv2ksloEjdNK/c4+lDINd0r/InEQvT0TSv0u/G072KNK/RiCjMvAL0r+j0HD+u+3Rv6GZW/7dztG/Wab5Zt2v0b8AZGUEQpHRv6W0aueRc9G/SVHSx14a0r8PIRJtsTfSv/GzoFEWU9K/Ue1mdxVs0r+UP6ZgQYLSv0Ntke84ldK/KviwD6mk0r9g7cshTrDSv2AMGyT1t9K/39y0kXy70r8lD2D11LrSvwsKSS0BttK/kxFyXhat0r9BDBWYO6DSv42XjCipj9K/udSxpqd70r8OPuezjmTSv8c+QXzDStK/K95d+7Yu0r+xn4AN5BDSv/ZUalXN8dG/9SEiAPvR0b9ZInpw+LHRv1FqhNxRktG/pbRq55Fz0b9JUdLHXhrSv/wqHQNDONK/EWIDADdU0r8Du6NNwG3Sv8VLGBFvhNK/fPNp79+X0r9mYMPAvafSv/FdcQXDs9K/KJZOFru70r9eV2ULg7/Sv4Al1VQKv9K/9l1eA1O60r/2KVa/cbHSvyxgKm6NpNK/6K0BiN6T0r84T2Igrn/Sv9bHGqZUaNK/Wa/mXzhO0r9nRnCsyzHSv+olWQ2LE9K/J2HcBfvz0b+n717WpdPRv3nQ3B4Zs9G/PnSPcuOS0b+ltGrnkXPRv0lR0sdeGtK/5xwb81M40r9voM6VWFTSvxTzH/bxbdK/aN7B8q+E0r9QuA7uLpjSv819X4IZqNK/R+ka+Cm00r9aDRZ3K7zSv5/UDO76v9K/RoE8rIe/0r/bWn+q07rSvztPqYLzsdK/EV1LFQ6l0r+uCWnfW5TSv3nMCQMmgNK/CD/iBsVo0r+vOpBSn07Sv85jDG4nMtK/vur9C9oT0r/K84XnO/TRv7gn237X09G/2A6otDqz0b8pZo1i9JLRv6W0aueRc9G/SVHSx14a0r/akNn14zfSv/Z+1YV6U9K/9XweoKls0r9GCej0AoPSv+uWcZ8kltK/fm/S0rql0r+IZQpJgbHSv5uCD25EudK/08S6QeK80r9+UbbsSrzSv1fD4AWBt9K/96T1hpmu0r+Oxaxwu6HSv+bZ4h8fkdK/rby3Vg190r9JtNv93WXSv/C2f6P2S9K/f1V/vsgv0r9ZyWC9zxHSv6gerOmO8tG/mbHZKI/S0b9f7a6kXLLRvxzaS2WEktG/pbRq55Fz0b9JUdLHXhrSv20dGOL0NtK/Pi6JdaBR0r8Kcsmv7GnSvyhe0CJvf9K/TtoYl8mR0r8OUlKoq6DSvxE9gyXUq9K/hK+WLhKz0r/uKHIKRrbSv1Xj6bFhtdK/z/syDWmw0r+6TsbicafSvwX+/nejmtK/vWsW5TWK0r/IIG8fcXbSvzLhYr6rX9K/eY74f0lG0r8OOP+TuSrSv7wMCLV0DdK/inOUF/vu0b+upoQ40s/Rv6acYpSCsNG/rmaKUZWR0b+ltGrnkXPRv0lR0sdeGtK/wInNpIo10r8bQ6Ut0k7Sv6mTiKfGZdK/V9skhgN60r/KUhIkMIvSv9RmHkcBmdK/9BLPaTqj0r/v4nvErqnSvyVrcxFCrNK/+AzSCOmq0r/qleuRqaXSvxlJb6manNK/IJi3/OOP0r9glf47vX/Sv/9icCZtbNK/nRRIVEhW0r9bZETErz3Sv9RMyzIPI9K/OIUBQtsG0r+58Oh6j+nRv03IQzCsy9G/g7F+TLSt0b8C0z8UK5DRv6W0aueRc9G/SVHSx14a0r92bKcwqzPSv0s8d3kbS9K/ZQqg90hg0r/Rzr3n1nLSv4A+/QN0gtK/Zh0a6NuO0r/dfvE82JfSvzzDh6ZBndK/xLlvcACf0r+6vJ/1DJ3Sv1z47cFvl9K/DTChbEGO0r+S+rksqoHSvyJFzCjhcdK/nrFshStf0r/q9FM220nSv0XQZpdNMtK/ZgPH0+kY0r/tcOwhH/7RvzPkgdxi4tG/CT9bgC7G0b+zqlCY/anRv7i1GaBLjtG/pbRq55Fz0b9JUdLHXhrSv9qSCWVeMdK/5tRK9YtG0r9BzOK0ilnSv95l228HatK/zIZu7rl30r92xFoxZoLSv+B6sHjdidK/sB+YEP+N0r8r3JDguI7Sv2b8s7oHjNK/hAKiafeF0r8mXtx8onzSv7oEbtQxcNK/zoTg7dtg0r8F1I31407Sv15RZKCYOtK/R8wl01Ik0r93qgcddAzSvzq5XQxl89G/QHufZJPZ0b/lAJ49cL/Rv09DJBRupdG/HNx71P6L0b+ltGrnkXPRv0lR0sdeGtK/RUn27K0u0r8zicvMNkHSvy7LrDeoUdK/o4BhJ7pf0r/wfJn6LmvSvwQ84YLUc9K/105w4IR50r83IA8oJ3zSv4xmPdCve9K/QCi74yB40r+V95b4iXHSv7GT6OsHaNK/y/liY8Rb0r+osOcW9UzSv2deOuXaO9K/5VHbt8Ao0r8/oOU6+hPSvwQijm7i/dG/Xa+IGNrm0b8FliUcRs/Rv9L/Z8CNt9G/nPek6xig0b+HkmhcTonRv6W0aueRc9G/SVHSx14a0r+mn2oWpSvSv38ib2oyO9K//MG8pMJI0r/UpipcGlTSvwjcxeEHXdK/KD5xGmRj0r/4eDAqE2fSvxDGL+4EaNK/D+dxQzVm0r+ww+4YrGHSv3tN00x9WtK/E+B6VchQ0r+yT5+3t0TSvxhMG0yANtK/6d5uWGAm0r++9/t9nhTSv2DKpYSIAdK/KCQeBnLt0b92DrX/stjRvza87lCmw9G/oPZ3Laiu0b/nkEiJFJrRv+fo3IVFhtG/pbRq55Fz0b9JUdLHXhrSv3p+2aJQKNK/LgY8GZg00r8UeOJh/z7Sv0KAAOtYR9K/LsuvIYBN0r99ryMSWlHSvyLlt93VUtK/VCvVBO1R0r8MMmiDo07Sv7QYbr8HSdK/ufLiSTJB0r/vkiZzRTfSv+/0rrRsK9K/HKGa8tsd0r/mKWWYzg7SvwJdoZSG/tG/iTYtOEvt0b99ldD9Z9vRv5z9nj8rydG/pJXE3+S20b+4rJ3q5KTRv5Z0FTh6k9G/vMdLEvGC0b+ltGrnkXPRv0lR0sdeGtK/iEuNkb4k0r/SW3eagy3Sv2Udy3iHNNK/EPs2cqs50r8venUC2TzSv7gR7j0CPtK/tImuDiI90r9wzrFKPDrSv62jEqNdNdK/k9BzbJsu0r8KR5FBEybSv4uIk4HqG9K/QEldrE0Q0r/7WKCfbwPSv4ebD7iI9dG/HgB+2tXm0b8c2yNpl9fRv7j3mikQyNG/naxkIIS40b9yEPtmN6nRvwhShgFtmtG/O8pQuWWM0b/KlP8AX3/Rv6W0aueRc9G/SVHSx14a0r9TgdHk/SDSv+X0+bASJtK/KIuA6oYp0r/Jf0lwSyvSvweHLYRYK9K/ABjk7K0p0r+7Vv72UibSv+pS7lRWIdK/fqam3s0a0r/ub+wx1hLSv6bB/jSSCdK//JG4fSr/0b/cw8qfzPPRv1b4GGWq59G/WZ6j8/ja0b+YhLrk783RvyKoc1HIwNG/AP6Q2Luz0b91uRyiA6fRvyuVDWXXmtG/zL87c2yP0b9NY9PP9ITRv5XKQ1See9G/pbRq55Fz0b9JUdLHXhrSv0mM22IeHdK/2GAWpGQe0r/Kh3D2Kx7SvwOdLVJ1HNK/NaunOEgZ0r8FNW+TshTSv2S7WnfIDtK/3q6QzKMH0r8eFg3dY//Rv+f4k8ss9tG/duJo9Sbs0b9wzIBBfuHRv6zkNGBh1tG/T4HA/gDL0b/4DQryjr/Rv4zgXFw9tNG/zAzQ0T2p0b8GGxx/wJ7Rv6PdllbzlNG/ZLLxRgGM0b9uvCt/EYTRv0DP78JGfdG/i9VN0r530b+ltGrnkXPRv0lR0sdeGtK/MyF8UzAZ0r/lCh68mRbSv7+VBVimEtK/Eg9TdWcN0r9LkCwO9AbSv0vTGGRo/9G/W646hOX20b8xWYu2kO3Rv/6djdqS49G/OUFFtBfZ0b+B1YIsTc7Rv4+wy4diw9G/t9dOl4e40b+hyXHn663Rv9iViu+9o9G/34pXRiqa0b/C/6/eWpHRv0u5xU92idG/ucIbLJ+C0b90JBdq83zRv2PKwOCLeNG/TXn32nt10b90au7C0HPRv6W0aueRc9G/SVHSx14a0r8Qxq87RBXSvxoPrrrSDtK/XXoCfiYH0r/n1HwhYf7Rvx68UBCp9NG/VSnN3Cjq0b8FVuOFDt/Rv0bEra2K09G/huppxM/H0b95m4krEbzRv/Llo1SCsNG/ODwf4FWl0b8o6G+/vJrRv+Ejtl7lkNG/YOJm2fqH0b/09Xk9JIDRv22nWOCDedG/VQ96yDZ00b+M7j8uVHDRv0jqQBbtbdG/Aa+9Bgxt0b+DfYfZtG3Rv1IPIqvkb9G/pbRq55Fz0b9JUdLHXhrSv8M4LphqEdK/RTH+UDAH0r/q4+u+3PvRv65HwX6h79G/1D0YJLTi0b+xEa1OTdXRvzzNV7Knx9G/ncvqFf+50b9w1FxNj6zRvwCmuTOTn9G/NdFUqUOT0b/HIaia1ofRv2vTIBR+fdG/aC7mZmd00b9KzFliumzRv0v9tqWYZtG/ox7NDB1i0b+y91k6W1/Rv0FwB0JfXtG/EF2Fcy1f0b+OGKdHwmHRv62f128SZtG/BYKgBwts0b+ltGrnkXPRvw==",
          "dtype": "f8",
          "shape": "50, 25"
         },
         "y": {
          "bdata": "W/EUAHw5xb/XYhXSLCjFv81H9xxoFcW/uSR1FoABxb+KsFPwy+zEv0dUc1qm18S/K0SV9WvCxL/vJ6C9ea3EvyGFVXIrmcS/W/NvBdqFxL9EcAoV2nPEvyBZ+3h6Y8S/K4x66QJVxL93afvEskjEvzC+mvq/PsS/Em3gHVY3xL85od+nlTLEv/ed+WiTMMS/6jWyLVgxxL/aQSWY4DTEvxTpxS4dO8S/oyInoPJDxL93h6Q6Ok/Ev5ZS35XCXMS/iykpa1BsxL9b8RQAfDnFv56pSfPRMMW/ieVagYwmxb/rRNyn2BrFv8gmUanpDcW/1QWlLPj/xL/5VAVFQfHEv+nOW2YF4sS/Ewj9SofSxL8c4V/PCsPEv80e3sjTs8S/4CqU3CSlxL+meHVbPpfEvzg7lChdisS/uWxurrl+xL/UWtDnhnTEvyskh4Dxa8S/8US1ER9lxL+3RiJ9LWDEv2jzVmoyXcS/Ul/D5zpcxL/WQo4xS13EvzMlCJ9eYMS/XpkTt2dlxL+LKSlrUGzEv1vxFAB8OcW/UD6tz5c5xb9UW77M8TfFv1w+yi+RNMW/tWcFxIQvxb/KDIqm4ijFv4Moe+XHIMW/mrm/AFgXxb8epoNOvAzFv39gJ0YjAcW/I2i3tL/0xL9GK2fex+fEv4H63ZB02sS/nTtnKgDNxL8Ptkeapb/Evzbal16fssS/NsINhCamxL+iLxmscZrEv0IamB20j8S/Xvo75ByGxL8/oHcC1n3Ev0Y8fLkDd8S//5pr6sNxxL8QLneTLW7Ev4spKWtQbMS/W/EUAHw5xb8axr6GWULFv4iLpt9OScW/AdcVkD1Oxb/t2S39D1HFvxTficq5UcW/wRBkEDhQxb9HXk9okUzFv6DCTtDVRsW/9ozIZB4/xb+UgIjyjDXFvzaWsmJLKsW/8d4uA4sdxb+NprKugw/Fv4DOGNhyAMW/rQY5fZrwxL+43tgFQODEv0/UqBOrz8S/fwKBSCS/xL+ozDsI9K7Ev3cSoDthn8S/7NTHGbCQxL8yy1P9IIPEv9q1iErvdsS/iykpa1BsxL9b8RQAfDnFv24saknySsW/mo8mvVpaxb9ToK3dcWfFv2p3SVT+ccW/k+VS7NF5xb/vrpVdyn7FvwpYeuLRgMW/YcRjl99/xb8O7Z6h93vFv9QiOh0rdcW/B2YT0pdrxb/sGWaxZ1/Fv152Ex7QUMW/wHDKAhFAxb/FZg+6cy3Fv3ng7cxJGcW/E87TjesDxb+uoLKVtu3EvyfTBCoM18S/9K+7kk/AxL8+nl9n5KnEv0TP09oslMS/Lhw0DYh/xL+LKSlrUGzEv1vxFAB8OcW/MqvC9D1Txb9qC669zWrFvym0OibEf8W/gOxMXMWRxb91z3uCgqDFvyiTgwm7q8W/ksUOyz2zxb+30//g6bbFv1nZizWvtsW/3oKvyY6yxb+/Y8mwmqrFvxgEbcH1nsW/FnTJ/NKPxb/K0D+vdH3FvxBT/E0raMW/z++JFlRQxb+aO2h2VzbFv+aEoEGnGsW/CL0twLz9xL8LJb+aFuDEvxSy7K82wsS/FUtb25+kxL/xmoy404fEv4spKWtQbMS/W/EUAHw5xb+hLOmpGVvFv6+VPLxiesW/cM95Lc6Wxb+oqoKB36/Fv43d9eooxcW/jJckLE3Wxb+uOn0vAePFv+JEblAN68W/5M8gT07uxb+GEd/qtezFvx6NgiBL5sW/Z4DYCyrbxb91nYJsg8vFv3Jfb9Cbt8W/nEmRZ8qfxb/6YPiFd4TFv7aw1toaZsW/SolBZDlFxb8hy6coYyLFvzLj9L8w/sS/W80rt0DZxL9Z1enZNLTEv2Acs22vj8S/iykpa1BsxL9b8RQAfDnFv3iDoGBkYsW/hhsIOdiIxb/9w/oaL6zFv4QDCTvOy8W/7y6uFivnxb8/6QTTzf3Fv3hPxUlTD8a/UTmRu24bxr+FOyAg6yHGvxHpig6sIsa/DdO7Oa4dxr8eMuV+BxPGv2Tju4XmAsa//TYb9JHtxb89tZA4Z9PFv2lVG/HYtMW/gMUe9WySxb/+2iELumzFv4McYFRlRMW/Djx7eR8axb/owaykoe7EvzFbtVaqwsS/OHNqJPqWxL+LKSlrUGzEv1vxFAB8OcW/3VMncv9oxb8Cf9Bs8ZXFvyrONxGNv8W/Ug62Hhzlxb/gaCQR+gXGv5jcevGWIca/Q8ppzHk3xr/6aCTEQkfGv7aGS7SsUMa/5j/JYI5Txr8sF28q20/Gv7tHP0ajRca/gydvdhM1xr/RjVlGdB7Gv20AvMwoAsa/EoWu+azgxb9MQMN3k7rFv1bOlymDkMW/dFbWTjRjxb/cRihdbTPFvxXM6Zr/AcW/rb59isPPxL+dQ/E1lZ3Ev4spKWtQbMS/W/EUAHw5xb9UAxAaz27Fv8kZW0h3ocW/s5dVp5bQxb8YiaXOXvvFv7CUVFkUIca/t6OkGhJBxr9P0pDxy1rGv5CLmS7Rbca/OT5bgc55xr/MoX1lj37Gv4QMvQj/e8a/Rz0epihyxr/bHL1UN2HGv7fvDUt1Sca/8LfLmUorxr+opyNkOwfGv1hI6pzl3cW/dZXBUv6vxb9EggaXTn7Fv6LBFw2wScW/npUHMQkTxb90WQhmSdvEvxTz2d1ko8S/iykpa1BsxL9b8RQAfDnFv1gX+eq6c8W/YjfkWzmrxb9DB1g/BN/Fvy4MVrg4Dsa/ukAWAgg4xr/d47j5ulvGvxpKdEC1eMa/QPaE6HeOxr8Iyieho5zGv4v/Glj6osa/HiiBSWChxr9zQ3953JfGv3U4gZWYhsa/d02rPeBtxr+/Q5i5H07Gv1gSDx7iJ8a/I8DN6877xb+c1dUxp8rFv04uyD9ClcW/uETI9olcxb8uBQrJdiHFvw13kXkL5cS/GAfDrlCoxL+LKSlrUGzEv1vxFAB8OcW/GGA7Na53xb8rp7miDrPFv8tkLTOZ6sW/CB3+nVodxr+8ngCRdErGv/s3SH4hcca/rC58/beQxr+WIOOxrajGv1n3caiZuMa/csN/IzbAxr+o40DMYb/Gvydlz0Qgtsa///NAGJqkxr9eERAJHIvGvxFx4sAVasa/rjxt5xdCxr+1pNWo0RPGv7opZbYN4MW/T4yyzq6nxb+SVXDcq2vFv7Zi37wLLcW/1uZmwODsxL/XTwX5Q6zEv4spKWtQbMS/W/EUAHw5xb8OUd5dmHrFvx6Mpi/WuMW/1mGe0yTzxb+Yv6PjhCjGvxmZ9pMMWMa/4mVNs+uAxr8Aj8M6b6LGv6BUB14EvMa/pEhcDjvNxr9M1nHlx9XGvxDbp2+F1ca/Rqoa0HTMxr9n66e7vbrGvzgkAsutoMa/W8LMJrd+xr+4cJGTblXGvwkFHeaIJca/oVdq69fvxb+thqjRRrXFvyL4FSLWdsW/wV9QXZc1xb/Jy1NNqPLEv85AqCEur8S/iykpa1BsxL9b8RQAfDnFv90DZSRtfMW/FaRbt3e8xb+xY/M0g/jFvyRefpqIL8a//yWy5pZgxr86J1A514rGvzJ4WoCQrca/zWW6oirIxr+j5HkaMdrGv5uvKfNU48a/0Gm4I27jxr9g5889fNrGvyh6uG+myMa/h/252Dquxr9bXuoyrYvGv+WBRNiUYca/Ou6zK6owxr/5GG1xw/nFv5MTZCTRvcW/r5bw2Nl9xb+cYaW+9TrFv8DjCNVJ9sS/nPMu6AKxxL+LKSlrUGzEv1vxFAB8OcW/u3xO1iR9xb+ROo72473Fv1nU8sWd+sW/jhU/Rkgyxr97avai72PGv2cGZV26jsa/PHdNBe2xxr95s+5t7czGv4xcVlFF38a/RCVxVqToxr/1Hvxw4ejGvzNWUZX738a/TC/8vBnOxr8wcwE8irPGv0PWxmnBkMa/kc94o1dmxr9E7aawBjXGvyb4gZWm/cW/Dlio4CnBxb8YTrGEmYDFv0TSpE8QPcW/PHo7FLb3xL97bBiaurHEv4spKWtQbMS/W/EUAHw5xb9KtHBvvHzFv7yCIPIUvcW/QMa9rmv5xb95HgJZuDDGv+wCd7cIYsa/VIh1yISMxr+h3U50cq/Gv4ocbbw4ysa/gPp5WWLcxr9c7xO9n+XGv0ypR27I5ca/CGjXutvcxr+kuUe6AMvGv0c9pKKFsMa/OHTqcd6Nxr+iOPfxomPGv6pTqB+MMsa/E3qSAHH7xb+A8Cj1Qr/FvwNXdJcJf8W/K8RvON47xb9nws0P5/bEvwqkOjNSscS/iykpa1BsxL9b8RQAfDnFv+tkpqY1e8W/uahFEA66xb8ZKvz18fTFv21U4GPfKsa/ux36Iupaxr9X1u/DP4TGvwMexzgrpsa/9H/07RfAxr+C6ydVlNHGv1xjs9ZT2sa/9ScJITDaxr/y05PQKdHGv0w4CW1ov8a/SLFDvDmlxr86ZZhtEIPGvwycfiOCWca/C5Qg5EQpxr8WyAz8K/PFv08LrGAkuMW/+IxSojB5xb8EKK5/ZDfFv2To8i3g88S/qlRwasuvxL+LKSlrUGzEv1vxFAB8OcW/0U+a5pZ4xb8j7DcK3LTFvzhVvGtD7cW/brJU+9Ugxr8c17zSsU7GvxYvvRIOdsa/N1AIUz6Wxr9JLWqVta7Gv50IXa8Iv8a/hf9yH/DGxr90DIxGScbGv/KPfP8Wvca/yxyMkoGrxr9xTQMF1pHGv1SCzceEcMa/YUn0yh9Ixr8/xmH+VxnGv9Ug2kr65MW/r8RuEOyrxb/46sY5J2/FvyNTbvW1L8W/zivlJ67uxL+RP2SqLK3Ev4spKWtQbMS/W/EUAHw5xb8tRM4y63TFv8LTvLaUrcW/CKdeWoDixb8nzelPxhLGv14bpySTPca/azYjXytixr+6+Fy07n/Gv5Q+5MValsa/fKXlXA2lxr957l0YxqvGv4aiGIdnqsa/ZcWmqPegxr/dshjTn4/Gv2U87v2rdsa/Mx9WdYlWxr+sWm77xC/Gv8Jutl8IA8a/KihAlxfRxb/xCFlizZrFv7EFXI4XYcW/86QQ5PIkxb9sE2rUZufEv+0zmPaAqcS/iykpa1BsxL9b8RQAfDnFv5NJT/lBcMW/GkxYrlakxb8Rt9n+1dTFv+ab4XzrAMa/PtpfD9Ynxr/XW/Y/60jGv5c1oyWaY8a/qh1+3213xr+/56yUD4TGvzyMzPBHica/cHFMFgCHxr/iYpYCQn3Gv8eBTGI4bMa/KNpc1i1Uxr93YR2tizXGv8I5CBXYEMa/n6v80LPmxb+WTRN417fFv9HHEU0QhcW/cNRTuzxPxb/8tIuISBfFv8SLBcwo3sS/UzkZvdekxL+LKSlrUGzEv1vxFAB8OcW/74jZ0a5qxb8Yk7DKSJnFv3Cakcp9xMW/pwjBj5Drxb+3K83z1Q3Gv4WYO9m3Ksa/jSgTvbdBxr9EZgLhcFLGvxIapwSaXMa/6Q9qpgZgxr9HpnHGp1zGv2U8VSiMUsa/nrZxEuBBxr/VXfqL7CrGv8qTFx0WDsa/XIKMFtvrxb+Wnmxo0cTFv0SKWBGkmcW/Shl/MRBrxb8xQTPO4TnFv1qYQ1TwBsW/w9Jd6BrTxL+veKOVRJ/Ev4spKWtQbMS/W/EUAHw5xb+Sl3wrSWTFv6mNP4OZjMW/ypbhcbyxxb9lqdNMD9PFv8v19xwA8MW/AoD+HRAIxr+av6np1RrGv5ERe0X/J8a/wL/gilIvxr/38bujrzDGv7Vs7JYQLMa/4n16ookhxr8MfeziSBHGv+M/TImV+8W/eDlRo87gxb+pLQV7acHFv6I1A5XvncW/wXEbVvx2xb9e46laOk3Fv/DhRYtgIcW/tZST+y70xL9Uzeyga8bEv1GHRu/emMS/iykpa1BsxL9b8RQAfDnFv+pVGuorXcW/Dv7/KX5+xb8JQE/L4JzFv0PI1bXOt8W/kLCh9NHOxb8jGK+6heHFv8oQcByY78W/g9+gdsv4xb9Kz0R89/zFv336LOcJ/MW/udADyAb2xb+du350COvFvxHhAxQ/28W/aUi9zO/Gxb8BSbWUc67Fv5v7Kqw1ksW/04bJx7Fyxb/iCczycVDFvySeUzIMLMW/zQBI9B8Gxb/0PQFVU9/Ev7g9rUdQuMS/qkXkrcGRxL+LKSlrUGzEv1vxFAB8OcW/iHJe9XRVxb9ZpksLMm/Fv5n6JIRChsW/Z932WEGaxb+ocBf01qrFv76ayrC6t8W/6QR0GbTAxb+CQuXem8XFvwbgjIRcxsW/YyWUvvLCxb9hS0+AbbvFv+TlwLrtr8W/uVtPzKWgxb9OcySk2I3Fv71Z/ZzYd8W/ml5vFAZfxb/xes3EzUPFv32M5+imJsW/O17JMREIxb/xFWmXkujEv4T41g21yMS/A+b4KASpxL9IYii5CorEv4spKWtQbMS/W/EUAHw5xb85tAm7RE3Fv597mHT1XsW/v+nkr0Buxb8lj1Bv43rFv2816lmmhMW/qhzdrV6Lxb/+P7r77o7Fv05GZ6dHj8W/zFx+LGeMxb+VfPMkWobFv07/4RE7fcW/YEl05zFxxb+lD+Jdc2LFv4HKgwpAUcW/hNbuROM9xb9mYvHcsSjFvwa2E6cIEsW/aQ765Ur6xL8CI5yX4OHEv6/Hwq00ycS/qeeWObOwxL9Ju0WSx5jEv/mj037agcS/iykpa1BsxL9b8RQAfDnFv1hzoaa9RMW/bq8spgxOxb97f6E4QFXFvxFcutI4WsW/e+osruBcxb+7qgopLF3Fv9X+tPgZW8W/eluFL7NWxb/C2hAVC1DFv3U+tdE+R8W/F0rh7nQ8xb8640eu3C/Fv25a4TqtIcW/YYxFtyQSxb95VIEthwHFv5J3D2Ud8MS/3XQOpDPexL96nCdhGMzEvw/Y3usausS/nJQsEYqoxL9mfVPCspfEvxjv2cPeh8S/GGNralN5xL+LKSlrUGzEv1vxFAB8OcW/R0LAkAM8xb+fwTm0vjzFv36hyzaqO8W/O+WM08o4xb/ohqgfLTTFv74BQFPlLcW/H6za8A4mxb+c0OVMzBzFv/tWVfdFEsW/qaf3CaoGxb+HCIdeK/rEv4317K8A7cS/3hiHqmPfxL+V9Yfvj9HEv7PQxQ/Cw8S/tOxvgja2xL8nIjScKKnEv33zXIvRnMS/fHRaXWeRxL/FHf8RHIfEv2mffcAcfsS/SQHn0ZB2xL8HMopUmXDEv4spKWtQbMS/W/EUAHw5xb9x9GcoOzPFv0KRFFxUK8W/y35tN+ohxb+5lm73JRfFv2POGsU2C8W/iqLp5lD+xL+wy8zbrPDEv9k0uWOG4sS/tijveRvUxL8YGHxFq8XEv08tmwR1t8S/iViw97apxL+nPZtQrZzEvwNmDCuRkMS/bqJfkpeFxL/xUEOZ8HvEv7hBJofGc8S/SJQGHz1txL/3u8wCcWjEv0PP4DV3ZcS/tnwfwVxkxL/t0MF5JmXEvzHkMezQZ8S/iykpa1BsxL9b8RQAfDnFvwBmzliJKsW/pVpy0hYaxb+sEhN4bAjFv7Tzo6rX9cS/Ab4JzqnixL+xhZjkNs/EvyYDGR/Uu8S/EhChZ9aoxL+80aHtkJbEv6LEiLlThcS/zbAvTmp1xL+AEhteGmfEvyTBL5qiWsS/jRIZnzlQxL9zSxIGDUjEvyosK51AQsS/Lnlyyu0+xL9vd7UcIz7Ev5SruwvkP8S/PiwW6ShExL+WEMUB30rEv1CaH/DoU8S/wFWYHB9fxL+LKSlrUGzEv1vxFAB8OcW/6zItrhIixb926K+PTgnFv4i0zB+c78S/EHuW7WvVxL+Ys/quMLvEv43dS0pdocS/vPn33mKIxL+YjAfWrnDEvz2V3wKpWsS/T6p53LFGxL9ASNrWIDXEvzchAORCJsS/l1jaIlkaxL86+AnClxHEv/QOUBslDMS/sKiRCxkKxL/Fb1GKfAvEv0zPaIJJEMS/K6Gs7GoYxL+aswgsvSPEv3KyfqkOMsS/IChdrSBDxL+rIvdxqFbEv4spKWtQbMS/W/EUAHw5xb+psyC8+hnFv1h7MB9C+cS/GEPEfOHXxL++BFUIa7bEv8C/71RxlcS/F9gt04R1xL+yCodYMVfEvyRA0Lr7OsS/8CZiil8hxL+7N9z0zArEv/nixtmm98O/lDR9GUHow79Q88Yl39zDv6eFbNqy1cO/qKDSotvSw788XFrwZdTDv7qA4ANL2sO/1slKC3Hkw79UraGSq/LDv0g9x0a8BMS/A0F2BlQaxL8Cu908FDPEv2ij6n+QTsS/iykpa1BsxL9b8RQAfDnFv5cHHIhjEsW/SOvU9jTqxL+qQMpNoMHEv7Zat01XmcS/1f7uawpyxL/TzW3NZUzEv3/s0VQOKcS/S8Ie0J4IxL+rXKhSpevDv2edwMag0sO/oB/Mwf69w7+C4EGkGa7Dv/cvzA03o8O/U+tQrIadw79i1hhrIZ3Dv2PeqAUJosO/h2IrACisw7+Sv4oFUrvDv2jsoKlEz8O/QJMpjKjnw7+VPnzXEgTEv/MqghQHJMS/VvflS/lGxL+LKSlrUGzEv1vxFAB8OcW/L8xm+mwLxb+Hf2lbZtzEv+7mDR82rcS/vBSN96p+xL9czQfEkFHEvz5VhROtJsS/gSKZw7v+w79D5H3Ja9rDv0VXujNcusO/ELlscRmfw79qlCjrGonDv49U7ffAeMO/wqQoN1Nuw7/8Bv1W/2nDv/zQKkzYa8O/WwAI/9Vzw7+JmPJu1YHDv/xGokuZlcO/77q5Acuuw79GTf81/MzDv9nkv6io78O/Mb8WeTgWxL/uuzC+AkDEv4spKWtQbMS/W/EUAHw5xb/YpP1XNAXFv4B7slYQ0MS/NabiwPiaxL+KeNYk1mbEvzeAyd+MNMS/U9GgNfkExL9pBRuM69jDv1oH/NkkscO/1xLTWVOOw78fMdGOD3HDv4wGv6jZWcO/LByAUhdJw7/jFr/0ET/Dvwp/YXT1O8O/joxDcs8/w79yI4YPj0rDv3F7dDcFXMO/EcO9beVzw7/KbXsdx5HDvxSxSGMntcO/H6SUSmvdw78ru1904gnEv5iUxxvKOcS/iykpa1BsxL9b8RQAfDnFv+tcicfT/8S/Zk51w2bFxL8cAQjfNIvEvzYKdwI9UsS/uRNxtngbxL/Ztxnf1+fDv10mQqE8uMO/bTvZg3eNw7/d64XeQ2jDv4rqDKVEScO/9vSLnQExw7+DP8EN5R/Dv00FjOk5FsO/djidiioUw7+UZfb2vxnDv4VXY7nhJsO/ZZybTFY7w7+YqTYXxFbDv0wBI/SyeMO/wELpQI6gw78H/7lop83DvxCOIuE4/8O/qkxTi2k0xL+LKSlrUGzEv1vxFAB8OcW/YdFx42H7xL8I539zlrzEv2sOYL4sfsS/KO0eJjZBxL+X4jmzvQbEv7pL9ILDz8O/HISAZTidw7+Jji6/+W/DvxK+rL7NSMO/Dhfy+F8ow78j0ax5Pg/Dv2cFEVXX/cK/euGsxXb0wr/6ZILeRfPCv8o3HddJ+sK/oaq49GMJw78k+tkQUiDDv3k9EbuvPsO/KtDr8Pdjw7+yJZFkh4/Dv1YMEkifwMO/siYtkWj2w78hwTun9y/Ev4spKWtQbMS/W/EUAHw5xb+ttdpa8ffEv9hqQnPEtcS/C15fJhd0xL+QIlUiCTTEv2N4PPqy9sO/GAYoWSG9w78mH1BpUIjDv/heiIMnWcO/aD3lOXUww788VejO6w7Dv462rige9cK/N3B9TX3jwr/lxq50VtrCvyejeLTR2cK/ILdVUvHhwr8PexK5kfLCvy6VqRRqC8O/1/dEkQ0sw7/2Ze437VPDvxpbx2BagsO/9lsRsIm2w7+Cqu+Qlu/Dv22lpB6HLMS/iykpa1BsxL9b8RQAfDnFv6OWGaOQ9cS/pkATbg2xxL9yMsl6Hm3Ev12OnFntKsS//zIi+pvrw7/bTCa1P7DDv89x1I3cecO/qpHNvmBJw78IcaimoB/Dv81xtyVT/cK/kUX+fA7jwr/RRwy8RdHCv+lV/shGyMK/ub9HCznIwr+/6hi/HNHCv8GtV/TK4sK/1+ctOfb8wr+aPkPtKx/Dv5Mg1DfWSMO/58YOmD55w79cMHsEka/Dv1CAwIvf6sO/Y4bjZiYqxL+LKSlrUGzEv1vxFAB8OcW/Vz/vukn0xL+iEKw1ha7Ev0j6fwlgacS/DmmkFQkmxL9wcLFQp+XDv9Dym7xUqcO//Wxzkxlyw7/vHALC50DDv+kUHcSWFsO/vefF9N/zwr/ZSkRiW9nCvzP9GzR9x8K/MFtErpO+wr+pNVbaxb7Cv6GOjdwSyMK/BzmM91Hawr8F48w+M/XCv47kuPRAGMO/A15jjuFCw7+YoRZUWnTDvzP4MZPSq8O/TFBZU1fow78XL7l+3yjEv4spKWtQbMS/W/EUAHw5xb+s+IMAIvTEvyNM2m42rsS/sAtXj+toxL/VvVbmcCXEv/XH2Qbu5MO/qnzVg32ow78vw3YaKHHDv93tgyrgP8O/cCS1kH0Vw78YrS31ufLCv8azQ54t2MK/wKaA1UzGwr8dxEPqZb3CvwT7vdqfvcK/KJ4lqfnGwr/1CQ5gStnCvzg50MVB9MK/aG7yu2kXw7+JtYtEKELDv172yCTCc8O/mwkJGV6rw7/Ni4eMCOjDv2voTcS3KMS/iykpa1BsxL9b8RQAfDnFv4Y/1xoa9cS/km/BZCKwxL/ja+v1wmvEvx98aUsnKcS/kf53J3Ppw78i7IKTva3Dv0/15hkMd8O/FPBVTE5Gw79rnXiqWRzDv/8/wvrl+cK/lEp2JYrfwr9UI6afuc3Cv+xadnHCxMK/6o1S4MvEwr8iF+nC1c3CvywM4IG438K/WGtAxSX6wr/g3Z/LqRzDvyTsKWWtRsO/qbTbiXh3w7/OaZ1/Na7DvzyvboL06cO/RS+h3q8pxL+LKSlrUGzEv1vxFAB8OcW/ZMoB9y33xL9eEGsDQbTEv5y2mUvaccS/XG/dqRwxxL/AEYyyI/PDv1Pi3Nn+uMO/IZ7gzqyDw790g+4fF1TDvxrRnDsOK8O//dbF30UJw799qDgGUu/Cv88Jjlyk3cK/1Lg4UorUwr/oJFbFK9TCv9FKDVSK3MK/jJ94VYHtwr8pFDp6xgbDvxLU+RHrJ8O/U/898F1Qw7/mp0/obX/Dv4e0S9VMtMO/CFAYIRPuw78jusu6wyvEv4spKWtQbMS/W/EUAHw5xb8KZVXZVPrEvxaSu/mAusS/f/Cy9Rd7xL9lRJeNLz3Ev44aF+3WAcS/y4ppBxLKw7+KC6ok1ZbDv7rZ1bMAacO/Kdm5c11Bw78sAaMDmSDDvy7r3OpCB8O/4LMBJMr1wr+F+9w2e+zCvxhPM+l+68K/4FIqjNnywr/S9V/pagLDv5KBA9DuGcO/inyGP/44w78hCMkqEV/Dv+98CcyAi8O/au5kf4q9w7/A0WgXU/TDv8lUH53qLsS/iykpa1BsxL9b8RQAfDnFv7+mEoKB/sS/rsY8AsjCxL9+OR0cVYfEv83e/jUtTcS/dVBRDE8VxL9dWttVr+DDv46g05M0sMO/J6M2ILOEw7/ir6CL6V7Dv1YFllp9P8O/FGqBMPgmw7+y6NB0xRXDv2t6gXwwDMO/QlMmQGMKw7+ZKRGkZRDDvz+/wFUdHsO/lhYtP04zw78cTPiNm0/Dvwk+A0qJcsO/VxdxdH6bw79pN8+lx8nDv1gG6h+a/MO/fpbcRRczxL+LKSlrUGzEv1vxFAB8OcW/pDMaZaIDxb8jf4xR88zEvyX1m0xelsS/huJVa9JgxL8EfGg5Oi3Ev8itxbV3/MO/sxW5dGDPw7/gNWH4uabDv+yxjU82g8O/NxHQCXFlw79JUReO7E3DvyPwft8PPcO/oGEX2iQzw78jX2DvVjDDv6Mr/meyNMO/+FHrLSRAw7+7ixIgelLDv4af4u1ja8O/l2kad3SKw78QG8ipI6/Dvw/zTdbQ2MO/zr45b8UGxL9jI+QoODjEv4spKWtQbMS/W/EUAHw5xb+cbq/zoQnFv7vYnijY2MS/Qg0RU/SnxL/RrESZzHfEvwMDg+kzScS/CA8zXvYcxL/3rtS/1fPDvyHwLzSGzsO/KIY+Kautw78PzE+J1JHDv2XwpkR8e8O/uYRcOwRrw7+8AKeQtGDDv/sZ4G66XMO/3/+uQSdfw784DLpp8GfDv/8kLmvvdsO/xwBQluKLw7+W8DQnbqbDv1vlttcdxsO/LQvD3Gbqw79lGExGqhLEv1xeebc3PsS/iykpa1BsxL9b8RQAfDnFvyGOFvdmEMW/s3ltiETmxL8wRypDzbvEvwYI+im7kcS/KH9hhMZoxL8Sdo23okHEvxPdhzT7HMS/rqpDiXD7w7/J01ihld3DvxDUeELtw8O/eKaez+euw78jO8dc4Z7Dv8+2nhsglMO//CEJKNOOw7+ATcm5EY/Dv8XGzb7alMO/G1Ph3xSgw7/QZ6rvjrDDv7tsE8IAxsO/kEBsaAzgw78bRdzMP/7Dv125GqYWIMS/4X3guvxExL+LKSlrUGzEv1vxFAB8OcW/jiqR+tQXxb/+biAEAPXEv8nkHa+V0cS/YHYqHDGuxL8lVq5SbYvEv/b7yJniacS/CBBO3SNKxL/H7TgqvCzEvyujmU0sEsS/P09noOj6w78PG98JV+fDv9gXKEHN18O/ZivfVY/Mw78rnfeFzsXDv+IcCmaow8O/3wnDXybGw78QhqeIPc3Dv7Xt5dHO2MO/uUNgkKfow7/qrpxagvzDv7TizzgIFMS/qK7NIdIuxL9NGlu+akzEv4spKWtQbMS/W/EUAHw5xb/awfvCzB/Fv25CPa7MBMW/W2FcBvLoxL+EdkTNtszEv4F73auWsMS/CXxj1AyVxL9t1cXmkXrEvyT3SeCZYcS/3f97H5JKxL/Doh6F3zXEv/28TLrcI8S/Hxhco9gUxL9UzUwGFQnEv6/wrmrFAMS/lHnsNw78w788E9QVBPvDv3VLH5Kr/cO/yG2ADPkDxL8VaY/p0A3Evw6vtgsIG8S/Rl8OkGQrxL8ZgurLnj7Ev5qxxYZiVMS/iykpa1BsxL9b8RQAfDnFv9diFdIsKMW/zUf3HGgVxb+5JHUWgAHFv4qwU/DL7MS/R1RzWqbXxL8rRJX1a8LEv+8noL15rcS/IYVVciuZxL9b828F2oXEv0RwChXac8S/IFn7eHpjxL8rjHrpAlXEv3dp+8SySMS/ML6a+r8+xL8SbeAdVjfEvzmh36eVMsS/9535aJMwxL/qNbItWDHEv9pBJZjgNMS/FOnFLh07xL+jIieg8kPEv3eHpDo6T8S/llLflcJcxL+LKSlrUGzEvw==",
          "dtype": "f8",
          "shape": "50, 25"
         },
         "z": {
          "bdata": "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",
          "dtype": "f8",
          "shape": "50, 25"
         }
        },
        {
         "line": {
          "color": "red",
          "width": 4
         },
         "marker": {
          "color": "red",
          "size": 4
         },
         "mode": "lines+markers",
         "name": "Polarizability Arrow",
         "type": "scatter3d",
         "x": [
          -0.27776917034684295,
          -0.2816224290236699
         ],
         "y": [
          -0.16268613451220978,
          -0.16652792767682065
         ],
         "z": [
          -0.026562068777323804,
          -0.02963632082396849
         ]
        },
        {
         "line": {
          "color": "red",
          "width": 4
         },
         "marker": {
          "color": "red",
          "size": 4
         },
         "mode": "lines+markers",
         "name": "Polarizability Arrow",
         "type": "scatter3d",
         "x": [
          -0.27776917034684295,
          -0.26393770763574714
         ],
         "y": [
          -0.16268613451220978,
          -0.1782456411147951
         ],
         "z": [
          -0.026562068777323804,
          -0.02445417263375326
         ]
        },
        {
         "line": {
          "color": "red",
          "width": 4
         },
         "marker": {
          "color": "red",
          "size": 4
         },
         "mode": "lines+markers",
         "name": "Polarizability Arrow",
         "type": "scatter3d",
         "x": [
          -0.27776917034684295,
          -0.28285951131878967
         ],
         "y": [
          -0.16268613451220978,
          -0.16581678396151353
         ],
         "z": [
          -0.026562068777323804,
          -0.01626957876438006
         ]
        }
       ],
       "layout": {
        "scene": {
         "xaxis": {
          "title": {
           "text": "X"
          }
         },
         "yaxis": {
          "title": {
           "text": "Y"
          }
         },
         "zaxis": {
          "title": {
           "text": "Z"
          }
         }
        },
        "template": {
         "data": {
          "bar": [
           {
            "error_x": {
             "color": "#2a3f5f"
            },
            "error_y": {
             "color": "#2a3f5f"
            },
            "marker": {
             "line": {
              "color": "#E5ECF6",
              "width": 0.5
             },
             "pattern": {
              "fillmode": "overlay",
              "size": 10,
              "solidity": 0.2
             }
            },
            "type": "bar"
           }
          ],
          "barpolar": [
           {
            "marker": {
             "line": {
              "color": "#E5ECF6",
              "width": 0.5
             },
             "pattern": {
              "fillmode": "overlay",
              "size": 10,
              "solidity": 0.2
             }
            },
            "type": "barpolar"
           }
          ],
          "carpet": [
           {
            "aaxis": {
             "endlinecolor": "#2a3f5f",
             "gridcolor": "white",
             "linecolor": "white",
             "minorgridcolor": "white",
             "startlinecolor": "#2a3f5f"
            },
            "baxis": {
             "endlinecolor": "#2a3f5f",
             "gridcolor": "white",
             "linecolor": "white",
             "minorgridcolor": "white",
             "startlinecolor": "#2a3f5f"
            },
            "type": "carpet"
           }
          ],
          "choropleth": [
           {
            "colorbar": {
             "outlinewidth": 0,
             "ticks": ""
            },
            "type": "choropleth"
           }
          ],
          "contour": [
           {
            "colorbar": {
             "outlinewidth": 0,
             "ticks": ""
            },
            "colorscale": [
             [
              0,
              "#0d0887"
             ],
             [
              0.1111111111111111,
              "#46039f"
             ],
             [
              0.2222222222222222,
              "#7201a8"
             ],
             [
              0.3333333333333333,
              "#9c179e"
             ],
             [
              0.4444444444444444,
              "#bd3786"
             ],
             [
              0.5555555555555556,
              "#d8576b"
             ],
             [
              0.6666666666666666,
              "#ed7953"
             ],
             [
              0.7777777777777778,
              "#fb9f3a"
             ],
             [
              0.8888888888888888,
              "#fdca26"
             ],
             [
              1,
              "#f0f921"
             ]
            ],
            "type": "contour"
           }
          ],
          "contourcarpet": [
           {
            "colorbar": {
             "outlinewidth": 0,
             "ticks": ""
            },
            "type": "contourcarpet"
           }
          ],
          "heatmap": [
           {
            "colorbar": {
             "outlinewidth": 0,
             "ticks": ""
            },
            "colorscale": [
             [
              0,
              "#0d0887"
             ],
             [
              0.1111111111111111,
              "#46039f"
             ],
             [
              0.2222222222222222,
              "#7201a8"
             ],
             [
              0.3333333333333333,
              "#9c179e"
             ],
             [
              0.4444444444444444,
              "#bd3786"
             ],
             [
              0.5555555555555556,
              "#d8576b"
             ],
             [
              0.6666666666666666,
              "#ed7953"
             ],
             [
              0.7777777777777778,
              "#fb9f3a"
             ],
             [
              0.8888888888888888,
              "#fdca26"
             ],
             [
              1,
              "#f0f921"
             ]
            ],
            "type": "heatmap"
           }
          ],
          "histogram": [
           {
            "marker": {
             "pattern": {
              "fillmode": "overlay",
              "size": 10,
              "solidity": 0.2
             }
            },
            "type": "histogram"
           }
          ],
          "histogram2d": [
           {
            "colorbar": {
             "outlinewidth": 0,
             "ticks": ""
            },
            "colorscale": [
             [
              0,
              "#0d0887"
             ],
             [
              0.1111111111111111,
              "#46039f"
             ],
             [
              0.2222222222222222,
              "#7201a8"
             ],
             [
              0.3333333333333333,
              "#9c179e"
             ],
             [
              0.4444444444444444,
              "#bd3786"
             ],
             [
              0.5555555555555556,
              "#d8576b"
             ],
             [
              0.6666666666666666,
              "#ed7953"
             ],
             [
              0.7777777777777778,
              "#fb9f3a"
             ],
             [
              0.8888888888888888,
              "#fdca26"
             ],
             [
              1,
              "#f0f921"
             ]
            ],
            "type": "histogram2d"
           }
          ],
          "histogram2dcontour": [
           {
            "colorbar": {
             "outlinewidth": 0,
             "ticks": ""
            },
            "colorscale": [
             [
              0,
              "#0d0887"
             ],
             [
              0.1111111111111111,
              "#46039f"
             ],
             [
              0.2222222222222222,
              "#7201a8"
             ],
             [
              0.3333333333333333,
              "#9c179e"
             ],
             [
              0.4444444444444444,
              "#bd3786"
             ],
             [
              0.5555555555555556,
              "#d8576b"
             ],
             [
              0.6666666666666666,
              "#ed7953"
             ],
             [
              0.7777777777777778,
              "#fb9f3a"
             ],
             [
              0.8888888888888888,
              "#fdca26"
             ],
             [
              1,
              "#f0f921"
             ]
            ],
            "type": "histogram2dcontour"
           }
          ],
          "mesh3d": [
           {
            "colorbar": {
             "outlinewidth": 0,
             "ticks": ""
            },
            "type": "mesh3d"
           }
          ],
          "parcoords": [
           {
            "line": {
             "colorbar": {
              "outlinewidth": 0,
              "ticks": ""
             }
            },
            "type": "parcoords"
           }
          ],
          "pie": [
           {
            "automargin": true,
            "type": "pie"
           }
          ],
          "scatter": [
           {
            "fillpattern": {
             "fillmode": "overlay",
             "size": 10,
             "solidity": 0.2
            },
            "type": "scatter"
           }
          ],
          "scatter3d": [
           {
            "line": {
             "colorbar": {
              "outlinewidth": 0,
              "ticks": ""
             }
            },
            "marker": {
             "colorbar": {
              "outlinewidth": 0,
              "ticks": ""
             }
            },
            "type": "scatter3d"
           }
          ],
          "scattercarpet": [
           {
            "marker": {
             "colorbar": {
              "outlinewidth": 0,
              "ticks": ""
             }
            },
            "type": "scattercarpet"
           }
          ],
          "scattergeo": [
           {
            "marker": {
             "colorbar": {
              "outlinewidth": 0,
              "ticks": ""
             }
            },
            "type": "scattergeo"
           }
          ],
          "scattergl": [
           {
            "marker": {
             "colorbar": {
              "outlinewidth": 0,
              "ticks": ""
             }
            },
            "type": "scattergl"
           }
          ],
          "scattermap": [
           {
            "marker": {
             "colorbar": {
              "outlinewidth": 0,
              "ticks": ""
             }
            },
            "type": "scattermap"
           }
          ],
          "scattermapbox": [
           {
            "marker": {
             "colorbar": {
              "outlinewidth": 0,
              "ticks": ""
             }
            },
            "type": "scattermapbox"
           }
          ],
          "scatterpolar": [
           {
            "marker": {
             "colorbar": {
              "outlinewidth": 0,
              "ticks": ""
             }
            },
            "type": "scatterpolar"
           }
          ],
          "scatterpolargl": [
           {
            "marker": {
             "colorbar": {
              "outlinewidth": 0,
              "ticks": ""
             }
            },
            "type": "scatterpolargl"
           }
          ],
          "scatterternary": [
           {
            "marker": {
             "colorbar": {
              "outlinewidth": 0,
              "ticks": ""
             }
            },
            "type": "scatterternary"
           }
          ],
          "surface": [
           {
            "colorbar": {
             "outlinewidth": 0,
             "ticks": ""
            },
            "colorscale": [
             [
              0,
              "#0d0887"
             ],
             [
              0.1111111111111111,
              "#46039f"
             ],
             [
              0.2222222222222222,
              "#7201a8"
             ],
             [
              0.3333333333333333,
              "#9c179e"
             ],
             [
              0.4444444444444444,
              "#bd3786"
             ],
             [
              0.5555555555555556,
              "#d8576b"
             ],
             [
              0.6666666666666666,
              "#ed7953"
             ],
             [
              0.7777777777777778,
              "#fb9f3a"
             ],
             [
              0.8888888888888888,
              "#fdca26"
             ],
             [
              1,
              "#f0f921"
             ]
            ],
            "type": "surface"
           }
          ],
          "table": [
           {
            "cells": {
             "fill": {
              "color": "#EBF0F8"
             },
             "line": {
              "color": "white"
             }
            },
            "header": {
             "fill": {
              "color": "#C8D4E3"
             },
             "line": {
              "color": "white"
             }
            },
            "type": "table"
           }
          ]
         },
         "layout": {
          "annotationdefaults": {
           "arrowcolor": "#2a3f5f",
           "arrowhead": 0,
           "arrowwidth": 1
          },
          "autotypenumbers": "strict",
          "coloraxis": {
           "colorbar": {
            "outlinewidth": 0,
            "ticks": ""
           }
          },
          "colorscale": {
           "diverging": [
            [
             0,
             "#8e0152"
            ],
            [
             0.1,
             "#c51b7d"
            ],
            [
             0.2,
             "#de77ae"
            ],
            [
             0.3,
             "#f1b6da"
            ],
            [
             0.4,
             "#fde0ef"
            ],
            [
             0.5,
             "#f7f7f7"
            ],
            [
             0.6,
             "#e6f5d0"
            ],
            [
             0.7,
             "#b8e186"
            ],
            [
             0.8,
             "#7fbc41"
            ],
            [
             0.9,
             "#4d9221"
            ],
            [
             1,
             "#276419"
            ]
           ],
           "sequential": [
            [
             0,
             "#0d0887"
            ],
            [
             0.1111111111111111,
             "#46039f"
            ],
            [
             0.2222222222222222,
             "#7201a8"
            ],
            [
             0.3333333333333333,
             "#9c179e"
            ],
            [
             0.4444444444444444,
             "#bd3786"
            ],
            [
             0.5555555555555556,
             "#d8576b"
            ],
            [
             0.6666666666666666,
             "#ed7953"
            ],
            [
             0.7777777777777778,
             "#fb9f3a"
            ],
            [
             0.8888888888888888,
             "#fdca26"
            ],
            [
             1,
             "#f0f921"
            ]
           ],
           "sequentialminus": [
            [
             0,
             "#0d0887"
            ],
            [
             0.1111111111111111,
             "#46039f"
            ],
            [
             0.2222222222222222,
             "#7201a8"
            ],
            [
             0.3333333333333333,
             "#9c179e"
            ],
            [
             0.4444444444444444,
             "#bd3786"
            ],
            [
             0.5555555555555556,
             "#d8576b"
            ],
            [
             0.6666666666666666,
             "#ed7953"
            ],
            [
             0.7777777777777778,
             "#fb9f3a"
            ],
            [
             0.8888888888888888,
             "#fdca26"
            ],
            [
             1,
             "#f0f921"
            ]
           ]
          },
          "colorway": [
           "#636efa",
           "#EF553B",
           "#00cc96",
           "#ab63fa",
           "#FFA15A",
           "#19d3f3",
           "#FF6692",
           "#B6E880",
           "#FF97FF",
           "#FECB52"
          ],
          "font": {
           "color": "#2a3f5f"
          },
          "geo": {
           "bgcolor": "white",
           "lakecolor": "white",
           "landcolor": "#E5ECF6",
           "showlakes": true,
           "showland": true,
           "subunitcolor": "white"
          },
          "hoverlabel": {
           "align": "left"
          },
          "hovermode": "closest",
          "mapbox": {
           "style": "light"
          },
          "paper_bgcolor": "white",
          "plot_bgcolor": "#E5ECF6",
          "polar": {
           "angularaxis": {
            "gridcolor": "white",
            "linecolor": "white",
            "ticks": ""
           },
           "bgcolor": "#E5ECF6",
           "radialaxis": {
            "gridcolor": "white",
            "linecolor": "white",
            "ticks": ""
           }
          },
          "scene": {
           "xaxis": {
            "backgroundcolor": "#E5ECF6",
            "gridcolor": "white",
            "gridwidth": 2,
            "linecolor": "white",
            "showbackground": true,
            "ticks": "",
            "zerolinecolor": "white"
           },
           "yaxis": {
            "backgroundcolor": "#E5ECF6",
            "gridcolor": "white",
            "gridwidth": 2,
            "linecolor": "white",
            "showbackground": true,
            "ticks": "",
            "zerolinecolor": "white"
           },
           "zaxis": {
            "backgroundcolor": "#E5ECF6",
            "gridcolor": "white",
            "gridwidth": 2,
            "linecolor": "white",
            "showbackground": true,
            "ticks": "",
            "zerolinecolor": "white"
           }
          },
          "shapedefaults": {
           "line": {
            "color": "#2a3f5f"
           }
          },
          "ternary": {
           "aaxis": {
            "gridcolor": "white",
            "linecolor": "white",
            "ticks": ""
           },
           "baxis": {
            "gridcolor": "white",
            "linecolor": "white",
            "ticks": ""
           },
           "bgcolor": "#E5ECF6",
           "caxis": {
            "gridcolor": "white",
            "linecolor": "white",
            "ticks": ""
           }
          },
          "title": {
           "x": 0.05
          },
          "xaxis": {
           "automargin": true,
           "gridcolor": "white",
           "linecolor": "white",
           "ticks": "",
           "title": {
            "standoff": 15
           },
           "zerolinecolor": "white",
           "zerolinewidth": 2
          },
          "yaxis": {
           "automargin": true,
           "gridcolor": "white",
           "linecolor": "white",
           "ticks": "",
           "title": {
            "standoff": 15
           },
           "zerolinecolor": "white",
           "zerolinewidth": 2
          }
         }
        },
        "title": {
         "text": "Molecule with Polarizability Arrows"
        }
       }
      }
     },
     "metadata": {},
     "output_type": "display_data"
    },
    {
     "name": "stdout",
     "output_type": "stream",
     "text": [
      "tensor([[ 60.4055, -12.4262,  10.6196],\n",
      "        [-12.4262,  64.3157,   6.0885],\n",
      "        [ 10.6196,   6.0885,  55.5771]])\n"
     ]
    }
   ],
   "source": [
    "real_part_true = sample.y[:,:3]\n",
    "print(real_part_true)\n",
    "\n",
    "visualize_polarizability(atoms, real_part_true)\n",
    "\n",
    "real_part_predicted = y[:,:3]\n",
    "print(real_part_predicted)"
   ]
  },
  {
   "cell_type": "code",
   "execution_count": 54,
   "metadata": {},
   "outputs": [],
   "source": [
    "import plotly.graph_objects as go\n",
    "\n",
    "def compare_polarizabilities(atoms, true_tensor, predicted_tensor):\n",
    "    \"\"\"\n",
    "    Visualize a molecule with true and predicted polarizability tensors using Plotly.\n",
    "    \n",
    "    Parameters:\n",
    "        atoms: ASE Atoms object\n",
    "        true_tensor: (3, 3) numpy array representing the true polarizability tensor (Bohr^3)\n",
    "        predicted_tensor: (3, 3) numpy array representing the predicted polarizability tensor (Bohr^3)\n",
    "    \"\"\"\n",
    "    def create_polarizability_traces(tensor, center, color, name, scale=0.05):\n",
    "\n",
    "        tensor = tensor.reshape(3,3)\n",
    "\n",
    "        # Eigen decomposition of the polarizability tensor\n",
    "        eigenvalues, eigenvectors = np.linalg.eig(tensor)\n",
    "        \n",
    "        print(\"Raw Eigenvalues (True Tensor):\", eigenvalues)\n",
    "        print(\"Real Eigenvalues (True Tensor):\", np.real(eigenvalues))\n",
    "        # Ensure eigenvalues and eigenvectors are real\n",
    "        eigenvalues = np.real(eigenvalues)\n",
    "        eigenvectors = np.real(eigenvectors)\n",
    "\n",
    "\n",
    "        # Calculate arrows for the principal axes\n",
    "        arrows = [scale * eigenvalue * eigenvector for eigenvalue, eigenvector in zip(eigenvalues, eigenvectors.T)]\n",
    "\n",
    "        # Create arrow traces\n",
    "        arrow_traces = []\n",
    "        for arrow in arrows:\n",
    "            arrow_trace = go.Scatter3d(\n",
    "                x=[center[0], center[0] + arrow[0]],\n",
    "                y=[center[1], center[1] + arrow[1]],\n",
    "                z=[center[2], center[2] + arrow[2]],\n",
    "                mode='lines+markers',\n",
    "                line=dict(color=color, width=4),\n",
    "                marker=dict(size=4, color=color),\n",
    "                name=f\"{name} Arrow\"\n",
    "            )\n",
    "            arrow_traces.append(arrow_trace)\n",
    "\n",
    "        # Generate ellipsoid points\n",
    "        eigenvalues = np.abs(eigenvalues) * 0.05  # Adjust scaling factor\n",
    "        u = np.linspace(0, 2 * np.pi, 50)\n",
    "        v = np.linspace(0, np.pi, 25)\n",
    "        x = np.outer(np.cos(u), np.sin(v))\n",
    "        y = np.outer(np.sin(u), np.sin(v))\n",
    "        z = np.outer(np.ones_like(u), np.cos(v))\n",
    "\n",
    "        # Scale and rotate the ellipsoid\n",
    "        ellipsoid = np.dot(np.column_stack([x.flatten(), y.flatten(), z.flatten()]), np.diag(eigenvalues))\n",
    "        ellipsoid = np.dot(ellipsoid, eigenvectors.T)\n",
    "        x_ellipsoid = ellipsoid[:, 0].reshape(x.shape)\n",
    "        y_ellipsoid = ellipsoid[:, 1].reshape(y.shape)\n",
    "        z_ellipsoid = ellipsoid[:, 2].reshape(z.shape)\n",
    "\n",
    "        # Create ellipsoid trace\n",
    "        ellipsoid_trace = go.Surface(\n",
    "            x=x_ellipsoid + center[0],\n",
    "            y=y_ellipsoid + center[1],\n",
    "            z=z_ellipsoid + center[2],\n",
    "            colorscale=[[0, color], [1, color]],\n",
    "            opacity=0.2,\n",
    "            showscale=False,\n",
    "            name=f\"{name} Ellipsoid\"\n",
    "        )\n",
    "        return arrow_traces, ellipsoid_trace\n",
    "\n",
    "    # Calculate center of the molecule\n",
    "    center = atoms.get_center_of_mass()\n",
    "\n",
    "    # Create polarizability traces for true tensor\n",
    "    true_arrows, true_ellipsoid = create_polarizability_traces(true_tensor, center, 'blue', 'True')\n",
    "\n",
    "    # Create polarizability traces for predicted tensor\n",
    "    pred_arrows, pred_ellipsoid = create_polarizability_traces(predicted_tensor, center, 'red', 'Predicted')\n",
    "\n",
    "    # Extract atomic positions and symbols\n",
    "    positions = atoms.get_positions()\n",
    "    symbols = atoms.get_chemical_symbols()\n",
    "\n",
    "    # Define colors for different atom types\n",
    "    atom_colors = {\n",
    "        'H': 'grey',\n",
    "        'C': 'black',\n",
    "        'O': 'pink',\n",
    "        'N': 'purple',\n",
    "        'S': 'yellow',\n",
    "        'Cl': 'green',\n",
    "        'F': 'cyan'\n",
    "    }\n",
    "    colors = [atom_colors.get(symbol, 'gray') for symbol in symbols]\n",
    "\n",
    "    # Create scatter plot for the atoms with different colors\n",
    "    atom_trace = go.Scatter3d(\n",
    "        x=positions[:, 0],\n",
    "        y=positions[:, 1],\n",
    "        z=positions[:, 2],\n",
    "        mode='markers+text',\n",
    "        marker=dict(size=6, color=colors),\n",
    "        text=symbols,\n",
    "        textposition=\"top center\",\n",
    "        name=\"Atoms\"\n",
    "    )\n",
    "\n",
    "    # Combine all traces\n",
    "    layout = go.Layout(\n",
    "        scene=dict(\n",
    "            xaxis=dict(title='X'),\n",
    "            yaxis=dict(title='Y'),\n",
    "            zaxis=dict(title='Z')\n",
    "        ),\n",
    "        title=\"True vs Predicted Polarizability Comparison\"\n",
    "    )\n",
    "\n",
    "    fig = go.Figure(data=[atom_trace, true_ellipsoid, pred_ellipsoid] + true_arrows + pred_arrows, layout=layout)\n",
    "\n",
    "    # Display the plot\n",
    "    fig.show()"
   ]
  },
  {
   "cell_type": "code",
   "execution_count": 55,
   "metadata": {},
   "outputs": [
    {
     "name": "stdout",
     "output_type": "stream",
     "text": [
      "Raw Eigenvalues (True Tensor): [126.622375 -20.431532  53.057   ]\n",
      "Real Eigenvalues (True Tensor): [126.622375 -20.431532  53.057   ]\n",
      "Raw Eigenvalues (True Tensor): [40.249687 75.30716  64.74147 ]\n",
      "Real Eigenvalues (True Tensor): [40.249687 75.30716  64.74147 ]\n"
     ]
    },
    {
     "data": {
      "application/vnd.plotly.v1+json": {
       "config": {
        "plotlyServerURL": "https://plot.ly"
       },
       "data": [
        {
         "marker": {
          "color": [
           "black",
           "black",
           "black",
           "purple",
           "black",
           "purple",
           "grey",
           "grey",
           "grey",
           "grey",
           "grey",
           "grey"
          ],
          "size": 6
         },
         "mode": "markers+text",
         "name": "Atoms",
         "text": [
          "C",
          "C",
          "C",
          "N",
          "C",
          "N",
          "H",
          "H",
          "H",
          "H",
          "H",
          "H"
         ],
         "textposition": "top center",
         "type": "scatter3d",
         "x": {
          "bdata": "qCIJL21X/j9KG7N6owLaP+q52KBxeNq/RRqHgL/Q+r9ni6WXL4b5v2y91/o78tS/npluVqLcAUBWEmv004wCQGR1bA0JIQJAJVvSzAKXvb+x3bagtE8EwJo3d2hQoQPA",
          "dtype": "f8"
         },
         "y": {
          "bdata": "n1cWVeNYxb8boaiXtGHHv0+Xs/RMh+0/fztPg4Hh3z+TOZ8MA+7qv7nQwo1dx/S/aFdVDspx5D/jNRMfBFeJP40NEuH6QfK/oqKdGUxU/z9r2OqD21jxP1SBYpUUvfe/",
          "dtype": "f8"
         },
         "z": {
          "bdata": "z6K11puRwT+arXA36qGtP1ZkMU1J0LA/1zq+BjCPt7+M8B4Hwv/Jv8SEayN85L+/wbtmmb5Y6j9fyIF9b/Hrv/GnDeXto+A/Rhj/ZcqmxT/ZNWmuj8bAv1iaK9XoWta/",
          "dtype": "f8"
         }
        },
        {
         "colorscale": [
          [
           0,
           "blue"
          ],
          [
           1,
           "blue"
          ]
         ],
         "name": "True Ellipsoid",
         "opacity": 0.2,
         "showscale": false,
         "type": "surface",
         "x": {
          "bdata": "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",
          "dtype": "f8",
          "shape": "50, 25"
         },
         "y": {
          "bdata": "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",
          "dtype": "f8",
          "shape": "50, 25"
         },
         "z": {
          "bdata": "YGFOyPCXAUCpyOFBq8r7P+CZt37c6fM/UCrxuO5f5z/6NV5NIQjKP2jJTJox+NS/Vfo2FgZQ67/FX23oBNj1v0AOjf80qv2/OWJyoih+AsAb2ItXJNcFwJvvPdZj0QjAYJH+S9xfC8AWwl79WncNwFGV/VK2Dg/Aa8Hh/XoPEMAQTk26uFEQwBd99DfyTBDAVqy2YTwBEMDT7f+wxd8OwGAoWo3ENg3Aitya9roOC8BfivX5GnEIwJWGErRZaQXAochZIb0EAsBgYU7I8JcBQKI/5isk0/s/CT9oNqn68z/EFmWXnJHnP4L+pxbEC8s/sADbLyNa1L9ltHSHOvTqvztQBv+FpPW/BtdShP5x/b/4nry4LGACwAr0AhjLtwXAaLtSkTaxCMBOWNXyZz8LwOKNc7gtVw3AQbF0E13vDsDK3wYJfQAQwEHAfhurQxDANbmafRJAEMAxx7zfhesPwL20seMDzA7A14vFYIomDcBt4f1+TwILwMo3HZ60aAjAGEsQPx1lBcChyFkhvQQCwGBhTsjwlwFABPFZw0f5+z+0T4ZWSUb0P2B8UWU/ceg/OugdNouczz+YUmVuoZLRv7EeGtYAV+m/HYLrwLW89L/m4kdG8nT8vzZf9c0y2QHASEadm6wqBcA+7KilXSAIwBib5g5PrQrAub7JzFTGDMB/Aw+XPmIOwNJ/RicAeg/AOgP8C2gEEMCtBRRuHgYQwMQhZnM3hA/A+f6CqxNzDsA8Lc7ufd0MwAbIgstmygrAdS8OjuRCCMBnclZzC1IFwKHIWSG9BALAYGFOyPCXAUDXr9q2dTz8PzAviPp+y/Q/sFw3FCv76T8NAV/ZotPTPwDi6lO2Wsm/3QuuASJ/5r8hXGecYiTzv9IsAvY3t/q/0OzyQXLrAMDVUYEUGjIEwPd3YfE5IQfA3JdSv/erCcBxSoIYMccLwAwP8w+saQ3AbA1Emz+MDsBpK9Xv8ikPwF345UkTQA/ADx1Lvj/ODsDGAvXiatYNwJ8rBEfSXAzA8k/J3+tnCsC3Pw28SQAIwP0Slnl0MAXAochZIb0EAsBgYU7I8JcBQF0dmaKTm/w/ZvO9LxqI9T/C/1zK5yjsP/nTINQShdk/UHdjKZL7tr/Z4w2nkXjiv18lfPdA4vC/6sneMiFA+L9UNTzzpDX/v7llPmMo0gLAzHzk7/u3BcAiI6LAmz8IwEdPBRfzXQrA8CKwXroJDMBGO+/SnzsNwPV5Q45n7g3A+lxwdwIfDsANE6Onm8wNwGBwAQ+c+AzAQfGrR6SmC8Au5z+yfNwJwJxdciH8oQfAOty2g+UABcChyFkhvQQCwGBhTsjwlwFA3jdgsxEV/T+5CxEnAnn2P0CFMRNN8e4/oxj3l1Nl4D/BZQyt+9yoP/LxnIZ3qNq/k5/5AZ7/679gBTbHChr1vz7F9eu02fu/1/6k7p4QAcAcDrAdkuoDwM7Lrqk2bgbAl+DQRImQCMANvBbqMEgKwDoDTM+njQvAsBdvWFxbDMAvsjB8ya0MwFY4sy6GgwzADyMCj0vdC8CXRTK88b0KwM/FCmBjKgnActHIJYgpB8D5TlN7JsQEwKHIWSG9BALAYGFOyPCXAUAkykA38ab9P15nmTlCmvc/FNQfL1Qk8T+JQStg58LkP0gMKQTzecs/y2OoSPaezL/Npn2SWRLlv7pzURkxUvG/ljZXMDPR978Hci+yvun9vzUmXgmQwAHAW7eUxWw/BMCv+H4wh2YGwDp2iVRxLAjA57t88WaJCcDcznyBb3cKwP2zUWB48grAVCBqomb4CsDhw3NNIIkKwF07JcqMpgnAFD1HjYxUCMCfo4Qc6JgGwNYFY7k2ewTAochZIb0EAsBgYU7I8JcBQD4ESADNTv4/SY1PiRrn+D8eJ28VdxDzP3leiwLryOk/rBtDXnr42T9wwQX4ZRVav/IShSilM9q/XA17EPHw6b/SbTLoEy3zvxdB4vKMD/m//1Nh9RyG/r/jqGT0arwBwHp80aEF6QPAwd3idFi/BcCFV2pNVzcHwFbY8jiTSgjAqezCoFb0CMDQmp7quTEJwDDx7TGwAQnAITSN4QtlCMCQkx8ae14HwKqQqfR78gXAyWjf1EgnBMChyFkhvQQCwGBhTsjwlwFA44ABduMJ/z91kvb3E1r6P2Av94j6NPU/UsEauEBi7z9y/slcW83jP+SgNLf/d88/08VDpSnewL8uDqw8VT7gv1lKALqyAey/W6bWMw6n879sEwVrCvn4v+zuOTOA3/2/MVyjXHwiAcBjEF0VGQsDwDEz0Qc6oQTAixj/Q+zdBcCohgaWxLsGwAlQbEL3NgfACNWDpmhNB8BqWyl0tv4GwG6PW2A5TAbAEw5WPf84BcB2qgKavckDwKHIWSG9BALAYGFOyPCXAUDpIHIrItX/P5EjUiAX7fs/AYm92tyI9z9DZCG7r7vyP9O83akvNes/j1o4nhl44D+sQ5/Um7zFP8EG3ZJJ1ca/7Uem8IPE4L8q+Ipm/I3rv5zatPI98fK/t+cRdWHK97+Sf/ZALD38v0F7FBURGwDAlrJ6Ve7RAcBr5QGOqzsDwBBWaD4YUgTAc4NR1nAQBcBw5T6Tc3MFwJ1Zn8RueQXAnWJ4N0giBcCGRSipfW8EwHNaSj8eZAPAoMhZIb0EAsBgYU7I8JcBQAMabGSZVgBA3eIW8YWZ/T8wZlU8VQL6PxTblO5a9/U/bK7heEyK8T/5UJzPGZ3pP44HleBfY98/t1tnLjr3xT9ou93qZkfDv08GOyc9IN6/1lpU2iEQ6b8V+ioOC1Pxv2DSazv/0/W/ATyyQDP3+b+j+P2Ph6r9v0Sf7VHjbgDAWamf/3XBAcDZhfjJMMcCwG59RUGZewPANJ7lKpnbA8AGdKwGjOUDwN/lxUBGmQPA5VCX8BX4AsCgyFkhvQQCwGBhTsjwlwFAXJV0iUTHAEATVfN9V1j/P+jv2+D8lvw/vsih2IpW+T/tjOmyP6X1P2k5VwpIk/E/Sn2B2+9k6j9SdRqR+SvhP0DghRJLkM4/BueTpilIsL/GFG862GHXv4M9InRWKeW/TdS6uchI7r/euEyRpnPzvy6FUVCRb/e/Vu8aIbEG+7/w1aMJTCn+v2P9szjTZADALo5BpB9uAcBfJ981ASwCwCovaTQ4mwLAxKxXet25AsCL1Y7LaocCwKDIWSG9BALAYGFOyPCXAUDMfkrquDoBQEAA4sgakQBAZ98Vtvo7/z/NuCsOE8v8P8xgWNQv2vk/ybXv2jJ29j89Ow4f9q3yPxjDBHYVJO0//haUquBo5D9vpf8nGaHWP9Tiz4B+F7A/GPXpd9Zczb+PTWnM7JTgvyMix1m7jem/tzVYXSoN8b9yyKUuowr1v1dZVtjNrfi/Z37PoLvm+799SBQnT6f+v1cvGhu9cQDAajfMSblIAcANV29w7tQBwBvsuGr2EwLAoMhZIb0EAsBgYU7I8JcBQLOiTzYRrwFAz6XSws13AUBJ9PF+GPMAQJ4jbbU2IwBAJMTu8G0X/j+a7mgaw2L7P62lRfJGNPg/jAtoGumZ9D++vYvAcaPwP5jatPp4xOg/vKrFMbGj3z+78f5Sz1jKP1qkAx0gMLa/hDQk5p0z2L/vBi3kUTzlv+U8gJ6JBe6/5u4eBX0n87+VRVZhK/r2vyTlfQoRavq/QdCF2R9o/b+rZcpLPOf/v36xfnY77gDAM8izHp6fAcCgyFkhvQQCwGBhTsjwlwFAmajWXmQiAkD2CaDtelwCQDc4MAQ2RQJA65Atj/vcAUAbR+sZlCUBQBN4pP4iIgBAQTs7TzGu/T+Hp8M6PpT6Px5fj24CBPc/JDfVtRkN8z84easzw4HtP9kmw6JaZOQ/nV5QLs3T1T/Zljfet76jP2CISxBh9tC/7QTJXd8Q4r+kslJQJVvrvwpEdn6oGPK/ExuWx1Y29r+l9QQmlvT5v87dTUEBQ/2/V02xS44JAMBNwiz2SiwBwKDIWSG9BALAYGFOyPCXAUD/VOWezZICQNSnvAphOwNAkNMdpciOA0CK3BQZl4sDQDc3rWPaMQNAmvqrlhuDAkD3wtMeWIIBQJfdJ6v0MwBAlwIZ3VM7/T/rdx0g14z5P4fTNG+TbPU/68H+eJvs8D8lXeZBSkHoP/3156TMdtw/DhZsp5Kbvz+IdsOaJKbJv0odenMnruC/+n3OnG6t6r/ZOhI0yh3yv2ZeNhJfl/a/Hady/9uv+r/zXildUFX+v+YVHrbhuwDAoMhZIb0EAsBgYU7I8JcBQGSZ8HB0/gJAXGfTJNcQBECHrrMEZ8oEQHocoEL3JwVAV5w+Cu4nBUCKMfKDS8oEQIcQKtSpEARAXPzcFjb+AkBBE+51opcBQN9k1y4jxv8/slODe/fP+z+qwSsfHF73P7+uQS0JhPI/5tTnb/6t6j8olefkqLbfP8x1jiDy/cI/KZyDeILTyb80orXnrpDhvzLh3s1FY+y/hd4fv55e878v8UZAnzj4v+Hf+yhkqvy/gdES5DpQAMCgyFkhvQQCwGBhTsjwlwFAmM0cUZRjA0As00vyW9kEQC4X8G3i8gVAyuusnlarBkB/HSuRkP8GQAmEG1cf7gZAkqg3V093BkBPCpr+KJ0FQH/fJ9lnYwRAvnANOGrPAkCqk+qtGegAQO3+Xo+Za/0/XoKTDUWE+D8RZzd5sC/zP5D7Wv9pCus/gqovTpB23j8Oyatwqy25P3iwIDa/AtK/j9wssrsE5b/kPwYH4Ffwv+Efzm2o5/W/QQgLjloZ+7+aOs0HNtb/v5/IWSG9BALAYGFOyPCXAUA612QrhMADQPyIDJGkkQVAVE2rnFwDB0DiQ/TZWA8IQHtOfXIDsQhAOQ1tQ5jlCEDOnkf7MKwIQJSLxwrJBQhAXd9/Vzn1BkC/rx/DK38FQMz6970GqgNApS8+PtF9AUCiUK4tHwj+PxDlW48zj/g/hn1d/Neo8j9R2s1XyN3oPyOkqvx38tc/nTejnL43or9BMchZ4H3cv2gf7yC3H+u/lbNXELTG87+hnIlQyaj5v1YnPVNWHP+/n8hZIb0EAsBgYU7I8JcBQOGFbFa9EwRA10CNXao2BkBFvUk0XPcHQMI3unclTglA3ZxOrCg1CkCkzaXucagKQFN120MIpgpAJex1PfYtCkCJZBvLSUIJQAUo2ToL5wdAHblnjysiBkBlF8p5avsDQKTmRmg0fAFAnNXOfvJe/T/ch5Tj+EL3P06uQ5E+v/A/KqykIJng4z+5OGMMq5/HPzW+PYu2XNC/5k/XqYQk5r+z0xrhtN7xv+ksiLe9Xvi/B8ot/eN1/r+fyFkhvQQCwGBhTsjwlwFAWDan/eFbBEB6Ewurt8UGQBz8Ro7fyghA7NZOZIBiCkDPPZyroIULQDAwHDFFLwxAiy7a4YZcDEDBOtaBnwwMQDjOVBDtQAtAMl3Nyuv8CUDnmLLoJkYIQLpV81IgJAZAbsaRwS+gA0D9n1vPWcUAQDpbB24/QPs/hksEGpF89D8OkZ+Yk7rqP7yw5JlvBtg/dNpCQ9pjt78+04T3GNPhvwVWIC2uN/C/o4eMHKNA978ZabiumuX9v5/IWSG9BALAYGFOyPCXAUBs79vfwpcEQL2AZydzPAdAVYeLkW16CUCEARb230cLQCgdnxblnAxAOfMMNKdzDUAv64edecgNQFAf7MjomQ1A8UM3rsDoDECBjRpKCbgLQHoD+lb5DApA6qqBdt/uB0ABMdkvAmcFQEzQqE53gAJArkbMqeaP/j+kFDCoI5f3P81Bq0MvNfA/iGS12L8U4T+XITI6ZgmnP8BR0GA1e9y/In8uTSSx7b8drdMjLFP2v/D2TurYbf2/n8hZIb0EAsBgYU7I8JcBQAOj4UlkxgRAFk/RuumYB0ALh8JLJAMKQFSplwCA+gtAC6sJBmB2DUD6+kxrRHAOQNA3g5rm4w5A0KdEE0zPDkAoRDgVzzIOQJtjxBQdEQ1AE5GbACtvC0CJ+oSLH1QJQJm+etkzyQZAZqZSGYvZA0CNI+e7AZIAQKQl4TzqAfo/D9uhPQls8j+Qg7W1NAflP4VmNYUIWsM/PBPDDDXm1r9OgFJkSY7rv2wQAP0+mvW/w49DFpYQ/b+fyFkhvQQCwGBhTsjwlwFAlzWlOALnBEBiN7a5ltkHQFCjUQ/FYgpAf3pqqXF3DEDpoYxLfw4OQAng+fj2IA9A8UOPdiaqD0Czz9HctKcPQNziB+CsGQ9A9TBWoXwCDkA2pK0J62YMQN6cKt0CTgpAu9GM4vPAB0DAc+Sl6soEQELCtobfeAFAanX7z7uy+z9P87n1iPjzP8gXaez+yec/btRk3fzbzD/oiSzGp/7SvzYPFlbGD+q/0z82/+QY9b+Zarw4Ws/8v5/IWSG9BALAYGFOyPCXAUC94RmRE/kEQNmgikZq/QdA5sID472XCkARb2y8p7wMQNZ0nHTDYg5ArP4LHdiCD0AGjcns+wsQQNBY07vKDxBAHmWAm4+ZD0AOuTxSMYgOQLiWbwYo8AxAA4YuA2/YCkA/xE7fMEoIQNn7ylafUAVAhEQvQsL4AUBCOaUFfaL8P4Wfwbsr1PQ/VJKxfINR6T+XATG3HxDRP0/lHC731NC/4JBNB+M76b/lbI3lPdH0v04S04c3q/y/n8hZIb0EAsBgYU7I8JcBQGqHjGBM/ARAYs+TyM0DCEC6abwbMKEKQDAWdkv/yAxArkJeSspxDkDSWX9nTJQPQEBVSZLGFRBA6XLo/XoaEEBAm/K1XbAPQL5CuR4JoA5AZAvqFKEIDUBB1EEhHvEKQOs4ye2pYghAiYVHI3doBUCmeqFckA8CQKah+Q0+zfw/b8DAUVb79D/s/n6mVJfpP1dwP2VWiNE/V6zPtTpy0L+Q9WokGhbpv9MPe+F2xPS/88bt6MWk/L+fyFkhvQQCwGBhTsjwlwFAsE/jG5/wBEAPyfBkpuwHQIIJdQT0fgpALnZIdUScDEAzk5miVDsOQMZHz3kKVQ9Awt4cBpTkD0C8c4WNfOcPQMaX01K3XQ9AYCpmzZ9JDkCw+91V768MQD6U5nSolwpANym9LvgJCEAqbfTRDRIFQCx3gvnpvAFAfL1iMUsy/D/xKNUUZG30P7y2vu9Mmug/DukzTlKpzz9orDxnEdjRv3J2iIEKn+m/eRzBqMXy9L9nNkByILz8v5/IWSG9BALAYGFOyPCXAUCirYvYPNYEQHT6fG9VuAdAv9IlhZkxCkAo8KA/MzcMQD0SPGlHwA1ABAFfOxzGDkBmFVLUNkQPQJOP2dZuOA9AXSyx3feiDkAAFYKZYIYNQPpDMZ2H5wtAMoiXCYbNCUCBcRB2kEEHQMtXEJ7OTgRAwwtghCoCAUAq9QrEL9T6PzuWP7GpLPM/tJv99ZNe5j+t2Vu4fvjHP5TceBSbANW/fFHFfnTU6r+wuaiTZ1v1v4R67/jk8Py/n8hZIb0EAsBgYU7I8JcBQHVuJ36UrQRAAhay0bZnB0AVa9zFZboJQPlz3oB0mwtA7TAT3qcCDUAmq7572ukNQJKB1KYXTQ5A4WHTrqwqDkBcWc9VMIMNQLLaFjyAWQxA//q+UrSyCkDSjxKMCJYIQIYoniu9DAZAfR2lQO4hA0CDcfz4xcT/P8SZ/nOruPg/k25EVms+8T88RHz3jO3iP2yJmwsMPbg/HL6MCpHe2b8i8Op7Q7Hsv5SCPs+k/PW/3vi3rTVC/b+fyFkhvQQCwGBhTsjwlwFA6yFc9FB3BEDE6UBuHfwGQH9J79dNGwlAl0gy5pbLCkA0nIgWkwUMQLdEJxXjwwxA1eM5RUUDDUB0Lk0EpMIMQBVvaWoaAwxABUgOcu/HCkCuREedhxYJQA85ulZN9gZANnImdpBwBEDRipx2XZABQPacMCKaxPw/7DLyHpro9T8uZh4mjVXtPwBVPbpeq9w/lDfcljOWnb+UDPfvvi7gv3p2nzOjLe+/D9sgltfT9r/zkU7BvK79v5/IWSG9BALAYGFOyPCXAUCJfWxUVjQEQMDojpBNdwZATBS/e+5WCEA0Fa8zBMsJQHgUFecwzQpAwnuluAlZC0Duf4UYKmwLQBzLdD8+BgtAzGbFnQQpCkAMfto3RtgIQMCHoxHGGQdASdKz8Sf1BEBItYLqznMCQKqB0XhoQf8/ZIzoiG4Q+T88bEGVzm/yP5LWTHMg+eY/UA0v1pNU0T+rAhRq6TjHvyDaA7oJMeS/pCUwUpAf8b8Y3YRRd933v7baLQGyNP6/n8hZIb0EAsBgYU7I8JcBQEuJZyq+5QNA8ll8f3XbBUBPoZslgXAHQC79ZevynQhAdLxta6JeCUCszdqjQ68JQI8MXWd1jglA2XMraMf8CEAx/5fCt/wHQCdB/RGokgZAv7zYP8rEBEA9oiFhBZsCQEbqtxjTHgBA4gcXLSy2+j8svY3S1Lf0P2t7Xc3Buew/OBJWXZsE3z+Scma/jBmwP3nBRJLoENe/ODoo207l6L+fC3f+auzyv7T6qXMnFfm/MsM3VeLR/r+fyFkhvQQCwGBhTsjwlwFAtvqr1dKMA0CgAKtSJCsFQN8c9W/OawZAO9Xgl1RJB0DYPNl27L8HQHYEn5WOzQdARNGpPP9xB0BwKbt5z64GQE81KUNWhwVAnx7w1qEABEC0uJ2VYSECQK2kLnSR4/8/csz53NT2+j/Qwvy2H5L1P9RSYKcjmu8/w1GcE+KB4z+nb3gP1EHMPx9aCYSKDsa/LV90G0wD4r8G2jwpyDfuv38UxGnQ9fS/Wq1Mzcl1+r9d4K7+uIP/v5/IWSG9BALAYGFOyPCXAUC/iy4cCisDQBa6zTA/aQRAq7nSMx5NBUBgKmoEwdIFQBK7Tkfe9wVAMVfIatO7BUCnX8Nupx8FQNXP0GQGJgRAu1TFuzXTAkDRKjyKAS0BQHGn4VNGdf4/Q/lTJkMJ+j98AqAFWCn1P2a2KTu+1e8/gNDQiaHJ5D+u1uV/e73SP1JU3Z1Rx7G/OBe6mB6V279JZp7ZhCPpv7jCizsLCfK/59oI4jAz979uOgcRlPn7vybf1DilIwDAoMhZIb0EAsBgYU7I8JcBQMnTUAf/wQJArzs4JPWYA0DgqmmKJRkEQEicfLpeQARATki45fQNBEDWH6LexIIDQL4OvVEwoQJAVVAGVxNtAUC3l8ITZ9f/PxnqAONRR/w/U6TiPYI5+D/jwJ3+ub/zP7/+Qd8n2+0/Wt862Fuw4z8HWoGEMVfSP44qcXPnUKi/XdypT41l2L8I6fV8ya7mv60Y/C+VZfC/6d5mz88t9b98+No0Ipv5vz03Mioomv2/HZeyTbCMAMCgyFkhvQQCwGBhTsjwlwFAtQcVJGtTAkBGuta4sb0CQG6DdwPz1AJAhagsJ8mYAkADCaurOwoCQIGA1Pq6KwFA1n6ksRUBAECRM1Dmzx79P8DfGQ0Kuvk/n6iiRLfi9T/Z1uO7qqnxP67ju2LHQuo/yWNE23i74D+ScfltmpzLP1IXhlgKebi/stlfDXj32b/PLTcoMbPmvy0zFoZ4BfC/QpcWpAdt9L9wxgb2+nz4v2JHv0KHI/y/EDr1AK9Q/78wY+4wRPsAwKDIWSG9BALAYGFOyPCXAUAkcw1DH+EBQIjazpsO2wFAyH2NY9mFAUCXNzrV9OIAQCFXzOVU6v8/w4DcoBeB/T8H1UKCwZT6P2fb42wgMvc/+o0Eagho8z/K0YxrJY7uP1UhDBWqwuU/d7hQpkko2T9au0bEa1a5Pz6M6AiKQMm/78x2Iklm378unYj5GtXov4y/IXUCx/C/bLPi2tbb9L8nUqAVKpf4v02o65mj6Pu/rVKTgrrB/r/FfIKd+ooAwML39RGQbQHAoMhZIb0EAsBgYU7I8JcBQJeogdb7bAFAA2c4ecT0AEDx86ZDWTEAQF43EWEkTP4/F894+QOv+z/lEVY+xJb4P51ZaGvzEPU//Hnwqf8s8T/r+iT05vfpP/klJhxWIOE/lqcr8x7ozz81MEgmBS+lvwjAcL+pO9W/4c6g0fG947+Ahx9xTovsvwKwtz+ub/K/9jr8i9BK9r9LImk9Ksb5vzHa8wF70vy/HuBO42hi/78tMzBhXbUAwEvwGMBEcQHAUMKBfrPhAcCgyFkhvQQCwGBhTsjwlwFATnbeDun4AECEYItXmw4AQOb4NOATuv0/A6nEm97S+j9xzxFOTnT3P+UXhjElrfM/1oZLUt8b7z9txmqId1HmP8QKJqIoQ9o/8r+Q3pujvT9yzdOggzLHv954Lc8OcN6/Rz24hH1k6L9ubvo46pTwv4W+GIrQsPS/yMZyJfJz+L8p0T5O1M37v0ocOUrJr/6/62ytVpiGAMA8t01U120BwKqqvLSsCQLAyvbF4W1XAsCZ9CRGxlUCwKDIWSG9BALAYGFOyPCXAUDC4ZnWzoYAQE1XCWW1WP4/RtU90AMd+z9X6h9ssmj3P2xgsRL7S/M/MpWlz8Gx7T/+R8/mwkXkP8GsKAh9+tQ/YouOkOBhkD8ZrF5XL/rSv6gY5H5nV+O/ILcpJrjg7L9JsbMNovfyv3Mlu8yvLfe/CAdgMBMA+7/O/p2nDl7+v0p4/kFxnADAyzT2yQbCAcBupF30wZoCwJIWIGztIgPAezy4vDRYA8Cnq8yGrjkDwCWJaX7gxwLAoMhZIb0EAsBgYU7I8JcBQGI7Pc+MGABAeM2jMHOj/D/JGV3Bfpb4PwU6q2r6G/Q/IJe+XQiP7j8m0Q4WiFzkPxZPmy49mtM/iKg+mFEenr8mi9/QOl3Xv8gtEc7VPOa/rtwksq828L8zPP4VzAn1v6SBZgCegvm/URHs3Y6N/b//EW2zdIwAwFCSBJiTCgLAZ+DeVZo6A8DO5Vs4VRcEwN2uRmb9nATAvG7abEnJBMA6mihEd5sEwJJw/6BPFATAhS/GhSI2A8CgyFkhvQQCwGBhTsjwlwFAkA+F4uRf/z/QvpYXngT7P1u1CVsiMfY/eeevYJX68D9GUueYme/mP4LpWbSwA9c/cHzCsr8Ecb9NMorCHpLXv4PADfcuQOe/vZMG3pcq8b+L4+N6w2v2v03h9CmWTPu/gIglybG3/78UB3Xq3cwBwLuQFBfZcAPASVslzZrABMCJq4tbZLYFwOdcVCcBTgbAFIB8F9mEBsACGNjx+1kGwHFMUnclzgXA5veFLbrjBMAg48DjvJ4DwKDIWSG9BALAYGFOyPCXAUBFMMDfbp3+Pz2zwdoFg/k/rSaL4gD38z9LV+P0VyPsPySzdmxps98/mknbPVU3uj+C4nhY5rvSv5IQl4yC3eW/sDW3VIIA8b8XZRT0psn2v49uuGTXMPy/eaw4ezSPAMDCCX3ZYr4CwMHve3VlnATAc7usgw4hBsAk2fmXt0UHwJtmwcZeBQjAy7/wk7xcCMBBfidQUkoIwOw196RwzgfAyJORMzbrBsCwffBLhqQFwMVSI+X3/wPAochZIb0EAsBgYU7I8JcBQOc+fwHp7P0/dEhPVP8k+D+QQC7ldvHxP98l2O3y2uY/vKrL30TW0j+rWt4DosbAv90nS7LNv+G/YEljGu0D779agv919eH1v89P4A734/u/ZAugQtW2AMAvRb7+ZjMDwN7dwGnMXAXAHeXhgo0pB8DJ4VAUyJEIwFjnbDtSjwnAQRRFaNUdCsDCfx1e4ToKwE7fvOH25QnARwK65okgCcDXBkAy++0HwBSzKY+JUwbAdctD1DpYBMChyFkhvQQCwGBhTsjwlwFAZx30SzlR/T8UQG/aSfD2P7lDVd4DKfA/75wtezAy4j9g99dBYfe9P1qa6y7zkNW/42b88Vwk6b9QZBdV7Irzv15DY8vsL/q/uLn/iQoyAMBqP/dXHAYDwKiJEzjIhwXA5REYfxOsB8DudnGFnGkJwEvCAr/DuArAKcdfH82TC8AEZDE4+fYLwGMNvaOV4AvA6pSncwRRC8CDpGSDukoKwEKFrLU00gjARLcZTOTtBsA1XAmvEqYEwKHIWSG9BALAYGFOyPCXAUDU1xst7sz8P1shjhb36fU/wnWa/UxK7T9NLELJTHncP94siMZbMaG/ie5oDdZh4L9bJEaFjWzvvxzBW46s+Pa/sGfgM1DY/b9qEW0JixsCwEUk5ICL/ATADM1ZQ42CB8DA9gSogqIJwKHO3gQdUwvAc1RBc/WMDMCO9QE8rUoNwGLTA10FiQ3AudU5wexGDcBZddDshIUMwDbGBwkdSAvArolwZSOUCcChRgquDXEHwP5+dT446ATAochZIb0EAsBgYU7I8JcBQDxb170zYvw/mj6YtlUW9T9WpCBXetjqPzXjgC7yFdY/EKEOToDaw79ZCtm7NObkvxc9JLD7PvK/ThHjlc28+b+YB1PI32UAwMAJBGVzpgPA/mFJwOKRBsBRHwrqYxsJwHk0aufZNwvA98Z1YAXeDMA1KKQhrQYOwKedxb+9rA7A2GjE01/NDsCu3NVsBGgOwLY+l4Jnfg3AWe9fXIgUDMAJ/g4PmDAKwAI4BV7e2gfAS70XdpUdBcChyFkhvQQCwGBhTsjwlwFAsqpboMoS/D+yLtlR33j0P8QEx3DWBuk/5T5RYStV0T8gQAtjaG3Pv0mu+tGYQui/WXGfaKYh9L+qAIfKrsv7v/55TrPpfgHArvrrnEfMBMDTky87er8HwGYIVp2VSwrATmZQYnFlDMDkt12Y2QMOwJqanwy3Hw/AVJUXWi60D8D3AgIwtb4PwKpFXnIdPw/ApwjnA5Y3DsDj4wU2oawMwO5lpQgBpQrA9r9kkJkpCMCQldUESkUFwKHIWSG9BALAYGFOyPCXAUDuiluiAOD7P1eLk80pFPQ/OrOvnQbd5z9qSj885pXMP/AGcUk0atO/TTWvpeFo6r/Tf5YGWlb1v0iAY22pHP2/HRFKgagyAsAc7vuTNIgFwBPV8jJegAjA0m4iriMOC8COpxNaVSYNwFOrbY/Gvw7AuTGb2nXTD8CS6sLVVS4QwBvFfn+HLBDAamdLp6/ID8CFdeQGBq4OwBkXbD7oDQ3AUDpr/XTvCsCjkYdS9FsIwHKl1QOvXgXAochZIb0EAsBgYU7I8JcBQKnI4UGryvs/4Jm3ftzp8z9QKvG47l/nP/o1Xk0hCMo/aMlMmjH41L9V+jYWBlDrv8VfbegE2PW/QA6N/zSq/b85YnKiKH4CwBvYi1ck1wXAm+891mPRCMBgkf5L3F8LwBbCXv1adw3AUZX9UrYOD8BrweH9eg8QwBBOTbq4URDAF330N/JMEMBWrLZhPAEQwNPt/7DF3w7AYChajcQ2DcCK3Jr2ug4LwF+K9fkacQjAlYYStFlpBcChyFkhvQQCwA==",
          "dtype": "f8",
          "shape": "50, 25"
         }
        },
        {
         "colorscale": [
          [
           0,
           "red"
          ],
          [
           1,
           "red"
          ]
         ],
         "name": "Predicted Ellipsoid",
         "opacity": 0.2,
         "showscale": false,
         "type": "surface",
         "x": {
          "bdata": "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",
          "dtype": "f8",
          "shape": "50, 25"
         },
         "y": {
          "bdata": "Uvd3W9zp+D/KKHz73q/6P8/E8pyV9fs/jDWtjG21/D+0Zgt5Huz8P7YtxtK4mPw/PO5C5qm8+z8MMHybtVv6PzXr3/fle/g/K3RhqnAl9j/bpZ0Vk2LzPzUTlXVlP/A/JITmykuT6T9RMuFa+CDiP7KD64HdkNQ//Ly3xmZgsT9abl9SmULIvyxZOl8sk9y/SwESnL5a5r8HCJi7ySDuv04GTFrVvPK/PHYJbJki9r/+7ntMzzL5v+qVxPUL4Pu/rbrf6JUe/r9S93db3On4P829hoiU9/k/QvSI8yeI+j9BV+9VHZn6Pz65dWcqKvo/IKaCIzU9+T+Mt3B4S9b3P9jbLYWR+/U/3b76sia18z/5tB0hAg3xPzk9w/yNHew/p1onHyOP5T+OnB8J9xbdPzeaeTtCxcw/QCiTYFvKh7+JDWFzoAnQv4xoxLxJPN+/AdU5XN4J57+rbrZ3eyfuv5qLD43oa/K/xrPha8l+9b+IVMei6T74v4u/5fU8oPq/6AC6aFaY/L+uut/olR7+v1L3d1vc6fg/oi5K/t45+T9WMVjX+w/5PwQUhGDqbPg/R1GU4HRT9z8Yo4EybMj1P38ORq2S0vM/XzeTiH568T+lCD6A6JTtP6oCjTRznOc/RGUMLsQl4T88nJ2kVprUP1pzUUgrhbk/95fo95xCwL8uSXJ45q3WvwzuXkdhguK/WqkZxIlz6b/5jrcqAgbwv2PgBYd2F/O/oo4QfrHg9b++G8PyflX4v8WXMpgca/q/eIIWEmkY/L8UkPbyC1b9v6663+iVHv6/Uvd3W9zp+D8ldqbO23n4P/xbIoc+k/c/fyLXqfY59j+WJY2f7HP0P9HmNTTlSPI/1RURH7+E7z8h7fg319bpP59sriTzoOM/JCAw+I382T+nzZZIjS/IP6DXKHqhfKG/sQAlNvea0L8qA9dPOevev3PWHxjUcOa/o+DTf40g7b+wotSPv7Pxv8hPThcVlfS/92PDpKkn97/qSlx8OGD5v29HyjMHNfu/S4nfThCe/L/SV0xiJpX9v5JImiIPFv6/rrrf6JUe/r9S93db3On4P1BTERqyuvc//hVsdDAY9j9bLyySgAn0PwvjHHall/E/qVfmCama7T+eHbw6jW3nPxnOtB0Fw+A/DPAnZ4dw0z/yWk3FC2GzPyVDb96qBcS/d9P7Sq/f2L+EitNAmL7jv9bdxjWqzeq/U63wEBG/8L+sIqGBWdnzv/zcYUgXqPa/TF9wJP4e+b8T4O2WQjP7v+cFnyvJ2/y/+4k6XU4R/r9ufIpmhs7+v9GdAnU0EP+/aGsv1zjV/r+uut/olR7+v1L3d1vc6fg/0LLRboX/9j+esQD8CqX0P7lAhwG85PE/OaksEEuV7T9RgMiyu8jmP8xW4fEjA98/K9Ha4Lt+zz8A5rH/qARCP7+9Tg04ts+/ghd81GGn379ZnuUdTovnvzzE7fiX8u6/OUkXV5D08r/QykEqNCj2vxLQnz8xBvm/wuILjfiB+78zbC83qZD9vy+Z0zdAKf+/yviW618iAMA1jKAlJ28AwIm1l3uleQDAGQG39qxBAMDpC2+CZZD/v6663+iVHv6/Uvd3W9zp+D854D2XaEv2PyPvOTzmP/M/lR4vcVep7z9QRMSAZTHoP87zBmqtOOA/E8CR/GeIzz9gN8UO2rmVv1NN+OUXo9K/ojIoe0Xj4b8WzJdjcj3qv9tGQ3y+HfG/B0ffizHd9L/pwGfEp0z4v/qq7uYUXfu/rBGK+wwB/r8r9tSNfxYAwJvtwg206wDAb9tcGn58AcDrW8d9Y8YBwG+leokgyAHAP44PoK2BAcBWYppWP/QAwEBvAS1BIgDAr7rf6JUe/r9S93db3On4P9Xwcq5QofU/5HwFd5/u8T8rI4Hg9sPrPyBQ6KdCGuM/or0GpSgM1D+gTSptCuaVP+xGZlwBg9G/LV+nB6Ui4r8kC3sqJ0vrvxfn3cx0CfK/EA9cULsp9r84O7tkVPT5vx6JgJikWP2/A1YAQegjAMD3vpnpfloBwEzE/9LFSgLACSwyhaDwAsDWokuFOEkDwCpBqMMJUwPAfKKxP+kNA8AaDTvEBXsCwHabNLninAHA8uZmIU13AMCvut/olR7+v1L3d1vc6fg/kZ3TsQgE9T/5xVZrwLbwPyzg8M22Keg/gIrzipDK3D9J+BHV9ivBPwzRWlSh48e/PnQRDHM54L8B6jBWuknqvzoBzMDU/vG/XKHMLGCV9r/uoEOoZtT6vxjGKcdOqf6/fg00+KcBAcAls/fw3WkCwMv8YH8fhwPAACeiJotUBMA8wKkcnc4EwIKka68+8wTAW/n3as/BBMAzRU3YJzsEwNod38iVYQPA7PYLP9I4AsCVkLYf8cUAwK+63+iVHv6/Uvd3W9zp+D/zPpDDJXb0P80fRxvQOu8/KqBi6rvp5D+WxBD7fkzUP/hP5B7wD5y/prn4kmn0178MXH8FQfbmv9h+42RD0vC/vVPGqx7r9b+1q7LEXq/6vzaRKLUiCv+/h5SNxyt0AcCjhab+hRwDwFG46jzddgTADSbedER9BcDtq4dDPisGwDA6BZvQfQbApg6FzJFzBsB/4Ya4rgwGwPGdSQrqSgXA263CgZQxBMD1keVtfsUCwOQ/2JbiDAHAr7rf6JUe/r9S93db3On4P/pxkU/8+fM/wZaMAmpO7T8GK/pyrxHiP7tcwLMGvMk/j5biCaCaxb9X2cP7djvhvwT1dl2Y2+y/ocwMAhAK9L8z7cDL81n5v3yuM+oyRv6/rcbOmJ5cAcAUutmvyk8DwLUD4TwT9ATAtjmrT0dCBsDIctsErzQHwNBSHJIkxwfAbSADcSb3B8DH7RZZ4sMHwEdC59g4LgfAuLBvfrk4BsAjy5yfl+cEwDg0FPSXQAPAYabXUPdKAcCvut/olR7+v1L3d1vc6fg/pE9nQJaR8z8fFIRaZLDrP2L71IgLW98/BpPHD2t5uj9c+ffz7mjSv115GRyYpuW/JFl7RVjo8L9BccAovL72vyvuqvHlPPy/6F8xJ2OlAMDGh1PiHOkCwHxMVdW03wTAzcRlhpGABsBfwsIBkcQHwERz0BcopgjAISV2pXohCcC/D2N8bDQJwMhVLKGq3gjAChjItqwhCMDseS2RrgAHwHm2QAuigAXA4VQWXhmoA8CMt2xYKn8BwK+63+iVHv6/Uvd3W9zp+D+tsmdtqj7zP+t+EXyLZ+o/Hn1gNZiO2z9gY4CLlnyaP0CBk/Xgc9i/T8HscgUp6b91pStzWeDyv4EFojDo5Pi/ddda8tKH/r8w14K0NNgBwIqI9YwJJATAHsQjLFkdBsCSxQcxfrsHwKg5FI9i9wjA6GcomJ7LCcBA72apkDQKwOg1OxNtMArAxCfh9kW/CcAHifv2CuMIwL21lLyAnwfAQUavdTD6BcAu+rKVT/oDwAeG7EGgqAHAr7rf6JUe/r9S93db3On4PxKOAWaVAvM/Uw9kt0V56T8cIeSg/M3YPyDQx+o9DZ+/hE/1br/U3L9PJHRz/rPrv7MVyyCJTfS/E3P9cYtz+r8mNrDTixgAwNgL0GWEtgLA002xzjgIBcDt5Px9gAMHwNuKw3KtnwjAT25hQLLVCcBUMqvyQKAKwAqmFEri+wrABu4K6gTnCsCFAAM3BGIKwNDCJ8YmbwnAJEaBZZQSCMDC0T7oQ1IGwBRW3gbhNQTAVZifxarGAcCvut/olR7+v1L3d1vc6fg/VXGPuFPe8j/IAWShfOnoPwwsRZ/KJNc/yZT7Bn1xsL9werfJInnfv0/Oc77SPO2/29CvPegp9b/7fw0/GmT7vxmi2zjcmADAuvkPvqs8A8DTcT1665EFwPl+wVZjjgfA265PHmApCcAyXKGY2VsKwEee1leRIAvAfaycsCl0C8CaS314NFULwAXrwkk5xArALgiAMbPDCcArk+PRBVgIwGSwcihqhwbAd1leTNNZBMC0plicy9gBwLC63+iVHv6/Uvd3W9zp+D8kH7jMfdLyP9I/iaGMuug/pB/sgP2Z1j859dwN5kazv0pmiuj3KuC/3amdEA+97b9p6jF02HH1vw2YuGehsvu/+VcISr/CAMAbIZHSdmgDwKQ99L7evgXA/5Qv57m7B8CsegZjU1YJwJKDIq2khwrAJ1QDaXRKC8CGOPJEbZsLwGFYvpMseQvA6GFNXkjkCsBysmvSTN8JwC6eGhqxbgjA8NE9zMOYBsD0CVVMj2UEwMxPRJK23gHAsLrf6JUe/r9S93db3On4P9/By2JF3/I/U3Y8BTvt6D+8RMW53C/XP9kj20mhN7C/KOxcYYZn379HQKxfmDLtvzVmh18rJPW/yWMb1NZd+7+BRKn0hJUAwBX5Z40tOQPA9BziqVWOBcDqd++axYoHwPxZ9E3KJQnAjVv5Z1tYCsCuQKQTOh0LwGSeI/sHcQvARxZpCVZSC8CDBxGyqsEKwGW2dKR/wQnAo4/68zZWCMBNrSLlB4YGwFQ8aLPjWATAb346x1LYAcCwut/olR7+v1L3d1vc6fg/0qmiwnQE8z+TIXrCsoDpPwB9s0zy49g/IK8b1yxCnb9giGal0LHcv41tP7S0n+u/I+HhgidC9L/R9xXwHmf6v/8Na1brEQDAl1k9s5avAsByiQVAHAEFwGk0rjlU/AbAesYX5JCYCMAPvM6NxM4JwCwKZnWgmQrAaOggCaz1CsC+UxYbVOEKwNTSNcfxXArA6+n17MhqCcDj7VlD/g4IwEXmxDKFTwbAhNEYxAU0BMB1Ck8Xu8UBwK+63+iVHv6/Uvd3W9zp+D+3qWydb0HzPxrMVfeHcuo/iLG6IxWv2z8gZfkMwCOdP8zE76EyQNi/aVNGmwEL6b+9t+7sgs/yv88FE9GG0vi/sfIYPDd0/r9tKMif9M0BwG/KtSSEGQTAGOAdhrwSBsB2B8jI+LAHwOWKWXoi7QjAh3UHvdDBCcBnb5/5XysKwAu/HNABKArATIz3AMW3CcB5EYcsldwIwLrDkWkymgfAtP/j1yD2BcDi5uF2kPcDwIMK6qk9pwHAr7rf6JUe/r9S93db3On4P4Dfu541lfM/vzOpF8K+6z/ARGYph4XfP4ZuH9RxV7s/+LQYVFol0r9dzSJXWH/lv1X8Qp5T0vC/XdqiLrOm9r+BAR7sQSP8vwBtqsb7lwDADXZF2lrbAsDEzg9p1NEEwBWzV37PcgbAeM87oSm3B8Du/AkVVpkIwK9ZZyh2FQnAV+HGKGopCcDIqu6v2tQIwH4vzCI6GQjAELsKW775BsBNjS6XUnsFwPkMze6BpAPAnm9CqVp9AcCvut/olR7+v1L3d1vc6fg/2AYBomb+8z8LTiae7F/tP+7jclKTK+I/ozCqolVDyj9vGnlY4vXEv1WfakWgC+G/BpeM6Oul7L9Y7X51xOzzv1Up3D6zOvm/1jU6QYYl/r+xANrF2UsBwJh//NHgPgPAuT3saU7jBMBifS778DEGwNkQab4OJQfALGPVy364B8DuiMhTu+kHwEafgKvstwfAhqrQ/ewjB8B6E4GPRDAGwOmcvqce4QTAZsYtTTc8A8Dy258nwkgBwK+63+iVHv6/Uvd3W9zp+D/KG8h6SHv0P9VDovotT+8/NvKxBNkH5T9Sk0rWL5vUPzjXj/MCE5a/Pm3ucSCF17/aTEsI07fmv6vfWGowsPC/T2/09cTG9b+WhsKMXYn6v1CWU3Mg4/6/1yC/kH9gAcAvCLzdBAkDwMKl8qDcYwTA1jP1mRdrBcBWXELGNBoGwGM2uBs1bgbAGcVjqKhlBsCOODDetAAGwBlk4u4TQQXAWNkuOw0qBMDzyA72ZsACwHhRPDtRCgHAr7rf6JUe/r9S93db3On4P7UbZzfOCfU/+MSaLjLC8D9LosaNjkvoP5hCyAIAI90/+eja+E4Dwj8Urm4+f+nGvwAuJuaT5t+/z89w+yP96b93VLmu+tXxv/wdyyaqava/yKHfw4+o+r8Maj8LF33+v+sNAoa86wDAdfH27YJUAsBqpld2snIDwHQg8o9lQQTA7Shq1hK9BMBS4gyOnOMEwE9qu+hZtATAMa5S6RkwBMBSrenYH1kDwGz3aV0ZMwLAg9HsXA7DAMCvut/olR7+v1L3d1vc6fg/eeWZv6Cn9T8LPJTyI/vxP2GlrgP76Os/eSd6059K4z863C1c7YHUPyC4bTq+cp4/jGg+yobp0L+/6sw24M7hv64yGb/J8eq/Rxoagr3a8b9OhvsQyPn1v99jKTn3w/m/WwAgWbEo/b+bb56bjAwAwNlIwY4nRAHAMCfJntQ1AsA+MO0ycd0CwAEcsR0fOAPAV13DLFFEA8ClLM300QEDwI2sb7vEcQLA4ztte6CWAcChbNMYJXQAwK+63+iVHv6/Uvd3W9zp+D+Its+qKFL2Pz/f/dFITfM/0XajXuzQ7z/b6JTPHGXoP0vs+ZKkd+A/qt0paXpW0D9AFLCg+u+Gv7WmLZfx79G/mBwRbraD4b8ObZ8Citnpv3+eD3F46vC/faIOPXqp9L+MGDS5YRn4v3V7crYgK/u/p4b+dEXR/b9XofvDGgAAwEETRlQw1wDAvLsATTVqAcDLnYqzpbYBwE18xrUyuwHAMHiyZMh3AcBIargLju0AwBiEOCPhHgDAr7rf6JUe/r9S93db3On4PyCN0CSZBvc/cw1IaBOz9D8yrXKse/nxP40Qoh6Dy+0/IwEC/L4K5z+aJU+sfpzfP5zZiRhta9A/YCZSMoiaiD8nCR8NfCXOv2LZ8Gjl1d6/lETVfssf57+U9QLcJ4buv1YcjwfPvvK/RvteD9Xz9b+A2Zm/GdT4v7M0xxEEU/u/8U8obaVl/b97JTiJ6QL/v5WYSBnfEQDAYDIDIplhAMBM/yGmRW8AwC9Tk8CoOgDAmDFwzFGJ/7+uut/olR7+v1L3d1vc6fg/h1PwsvvB9z/Y/2q6oyb2P734njneHvQ/zmGq6I+z8T9zXgj3ot7tP7lHcG+CvOc/+Gp4v5sb4T/GWYNx7zHUP1ZFWmFamrY/70un2ztWwr9YoOzSRALYv3ePnXbuTuO/R0S/+fRe6r9srpcwI4nwvwVU4JfEpfO/jgLLRb139r/ckI7TsvL4vwXLk/zHC/u/gQIONcy5/L83C63qY/X9vwyzF78ouf6/97MDL8EB/78xa1A+783+v6663+iVHv6/Uvd3W9zp+D8XzlWoPIH4PzZC5+jfofc/6UsOfphP9j9iQT4lMJD0PxPAHp5Oa/I/SafJRLDU7z/T14WFiDDqP5E8QLrbAuQ/VFUH+nPN2j9DRaDtXOTJP2gEUWxz9pS/mEQ4EbZxz796+FZXDAvev4x43S6gA+a/C0bofhq47L+3ugtFy4Lxv27ah3A8aPS/PRvnEbH/9r+ocXMSzz35v6IrGa7DGPu/31+oem6I/L+ZcYcAhYb9v5/w6kiuDv6/rrrf6JUe/r9S93db3On4P0pV+xQ4Qfk/6zEg1Y0e+T8EsilzdYL4P9aRzKqab/c/yVJGabHq9T9yF+MzYfrzPy46LQIop/E/syzmFmr27T+XVSNVeAToP1Z41jaFkuE/ANNGypd51T86hVmP5Am9P85ULFk1CL2/CyPeZmTU1b8em8gmXBriv0yFcS0IEum/Uxg7YrGy779v12gAqO/yv/LeS0dsvvW/L9uKKFk5+L/F+YyFkVX6v+OBThTXCfy/bGlF3LJO/b+uut/olR7+v1L3d1vc6fg/34ML+cb++T9n90JObZb6P6NYVRg3rvo/HZKTJLxF+j8ZudEYxl75PxK0zJ5I/fc/zeDYFFAn9j+666sP5+TzPwGATSHzP/E/jTzv/hKI7D9ag5GOePzlP45jDvKE890/Bz0i+Zd6zj8AZGVTKbdWP9rCQ+W4e86/GrX/SUh93r8Vy+M8YbLmv6F1/iqB2e2/onjAl1dK8r/m2sOuN2P1vyZTYeDPKfi/Z7wrm/eR+r/XOjX4I5H8v6663+iVHv6/Uvd3W9zp+D8TqByFzLb6P9ylsldSA/w/PhV2TL3J/D9YEsNFqAb9P8k5A24Iufw/CW55yDHi+z+SQOxf0YX6P52fqizdqfg/+QNy+HlW9j+yBpSy15XzP/r+mtAEdPA/sTLF/XL96T/cCe0QN4riPxQHxfXvXdU/zLnAp/twtD8Sywms39LGvxoXek296tu/sgGl164P5r/j7x2FKuDtv6xalI1LovK/i5ZArEkO9r/xDbyREiX5v6IWJGwe2fu/rbrf6JUe/r9S93db3On4PxKtly9DZvs/oOaGGj9f/T+AiuQpLMz+Pwpt3ufLpv8/ulPRtGDr/z8sweUpvpj/P+Aq5DxOsP4/7fW8Dgs2/T9F8+R/bTD7P5ua1NZQqPg/L47X9Muo9T+/ThnDAD/yP0MoZlnF8+w/XKtjQ+rT5D+k67sHDYTYP+LOEckeHbs/yds0s5OBxr/QtpgpLEXdv/+7gfd5e+e/+P946ycC8L9IIdLO2gv0vy3N584lyfe/ohGpwacp+7+tut/olR7+v1L3d1vc6fg/iztLaEkK/D9elA8VfaT+Px/Sx6GIVgBAeEcw2Y4NAUAO3naAL3QBQGFBUQ+piAFAUlWD1qFKAUB/9rWIKbsAQIQBuyhpuf8/7AkaxiJm/T9LEJ9ar4b6P4qSHVikJ/c/P5Z6EsZX8z/9ie4hjk/uP1ISitX9U+U/+E8AvWfI1z/ORL6bL0yxPwJhS624xc6/O+tIX32B4b8kvO1BrBvrv4sHJ7X1KvK/bx9f1OeD9r8pg/WIoYX6v6263+iVHv6/Uvd3W9zp+D8QCMe0LaD8P5QQfx61zf8/KuFik0MyAUBbTY4/piwCQCIaxNS50QJAvGhIQKseA0BSbtt6KRIDQCx+/ExrrAJABIDzXi7vAUBu6ruYr90AQIymb+Y5+f4/GKqV8QGk+z+ALEueUMr3P+wPVXwDffM/Ww/i/+Sd7T+yRprvOqnjPzhZsAlJj9I/Jq1jd1aWpb/T9SccqBbYv5akdahOn+a/dOnw0X9z8L84o+/Kr1r1v6O2eTy97/m/rbrf6JUe/r9S93db3On4P5nrlgJ6Jf0/fMTk7AJrAEApxTFGq/UBQJtTLFz1KwNAKLYvC5IIBEC+nlD+uocEQKK7HjhDpwRAjGRjmqBmBEAYvx5D7sYDQKFcabTnygJASVNy3Nx2AUAWww1kPqH/P4cswHDQvvs/VPSvs3NX9z/XhUdIcn7yPzDgNSUQkuo/uMPK8xY43z/fdKpCZivBP04rltHMv8y/lov9NRKi4r/wQqbYYNntv9UqpQ9fUvS/GtOp7nBq+b+tut/olR7+v1L3d1vc6fg//AXH//2X/T/LD64cjNwAQJkt8VaKnQJAmWAr/UoHBECiZBaAnRMFQALvY4/qvQVA6uriNUgDBkBWH/echuIFQJH7ej81XAVANPhFdaByBEA0ahhixykDQIf7BHRKhwFAXFoMfKUk/z98K2k15ab6P8r+/0AAqfU/rGXCF9RA8D/8HvZwHwzlP5C876kvR9I/O4dWBiseuL84rwJkd2nevy6hqJXkOeu/NpQSsExv87+2uHnx7Pf4v6263+iVHv6/Uvd3W9zp+D/m1zNO2PX9PyMnuN6YOQFApu9iHx8nA0CJptooDbsEQGi/y6x57gVAl8LGFCK8BkBatp2MgSAHQLK7OmzgGQdA9i9svVuoBkAg47K85M0FQAiHP1c4jgRAaIdjy87uAkABSi2zw/YAQFQBQ8RtXf0/lGfiPE1B+D9mnkm2h6/yP7pM4csEgek/MlkG1es42j8gjKaC1OqJP7h/iAZmy9i/+Zjhc5ET6b+GZf4rM7Xyv8vmDKMSmvi/rbrf6JUe/r9S93db3On4P9y9+Wp+Pf4/n98lEKKAAUAi14JMJ5ADQOeNQEFIRAVAL84nlo6VBkCyiN3zNH4HQCRd+0pA+gdAiqHHQ5EHCEC9ySyK7aUHQLdhN80A1wZAS327bVWeBUAjVi/8RAEEQEVAqcngBgJAgv5L5aVv/z8gm2PWcDz6PxZqY2XpivQ/5edXxf/n7D8DRd5mwSTgP3aq1rv3H7g/xERZQ42B1L8G+2G/cG/nv4z0IskgJ/K/1QBHhmxS+L+tut/olR7+v1L3d1vc6fg/lELKKMNt/j/xh0UXfbABQNUChV3p1gNAcrxZbLugBUAMB67nHQYHQHirEGLzAAhAFQikJfGMCEBKC7kAsqcIQAi3vcPAUAhA0CyKQpqJB0Db4UPQplUGQDmzYVIrugRA1KQxLDK+AkBZyvhnbGoAQLh1hUkXkvs/lj1G3yrL9T+pk/ovwzLvPx/Qqh+7L+I/++JO9vAYwz9w0I/q853RvzxMWXtoVOa/6qPjumrH8b8dfHbIJyL4v6y63+iVHv6/Uvd3W9zp+D+Sdeyh24X+P4KOvMpgyAFAuhWz4zv6A0CJtOYM4s4FQDUpzntOPgdA9xj9yTdCCEA0XK9+K9YIQHTojYmh9whApyRaWQemCEDhoO1dwuIHQOkWkuopsQZAZ6N7k3gWBUDj2X9GtRkDQGs+XIOUwwBA9FC+dKQ8/D/o9+/wCWv2PxPyE0rWK/A/G4Zcv8w04z+bBVE4+pvGP7gPKOa+LNC/qgChYh7H5b/HlvVTo5fxvyBJVE8PCvi/rLrf6JUe/r9S93db3On4P6yeHo1ihf4/Q0wdv+jHAUATF69kivkDQLRb9yP6zQVAERzFIDQ9B0B+u6LR70AIQJRrmYW71AhAKOiK2w/2CECTSN3VWqQIQCgB9FkC4QdAHguFEF6vBkC98ZzBqBQFQBfOcmzpFwNAsp5if9TBAEDOmMRtSzn8P1L36ZTmZ/Y/0RDoV/Yo8D83EPPdrC/jP0szwIdUisY/YNaiLf4z0L9G+7Be5Mnlv0UbNGuTmPG/BiAiZIgK+L+sut/olR7+v1L3d1vc6fg/TDVY51ls/j98hgTtFq8BQCKElMrX1ANAyMdhgAeeBUD1i3V50wIHQNAAotsg/QdAWrEpRaeICEDiUiePA6MIQKlZikLCSwhAtIDakWGEB0AR6BrPSlAGQOXJcXrDtARAC6sIK9a4AkA+Hkm3M2UAQPq6HkcaiPs/xMwi/M3B9T+5OBGumyHvP4El8AVxIOI/kzHHEkrkwj/AdU9Kk7PRvwhHG8euXOa/1KZlDzfK8b9miegJkSP4v6y63+iVHv6/Uvd3W9zp+D+6bW7rKjv+P8ZJ0KhTfgFAhAq4V76MA0A+gsCu0z8FQJDT6ukhkAZA78aY8Od3B0C3KQ2KLvMHQGSNU7zZ/wdAPe54CbKdB0AdCp1iZc4GQA22s8x/lQVA0T4v11v4A0AHeaEoC/4BQExPFxBvXv8/IOT71Pkr+j/KQXtWenv0Py0an8G4y+w/+T3LWY0L4D+GVjc0YnK3PxCiWdcxpdS/gi2NkhR9578/IM6XvSvyv/hQ0gXAVPi/rbrf6JUe/r9S93db3On4P8B9vlek8v0/Y/IS7Gs2AUCTajkebSIDQLeKO6rqtARAox3YjwHnBUAt1v0QdbMGQJZIjqLFFgdAX88NP0APB0AfFSLYBZ0GQPfBRMYKwgVAMGAiOQ6CBEDETyXOieICQCojEJWZ6gBAAr9m17lF/T/kMU5yoSr4P8DF71tHmvI/qpWjIxVa6T/e9b62g/PZPyDHBI+3coI/SF6B+3n82L9DrYd4WSbpvwXPSBGNu/K/8kCCmUad+L+tut/olR7+v1L3d1vc6fg/4vQgCfeT/T8C1vX3jdgAQAAxDQajlwJA318FXJT/A0AorwNYOQoFQAtRJwMCswVAToN9DQv3BUBgXl10KtUFQGiLwpv0TQVAcyBRxLljBEAhuCHpexoDQBP6uDHddwFANvYeig4G/z/4e3/TF4n6P3gej/l+jPU/wuOOxhsm8D+OgGDPKtvkP9TMCkjr79E/izatCLBKub8EtTJtLKfev5CTONmBUeu/yAeD+Uh387/RyR/o8/v4v6263+iVHv6/Uvd3W9zp+D+eN2v5sCD9P9RdsV5EZgBAU2VpdqfuAUCB2uAEyyIDQDoc5VFp/QNAqBAjxMR6BEBXSqhDuJgEQIkbC5/AVgRA0HMSyv61A0DjZwjsMrkCQIdZX1OwZAFArt7fBpV8/z8BOZped5r7P9oK7iIKNPc/Ru8uVpNc8j8mvNQ3kFLqP2A5F1C/w94/d5PRnwJcwD8uyj9mWHLNv/xvK5O7xuK/RMLHF3D17b8k+Ass3Fv0vxWH1fc5b/m/rbrf6JUe/r9S93db3On4P9bkiba2mvw/oITuEd/C/z8By23BQCoBQNtH/bguIgJAdxuIcvvEAkDn+F/U3Q8DQGwt0duNAQNAULLlOUqaAkCBrcpA19sBQJ40iyZ3yQBA4nwNfrfP/j8XlFHXI3r7P9gC6TXOoPc/TqTzl5JU8z9RxT6HiFDtP0IXP6O2YOM/CFJeEWwK0j9mon9xsUmpvyvrBy6bfNi/lrq5wizJ5r/GFdt1hYPwvywvgNeFZfW/3dm2OjT1+b+tut/olR7+v1L3d1vc6fg/fzCsbTsE/D+slRWle5j+P4spTHqoTQBAaWjFIvYBAUAMWsIGEWYBQNPOj6pCeAFAbvSjXDs4AUAoybGSE6cAQLA0XTqOjv8/HyadjFQ5/T8itz4Yslj6P0wWcn5B+fY/FT0a0Mgp8z9jwvSu8fXtP6p4zvhH/uQ/ROXeDLgn1z+cUKS/wP6tP9qJYvkezM+/QPsaRve54b9iOJkbD0rrv7NYHgS2PPK/IR5ZROmP9r81jpSDr4v6v6263+iVHv6/Uvd3W9zp+D+eC/Krt1/7P5hTX75EUv0/dEXvzfu4/j+qEGCZuY3/P0o7dEXazP8/Wq+xTkl1/z+qOpNEhoj+P1wyczmeCv0/m2HuAxoC+z/A9Xif4Xf4P7EwhSkVd/U//pUcJtwM8j9HbcHCV5DsP6RhrNQLc+Q/AKXhF7/K1z/ClXV0UWa4P3FdvHXTv8e/IP5olv/S3b/e7DvWhrjnv1hc9zk6G/C/VWbHKgsf9L81YA8rINb3vxazTkUzMPu/rbrf6JUe/r9S93db3On4P8sofPver/o/0MTynJX1+z+NNa2MbbX8P7ZmC3ke7Pw/uC3G0riY/D8+7kLmqbz7Pw8wfJu1W/o/N+vf9+V7+D8tdGGqcCX2P96lnRWTYvM/OBOVdWU/8D8qhObKS5PpP1cy4Vr4IOI/voPrgd2Q1D8kvbfGZmCxP0ZuX1KZQsi/Ilk6XyyT3L9HARKcvlrmvwMImLvJIO6/TQZMWtW88r87dglsmSL2v/3ue0zPMvm/6pXE9Qvg+7+tut/olR7+vw==",
          "dtype": "f8",
          "shape": "50, 25"
         },
         "z": {
          "bdata": "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",
          "dtype": "f8",
          "shape": "50, 25"
         }
        },
        {
         "line": {
          "color": "blue",
          "width": 4
         },
         "marker": {
          "color": "blue",
          "size": 4
         },
         "mode": "lines+markers",
         "name": "True Arrow",
         "type": "scatter3d",
         "x": [
          -0.27776917034684295,
          -4.056778274121867
         ],
         "y": [
          -0.16268613451220978,
          -3.940842891866946
         ],
         "z": [
          -0.026562068777323804,
          -3.4218066671659955
         ]
        },
        {
         "line": {
          "color": "blue",
          "width": 4
         },
         "marker": {
          "color": "blue",
          "size": 4
         },
         "mode": "lines+markers",
         "name": "True Arrow",
         "type": "scatter3d",
         "x": [
          -0.27776917034684295,
          0.3979397196143997
         ],
         "y": [
          -0.16268613451220978,
          -0.923073733980441
         ],
         "z": [
          -0.026562068777323804,
          0.06749692170119181
         ]
        },
        {
         "line": {
          "color": "blue",
          "width": 4
         },
         "marker": {
          "color": "blue",
          "size": 4
         },
         "mode": "lines+markers",
         "name": "True Arrow",
         "type": "scatter3d",
         "x": [
          -0.27776917034684295,
          -1.4824604612022507
         ],
         "y": [
          -0.16268613451220978,
          -0.9578972708533048
         ],
         "z": [
          -0.026562068777323804,
          2.199189808053731
         ]
        },
        {
         "line": {
          "color": "red",
          "width": 4
         },
         "marker": {
          "color": "red",
          "size": 4
         },
         "mode": "lines+markers",
         "name": "Predicted Arrow",
         "type": "scatter3d",
         "x": [
          -0.27776917034684295,
          0.9732690233558547
         ],
         "y": [
          -0.16268613451220978,
          0.7992304909875155
         ],
         "z": [
          -0.026562068777323804,
          -1.2754468658735763
         ]
        },
        {
         "line": {
          "color": "red",
          "width": 4
         },
         "marker": {
          "color": "red",
          "size": 4
         },
         "mode": "lines+markers",
         "name": "Predicted Arrow",
         "type": "scatter3d",
         "x": [
          -0.27776917034684295,
          2.3455514091819656
         ],
         "y": [
          -0.16268613451220978,
          -2.7965142976591824
         ],
         "z": [
          -0.026562068777323804,
          0.5726532003114213
         ]
        },
        {
         "line": {
          "color": "red",
          "width": 4
         },
         "marker": {
          "color": "red",
          "size": 4
         },
         "mode": "lines+markers",
         "name": "Predicted Arrow",
         "type": "scatter3d",
         "x": [
          -0.27776917034684295,
          0.8811576742500198
         ],
         "y": [
          -0.16268613451220978,
          1.5570947874238255
         ],
         "z": [
          -0.026562068777323804,
          2.4589733144471637
         ]
        }
       ],
       "layout": {
        "scene": {
         "xaxis": {
          "title": {
           "text": "X"
          }
         },
         "yaxis": {
          "title": {
           "text": "Y"
          }
         },
         "zaxis": {
          "title": {
           "text": "Z"
          }
         }
        },
        "template": {
         "data": {
          "bar": [
           {
            "error_x": {
             "color": "#2a3f5f"
            },
            "error_y": {
             "color": "#2a3f5f"
            },
            "marker": {
             "line": {
              "color": "#E5ECF6",
              "width": 0.5
             },
             "pattern": {
              "fillmode": "overlay",
              "size": 10,
              "solidity": 0.2
             }
            },
            "type": "bar"
           }
          ],
          "barpolar": [
           {
            "marker": {
             "line": {
              "color": "#E5ECF6",
              "width": 0.5
             },
             "pattern": {
              "fillmode": "overlay",
              "size": 10,
              "solidity": 0.2
             }
            },
            "type": "barpolar"
           }
          ],
          "carpet": [
           {
            "aaxis": {
             "endlinecolor": "#2a3f5f",
             "gridcolor": "white",
             "linecolor": "white",
             "minorgridcolor": "white",
             "startlinecolor": "#2a3f5f"
            },
            "baxis": {
             "endlinecolor": "#2a3f5f",
             "gridcolor": "white",
             "linecolor": "white",
             "minorgridcolor": "white",
             "startlinecolor": "#2a3f5f"
            },
            "type": "carpet"
           }
          ],
          "choropleth": [
           {
            "colorbar": {
             "outlinewidth": 0,
             "ticks": ""
            },
            "type": "choropleth"
           }
          ],
          "contour": [
           {
            "colorbar": {
             "outlinewidth": 0,
             "ticks": ""
            },
            "colorscale": [
             [
              0,
              "#0d0887"
             ],
             [
              0.1111111111111111,
              "#46039f"
             ],
             [
              0.2222222222222222,
              "#7201a8"
             ],
             [
              0.3333333333333333,
              "#9c179e"
             ],
             [
              0.4444444444444444,
              "#bd3786"
             ],
             [
              0.5555555555555556,
              "#d8576b"
             ],
             [
              0.6666666666666666,
              "#ed7953"
             ],
             [
              0.7777777777777778,
              "#fb9f3a"
             ],
             [
              0.8888888888888888,
              "#fdca26"
             ],
             [
              1,
              "#f0f921"
             ]
            ],
            "type": "contour"
           }
          ],
          "contourcarpet": [
           {
            "colorbar": {
             "outlinewidth": 0,
             "ticks": ""
            },
            "type": "contourcarpet"
           }
          ],
          "heatmap": [
           {
            "colorbar": {
             "outlinewidth": 0,
             "ticks": ""
            },
            "colorscale": [
             [
              0,
              "#0d0887"
             ],
             [
              0.1111111111111111,
              "#46039f"
             ],
             [
              0.2222222222222222,
              "#7201a8"
             ],
             [
              0.3333333333333333,
              "#9c179e"
             ],
             [
              0.4444444444444444,
              "#bd3786"
             ],
             [
              0.5555555555555556,
              "#d8576b"
             ],
             [
              0.6666666666666666,
              "#ed7953"
             ],
             [
              0.7777777777777778,
              "#fb9f3a"
             ],
             [
              0.8888888888888888,
              "#fdca26"
             ],
             [
              1,
              "#f0f921"
             ]
            ],
            "type": "heatmap"
           }
          ],
          "histogram": [
           {
            "marker": {
             "pattern": {
              "fillmode": "overlay",
              "size": 10,
              "solidity": 0.2
             }
            },
            "type": "histogram"
           }
          ],
          "histogram2d": [
           {
            "colorbar": {
             "outlinewidth": 0,
             "ticks": ""
            },
            "colorscale": [
             [
              0,
              "#0d0887"
             ],
             [
              0.1111111111111111,
              "#46039f"
             ],
             [
              0.2222222222222222,
              "#7201a8"
             ],
             [
              0.3333333333333333,
              "#9c179e"
             ],
             [
              0.4444444444444444,
              "#bd3786"
             ],
             [
              0.5555555555555556,
              "#d8576b"
             ],
             [
              0.6666666666666666,
              "#ed7953"
             ],
             [
              0.7777777777777778,
              "#fb9f3a"
             ],
             [
              0.8888888888888888,
              "#fdca26"
             ],
             [
              1,
              "#f0f921"
             ]
            ],
            "type": "histogram2d"
           }
          ],
          "histogram2dcontour": [
           {
            "colorbar": {
             "outlinewidth": 0,
             "ticks": ""
            },
            "colorscale": [
             [
              0,
              "#0d0887"
             ],
             [
              0.1111111111111111,
              "#46039f"
             ],
             [
              0.2222222222222222,
              "#7201a8"
             ],
             [
              0.3333333333333333,
              "#9c179e"
             ],
             [
              0.4444444444444444,
              "#bd3786"
             ],
             [
              0.5555555555555556,
              "#d8576b"
             ],
             [
              0.6666666666666666,
              "#ed7953"
             ],
             [
              0.7777777777777778,
              "#fb9f3a"
             ],
             [
              0.8888888888888888,
              "#fdca26"
             ],
             [
              1,
              "#f0f921"
             ]
            ],
            "type": "histogram2dcontour"
           }
          ],
          "mesh3d": [
           {
            "colorbar": {
             "outlinewidth": 0,
             "ticks": ""
            },
            "type": "mesh3d"
           }
          ],
          "parcoords": [
           {
            "line": {
             "colorbar": {
              "outlinewidth": 0,
              "ticks": ""
             }
            },
            "type": "parcoords"
           }
          ],
          "pie": [
           {
            "automargin": true,
            "type": "pie"
           }
          ],
          "scatter": [
           {
            "fillpattern": {
             "fillmode": "overlay",
             "size": 10,
             "solidity": 0.2
            },
            "type": "scatter"
           }
          ],
          "scatter3d": [
           {
            "line": {
             "colorbar": {
              "outlinewidth": 0,
              "ticks": ""
             }
            },
            "marker": {
             "colorbar": {
              "outlinewidth": 0,
              "ticks": ""
             }
            },
            "type": "scatter3d"
           }
          ],
          "scattercarpet": [
           {
            "marker": {
             "colorbar": {
              "outlinewidth": 0,
              "ticks": ""
             }
            },
            "type": "scattercarpet"
           }
          ],
          "scattergeo": [
           {
            "marker": {
             "colorbar": {
              "outlinewidth": 0,
              "ticks": ""
             }
            },
            "type": "scattergeo"
           }
          ],
          "scattergl": [
           {
            "marker": {
             "colorbar": {
              "outlinewidth": 0,
              "ticks": ""
             }
            },
            "type": "scattergl"
           }
          ],
          "scattermap": [
           {
            "marker": {
             "colorbar": {
              "outlinewidth": 0,
              "ticks": ""
             }
            },
            "type": "scattermap"
           }
          ],
          "scattermapbox": [
           {
            "marker": {
             "colorbar": {
              "outlinewidth": 0,
              "ticks": ""
             }
            },
            "type": "scattermapbox"
           }
          ],
          "scatterpolar": [
           {
            "marker": {
             "colorbar": {
              "outlinewidth": 0,
              "ticks": ""
             }
            },
            "type": "scatterpolar"
           }
          ],
          "scatterpolargl": [
           {
            "marker": {
             "colorbar": {
              "outlinewidth": 0,
              "ticks": ""
             }
            },
            "type": "scatterpolargl"
           }
          ],
          "scatterternary": [
           {
            "marker": {
             "colorbar": {
              "outlinewidth": 0,
              "ticks": ""
             }
            },
            "type": "scatterternary"
           }
          ],
          "surface": [
           {
            "colorbar": {
             "outlinewidth": 0,
             "ticks": ""
            },
            "colorscale": [
             [
              0,
              "#0d0887"
             ],
             [
              0.1111111111111111,
              "#46039f"
             ],
             [
              0.2222222222222222,
              "#7201a8"
             ],
             [
              0.3333333333333333,
              "#9c179e"
             ],
             [
              0.4444444444444444,
              "#bd3786"
             ],
             [
              0.5555555555555556,
              "#d8576b"
             ],
             [
              0.6666666666666666,
              "#ed7953"
             ],
             [
              0.7777777777777778,
              "#fb9f3a"
             ],
             [
              0.8888888888888888,
              "#fdca26"
             ],
             [
              1,
              "#f0f921"
             ]
            ],
            "type": "surface"
           }
          ],
          "table": [
           {
            "cells": {
             "fill": {
              "color": "#EBF0F8"
             },
             "line": {
              "color": "white"
             }
            },
            "header": {
             "fill": {
              "color": "#C8D4E3"
             },
             "line": {
              "color": "white"
             }
            },
            "type": "table"
           }
          ]
         },
         "layout": {
          "annotationdefaults": {
           "arrowcolor": "#2a3f5f",
           "arrowhead": 0,
           "arrowwidth": 1
          },
          "autotypenumbers": "strict",
          "coloraxis": {
           "colorbar": {
            "outlinewidth": 0,
            "ticks": ""
           }
          },
          "colorscale": {
           "diverging": [
            [
             0,
             "#8e0152"
            ],
            [
             0.1,
             "#c51b7d"
            ],
            [
             0.2,
             "#de77ae"
            ],
            [
             0.3,
             "#f1b6da"
            ],
            [
             0.4,
             "#fde0ef"
            ],
            [
             0.5,
             "#f7f7f7"
            ],
            [
             0.6,
             "#e6f5d0"
            ],
            [
             0.7,
             "#b8e186"
            ],
            [
             0.8,
             "#7fbc41"
            ],
            [
             0.9,
             "#4d9221"
            ],
            [
             1,
             "#276419"
            ]
           ],
           "sequential": [
            [
             0,
             "#0d0887"
            ],
            [
             0.1111111111111111,
             "#46039f"
            ],
            [
             0.2222222222222222,
             "#7201a8"
            ],
            [
             0.3333333333333333,
             "#9c179e"
            ],
            [
             0.4444444444444444,
             "#bd3786"
            ],
            [
             0.5555555555555556,
             "#d8576b"
            ],
            [
             0.6666666666666666,
             "#ed7953"
            ],
            [
             0.7777777777777778,
             "#fb9f3a"
            ],
            [
             0.8888888888888888,
             "#fdca26"
            ],
            [
             1,
             "#f0f921"
            ]
           ],
           "sequentialminus": [
            [
             0,
             "#0d0887"
            ],
            [
             0.1111111111111111,
             "#46039f"
            ],
            [
             0.2222222222222222,
             "#7201a8"
            ],
            [
             0.3333333333333333,
             "#9c179e"
            ],
            [
             0.4444444444444444,
             "#bd3786"
            ],
            [
             0.5555555555555556,
             "#d8576b"
            ],
            [
             0.6666666666666666,
             "#ed7953"
            ],
            [
             0.7777777777777778,
             "#fb9f3a"
            ],
            [
             0.8888888888888888,
             "#fdca26"
            ],
            [
             1,
             "#f0f921"
            ]
           ]
          },
          "colorway": [
           "#636efa",
           "#EF553B",
           "#00cc96",
           "#ab63fa",
           "#FFA15A",
           "#19d3f3",
           "#FF6692",
           "#B6E880",
           "#FF97FF",
           "#FECB52"
          ],
          "font": {
           "color": "#2a3f5f"
          },
          "geo": {
           "bgcolor": "white",
           "lakecolor": "white",
           "landcolor": "#E5ECF6",
           "showlakes": true,
           "showland": true,
           "subunitcolor": "white"
          },
          "hoverlabel": {
           "align": "left"
          },
          "hovermode": "closest",
          "mapbox": {
           "style": "light"
          },
          "paper_bgcolor": "white",
          "plot_bgcolor": "#E5ECF6",
          "polar": {
           "angularaxis": {
            "gridcolor": "white",
            "linecolor": "white",
            "ticks": ""
           },
           "bgcolor": "#E5ECF6",
           "radialaxis": {
            "gridcolor": "white",
            "linecolor": "white",
            "ticks": ""
           }
          },
          "scene": {
           "xaxis": {
            "backgroundcolor": "#E5ECF6",
            "gridcolor": "white",
            "gridwidth": 2,
            "linecolor": "white",
            "showbackground": true,
            "ticks": "",
            "zerolinecolor": "white"
           },
           "yaxis": {
            "backgroundcolor": "#E5ECF6",
            "gridcolor": "white",
            "gridwidth": 2,
            "linecolor": "white",
            "showbackground": true,
            "ticks": "",
            "zerolinecolor": "white"
           },
           "zaxis": {
            "backgroundcolor": "#E5ECF6",
            "gridcolor": "white",
            "gridwidth": 2,
            "linecolor": "white",
            "showbackground": true,
            "ticks": "",
            "zerolinecolor": "white"
           }
          },
          "shapedefaults": {
           "line": {
            "color": "#2a3f5f"
           }
          },
          "ternary": {
           "aaxis": {
            "gridcolor": "white",
            "linecolor": "white",
            "ticks": ""
           },
           "baxis": {
            "gridcolor": "white",
            "linecolor": "white",
            "ticks": ""
           },
           "bgcolor": "#E5ECF6",
           "caxis": {
            "gridcolor": "white",
            "linecolor": "white",
            "ticks": ""
           }
          },
          "title": {
           "x": 0.05
          },
          "xaxis": {
           "automargin": true,
           "gridcolor": "white",
           "linecolor": "white",
           "ticks": "",
           "title": {
            "standoff": 15
           },
           "zerolinecolor": "white",
           "zerolinewidth": 2
          },
          "yaxis": {
           "automargin": true,
           "gridcolor": "white",
           "linecolor": "white",
           "ticks": "",
           "title": {
            "standoff": 15
           },
           "zerolinecolor": "white",
           "zerolinewidth": 2
          }
         }
        },
        "title": {
         "text": "True vs Predicted Polarizability Comparison"
        }
       }
      }
     },
     "metadata": {},
     "output_type": "display_data"
    }
   ],
   "source": [
    "compare_polarizabilities(\n",
    "                atoms,\n",
    "                real_part_true_denorm,\n",
    "                real_part_predicted_denorm\n",
    "            )"
   ]
  },
  {
   "cell_type": "code",
   "execution_count": 39,
   "metadata": {},
   "outputs": [
    {
     "ename": "NameError",
     "evalue": "name 'real_part_predicted' is not defined",
     "output_type": "error",
     "traceback": [
      "\u001b[0;31m---------------------------------------------------------------------------\u001b[0m",
      "\u001b[0;31mNameError\u001b[0m                                 Traceback (most recent call last)",
      "Cell \u001b[0;32mIn[39], line 4\u001b[0m\n\u001b[1;32m      1\u001b[0m compare_polarizabilities(\n\u001b[1;32m      2\u001b[0m                 atoms,\n\u001b[1;32m      3\u001b[0m                 np\u001b[38;5;241m.\u001b[39marray(real_part_true\u001b[38;5;241m.\u001b[39mcpu()\u001b[38;5;241m.\u001b[39mdetach()),\n\u001b[0;32m----> 4\u001b[0m                 np\u001b[38;5;241m.\u001b[39marray(\u001b[43mreal_part_predicted\u001b[49m\u001b[38;5;241m.\u001b[39mcpu()\u001b[38;5;241m.\u001b[39mdetach())\n\u001b[1;32m      5\u001b[0m             )\n",
      "\u001b[0;31mNameError\u001b[0m: name 'real_part_predicted' is not defined"
     ]
    }
   ],
   "source": [
    "compare_polarizabilities(\n",
    "                atoms,\n",
    "                np.array(real_part_true.cpu().detach()),\n",
    "                np.array(real_part_predicted.cpu().detach())\n",
    "            )"
   ]
  },
  {
   "cell_type": "code",
   "execution_count": null,
   "metadata": {},
   "outputs": [],
   "source": []
  }
 ],
 "metadata": {
  "kernelspec": {
   "display_name": "pyg_conda",
   "language": "python",
   "name": "python3"
  },
  "language_info": {
   "codemirror_mode": {
    "name": "ipython",
    "version": 3
   },
   "file_extension": ".py",
   "mimetype": "text/x-python",
   "name": "python",
   "nbconvert_exporter": "python",
   "pygments_lexer": "ipython3",
   "version": "3.10.13"
  }
 },
 "nbformat": 4,
 "nbformat_minor": 2
}
